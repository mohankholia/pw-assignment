{
 "cells": [
  {
   "cell_type": "markdown",
   "id": "ce35420b-99d0-4917-aceb-55aa8caf0910",
   "metadata": {},
   "source": [
    "## Q1. Calculate the 95% confidence interval for a sample of data with a mean of 50 and a standard deviation of 5 using Python. Interpret the results."
   ]
  },
  {
   "cell_type": "code",
   "execution_count": 2,
   "id": "ea833c0a-3c7b-4f34-8441-7d4845390119",
   "metadata": {},
   "outputs": [
    {
     "name": "stdout",
     "output_type": "stream",
     "text": [
      "95% Confidence Interval: (49.01, 50.99)\n"
     ]
    }
   ],
   "source": [
    "from scipy import stats\n",
    "\n",
    "# Set the sample mean and standard deviation\n",
    "sample_mean = 50\n",
    "sample_std = 5\n",
    "\n",
    "# Set the sample size\n",
    "sample_size = 100\n",
    "\n",
    "# Calculate the standard error\n",
    "std_error = sample_std / (sample_size ** 0.5)\n",
    "\n",
    "# Calculate the t-value for a 95% confidence level with n-1 degrees of freedom\n",
    "t_value = stats.t.ppf(0.975, sample_size - 1)\n",
    "\n",
    "# Calculate the confidence interval\n",
    "lower = sample_mean - t_value * std_error\n",
    "upper = sample_mean + t_value * std_error\n",
    "\n",
    "# Print the results\n",
    "print(f\"95% Confidence Interval: ({lower:.2f}, {upper:.2f})\")"
   ]
  },
  {
   "cell_type": "markdown",
   "id": "ad54bca2-60d4-44b8-a3d4-272fa34171f0",
   "metadata": {},
   "source": [
    "## Q2. Conduct a chi-square goodness of fit test to determine if the distribution of colors of M&Ms in a bagmatches the expected distribution of 20% blue, 20% orange, 20% green, 10% yellow, 10% red, and 20%brown. Use Python to perform the test with a significance level of 0.05."
   ]
  },
  {
   "cell_type": "code",
   "execution_count": 6,
   "id": "10ee4c65-e02d-4790-8b47-a0832070d584",
   "metadata": {},
   "outputs": [
    {
     "name": "stdout",
     "output_type": "stream",
     "text": [
      "Chi-square test statistic: 3.33\n",
      "P-value: 0.65\n",
      "Accept the null hypothesis\n"
     ]
    }
   ],
   "source": [
    "\n",
    "\n",
    "from scipy import stats\n",
    "import numpy as np\n",
    "\n",
    "# Set the observed frequencies\n",
    "observed = np.array([30, 22, 18, 12, 12, 26])\n",
    "\n",
    "# Set the expected frequencies\n",
    "expected = np.array([0.2, 0.2, 0.2, 0.1, 0.1, 0.2]) * sum(observed)\n",
    "\n",
    "# Conduct the chi-square test\n",
    "chi_sq, p_value = stats.chisquare(observed, expected)\n",
    "\n",
    "# Print the results\n",
    "print(f\"Chi-square test statistic: {chi_sq:.2f}\")\n",
    "print(f\"P-value: {p_value:.2f}\")\n",
    "\n",
    "si=0.05\n",
    "dof=len(observed)-1\n",
    "ci=stats.chi2.ppf((1-si),dof)\n",
    "if(chi_sq>ci):\n",
    "    print(\"Reject the null hypothesis\")\n",
    "else:\n",
    "    print(\"Accept the null hypothesis\")"
   ]
  },
  {
   "cell_type": "markdown",
   "id": "3306c63f-ca9c-4fc4-82b4-3893a7f04b87",
   "metadata": {},
   "source": [
    "## Q3. Use Python to calculate the chi-square statistic and p-value for a contingency table with the following data:\n",
    "   \n",
    "##                  Group A   Group B\n",
    "\n",
    "## Outcome 1    20        15\n",
    "## Outcome 2    10        25\n",
    "## Outcome 3    15        20"
   ]
  },
  {
   "cell_type": "code",
   "execution_count": 18,
   "id": "120cf8a8-22ab-4db8-ae73-ff1dd77af7c0",
   "metadata": {},
   "outputs": [
    {
     "data": {
      "text/plain": [
       "(5.833333333333334, 0.05411376622282158)"
      ]
     },
     "execution_count": 18,
     "metadata": {},
     "output_type": "execute_result"
    }
   ],
   "source": [
    "from scipy import stats as stat\n",
    "import numpy as np\n",
    "observed=[[20,15],[10,25],[15,20]]\n",
    "chi_sq,pvalue,dof,expected=stat.chi2_contingency(observed)\n",
    "chi_sq,pvalue\n"
   ]
  },
  {
   "cell_type": "markdown",
   "id": "d90ea2bb-6376-4723-90cb-b6e12de596d4",
   "metadata": {},
   "source": [
    "## Q4. A study of the prevalence of smoking in a population of 500 individuals found that 60 individualssmoked. Use Python to calculate the 95% confidence interval for the true proportion of individuals in the population who smoke."
   ]
  },
  {
   "cell_type": "markdown",
   "id": "7795fdee-f40d-445c-9e98-fac2da953d38",
   "metadata": {},
   "source": [
    "import statsmodels.stats.proportion as prop\n",
    "\n",
    "# Set the sample size and number of successes\n",
    "n = 500\n",
    "successes = 60\n",
    "\n",
    "# Calculate the sample proportion\n",
    "sample_prop = successes / n\n",
    "\n",
    "# Calculate the confidence interval\n",
    "conf_int = prop.proportion_confint(successes, n, alpha=0.05)\n",
    "\n",
    "# Print the results\n",
    "print(f\"95% Confidence Interval: ({conf_int[0]:.3f}, {conf_int[1]:.3f})\")\n"
   ]
  },
  {
   "cell_type": "markdown",
   "id": "c4afcb77-1abb-46da-acd3-017943463474",
   "metadata": {},
   "source": [
    "## Q5. Calculate the 90% confidence interval for a sample of data with a mean of 75 and a standard deviation of 12 using Python. Interpret the results."
   ]
  },
  {
   "cell_type": "code",
   "execution_count": 20,
   "id": "dcaaf59d-d9a8-44d0-8c0b-f7594a342743",
   "metadata": {},
   "outputs": [
    {
     "name": "stdout",
     "output_type": "stream",
     "text": [
      "90% Confidence Interval: (73.026, 76.974)\n"
     ]
    }
   ],
   "source": [
    "from scipy import stats\n",
    "\n",
    "# Set the sample mean and standard deviation\n",
    "sample_mean = 75\n",
    "sample_std = 12\n",
    "\n",
    "# Set the sample size\n",
    "n = 100\n",
    "\n",
    "# Calculate the standard error\n",
    "std_err = sample_std / (n ** 0.5)\n",
    "\n",
    "# Calculate the confidence interval\n",
    "conf_int = stats.norm.interval(0.9, loc=sample_mean, scale=std_err)\n",
    "\n",
    "# Print the results\n",
    "print(f\"90% Confidence Interval: ({conf_int[0]:.3f}, {conf_int[1]:.3f})\")\n"
   ]
  },
  {
   "cell_type": "markdown",
   "id": "25a98d60-ed1b-4ea1-9657-b10f79f1e51b",
   "metadata": {},
   "source": [
    "## Q6. Use Python to plot the chi-square distribution with 10 degrees of freedom. Label the axes and shade the area corresponding to a chi-square statistic of 15."
   ]
  },
  {
   "cell_type": "code",
   "execution_count": 21,
   "id": "7937ad24-218c-4cd0-a5bc-b977dd39b398",
   "metadata": {},
   "outputs": [
    {
     "data": {
      "image/png": "[encoded data removed]",
      "text/plain": [
       "<Figure size 1000x500 with 1 Axes>"
      ]
     },
     "metadata": {},
     "output_type": "display_data"
    }
   ],
   "source": [
    "\n",
    "import numpy as np\n",
    "import matplotlib.pyplot as plt\n",
    "from scipy.stats import chi2\n",
    "\n",
    "# Set the degrees of freedom\n",
    "df = 10\n",
    "\n",
    "# Set the x-axis values\n",
    "x = np.linspace(chi2.ppf(0.001, df), chi2.ppf(0.999, df), 1000)\n",
    "\n",
    "# Plot the chi-square distribution\n",
    "fig, ax = plt.subplots(figsize=(10, 5))\n",
    "ax.plot(x, chi2.pdf(x, df), 'b-', lw=2, label='chi2 pdf')\n",
    "\n",
    "# Shade the area corresponding to a chi-square statistic of 15\n",
    "x_shade = np.linspace(chi2.ppf(0.01, df), 15, 1000)\n",
    "ax.fill_between(x_shade, chi2.pdf(x_shade, df), alpha=0.5, color='r')\n",
    "\n",
    "# Add axis labels and title\n",
    "ax.set_xlabel('Chi-Square Statistic')\n",
    "ax.set_ylabel('Probability Density')\n",
    "ax.set_title('Chi-Square Distribution with 10 Degrees of Freedom')\n",
    "\n",
    "# Show the plot\n",
    "plt.show()\n"
   ]
  },
  {
   "cell_type": "markdown",
   "id": "40d0f787-0f70-46f5-a0c2-43f1644479f8",
   "metadata": {},
   "source": [
    "## Q7. A random sample of 1000 people was asked if they preferred Coke or Pepsi. Of the sample, 520preferred Coke. Calculate a 99% confidence interval for the true proportion of people in the population who prefer Coke."
   ]
  },
  {
   "cell_type": "code",
   "execution_count": 22,
   "id": "d5cfdcbc-ccbb-42ab-88d7-5f5fbab0ac7f",
   "metadata": {},
   "outputs": [
    {
     "name": "stdout",
     "output_type": "stream",
     "text": [
      "99% Confidence Interval: (0.479, 0.561)\n"
     ]
    }
   ],
   "source": [
    "import statsmodels.api as sm\n",
    "\n",
    "# Set the sample size and number of individuals who prefer Coke\n",
    "n = 1000\n",
    "n_coke = 520\n",
    "\n",
    "# Calculate the sample proportion\n",
    "p = n_coke / n\n",
    "\n",
    "# Set the confidence level\n",
    "alpha = 0.01\n",
    "\n",
    "# Calculate the confidence interval\n",
    "conf_int = sm.stats.proportion_confint(n_coke, n, alpha=alpha, method='normal')\n",
    "\n",
    "# Print the results\n",
    "print(f\"99% Confidence Interval: ({conf_int[0]:.3f}, {conf_int[1]:.3f})\")\n"
   ]
  },
  {
   "cell_type": "markdown",
   "id": "2cb1c89a-5aa6-45fc-928b-d33352257267",
   "metadata": {},
   "source": [
    "## Q8. A researcher hypothesizes that a coin is biased towards tails. They flip the coin 100 times and observe 45 tails. Conduct a chi-square goodness of fit test to determine if the observed frequencies match the expected frequencies of a fair coin. Use a significance level of 0.05."
   ]
  },
  {
   "cell_type": "code",
   "execution_count": 29,
   "id": "988bd843-5823-4b9e-b7f1-8551805750ed",
   "metadata": {},
   "outputs": [
    {
     "name": "stdout",
     "output_type": "stream",
     "text": [
      "Accept the null hypothesis\n"
     ]
    },
    {
     "data": {
      "text/plain": [
       "1.0"
      ]
     },
     "execution_count": 29,
     "metadata": {},
     "output_type": "execute_result"
    }
   ],
   "source": [
    "import numpy as np\n",
    "from scipy import stats as st\n",
    "\n",
    "# Set the expected frequencies for a fair coin\n",
    "expected_freq = [50, 50]\n",
    "\n",
    "# Set the observed frequencies\n",
    "observed_freq = [55, 45]\n",
    "\n",
    "# Calculate the chi-square statistic and p-value\n",
    "chi2_statistic, p_value = st.chisquare(observed_freq, expected_freq)\n",
    "si=0.05\n",
    "dof=len(expected_freq)-1\n",
    "ci=st.chi2.ppf((si-1),dof)\n",
    "if chi2_statistic>ci:\n",
    "    print(\"Reject the null hypothesis\")\n",
    "else:\n",
    "    print(\"Accept the null hypothesis\")\n",
    "p_value    \n",
    "chi2_statistic"
   ]
  },
  {
   "cell_type": "markdown",
   "id": "f5e9a1ca-e2d6-4f5e-a0d8-0cdd654d94e8",
   "metadata": {},
   "source": [
    "## Q9. A study was conducted to determine if there is an association between smoking status (smoker ornon-smoker) and lung cancer diagnosis (yes or no). The results are shown in the contingency table below.Conduct a chi-square test for independence to determine if there is a significant association between smoking status and lung cancer diagnosis.\n",
    "## Lung Cancer: Yes       No\n",
    "## Smoker       60        140\n",
    "## Non-smoker   30          170"
   ]
  },
  {
   "cell_type": "code",
   "execution_count": 15,
   "id": "72f7ee38-bc73-4a51-aa5f-afdd13707656",
   "metadata": {},
   "outputs": [
    {
     "name": "stdout",
     "output_type": "stream",
     "text": [
      "Chi-Square Statistic: 12.057\n",
      "P-value: 0.001\n",
      "Degrees of Freedom: 1\n",
      "Expected Frequencies:\n",
      " [[ 45. 155.]\n",
      " [ 45. 155.]]\n",
      "Reject the null hypothesis\n"
     ]
    }
   ],
   "source": [
    "import numpy as np\n",
    "from scipy import stats\n",
    "\n",
    "# Set up the contingency table\n",
    "observed = np.array([[60, 140], [30, 170]])\n",
    "\n",
    "# Calculate the expected frequencies assuming independence\n",
    "n = observed.sum()\n",
    "expected = np.outer(observed.sum(axis=1), observed.sum(axis=0)) / n\n",
    "\n",
    "# Calculate the chi-square statistic and p-value\n",
    "chi2_statistic, p_value, dof, expected_freq = stats.chi2_contingency(observed)\n",
    "\n",
    "# Print the results\n",
    "print(f\"Chi-Square Statistic: {chi2_statistic:.3f}\")\n",
    "print(f\"P-value: {p_value:.3f}\")\n",
    "print(f\"Degrees of Freedom: {dof}\")\n",
    "print(\"Expected Frequencies:\\n\", expected_freq)\n",
    "\n",
    "if p_value < 0.05:\n",
    "    print(\"Reject the null hypothesis\")\n",
    "else:\n",
    "    print(\"Fail to reject the null hypothesis\")\n"
   ]
  },
  {
   "cell_type": "markdown",
   "id": "a4b98a8c-1ab6-4a85-b4a4-663bfce123bf",
   "metadata": {},
   "source": [
    "## Q10. A study was conducted to determine if the proportion of people who prefer milk chocolate, darkchocolate, or white chocolate is different in the U.S. versus the U.K. A random sample of 500 people from the U.S. and a random sample of 500 people from the U.K. were surveyed. The results are shown in the contingency table below. Conduct a chi-square test for independence to determine if there is a significant association between chocolate preference and country of origin.\n",
    "si=0.01\n",
    "              Milk Chocolate Dark Chocolate White Chocolate\n",
    "U.S. (n=500)    200              150           150\n",
    "U.K. (n=500)    225              175           100\n",
    " "
   ]
  },
  {
   "cell_type": "code",
   "execution_count": 21,
   "id": "1b084ff1-e76c-465a-866e-56a9ff367dde",
   "metadata": {},
   "outputs": [
    {
     "name": "stdout",
     "output_type": "stream",
     "text": [
      "reject  the null hypothesis\n"
     ]
    }
   ],
   "source": [
    "observed=[[200,150,150],[225,175,100]]\n",
    "chisq,pvalue,dof,expected=stat.chi2_contingency(observed)\n",
    "si=0.01\n",
    "ci=stat.chi2.ppf((1-si),dof)\n",
    "if(chisq>si):\n",
    "    print(\"reject  the null hypothesis\")\n",
    "else:\n",
    "    print(\"Accept the null hypothesis\")"
   ]
  },
  {
   "cell_type": "markdown",
   "id": "4a9e5bb7-a761-4bd0-9de8-26f0bb59113c",
   "metadata": {},
   "source": [
    "## Q11. A random sample of 30 people was selected from a population with an unknown mean and standard deviation. The sample mean was found to be 72 and the sample standard deviation was found to be 10. Conduct a hypothesis test to determine if the population mean is significantly different from 70. Use a significance level of 0.05."
   ]
  },
  {
   "cell_type": "markdown",
   "id": "92183aa0-7ec9-413f-9e96-b58e3c67af9d",
   "metadata": {},
   "source": [
    "H0: μ = 70\n",
    "Ha: μ ≠ 70\n",
    "Where μ is the population mean.\n",
    "\n",
    "We will use a significance level of 0.05, which corresponds to a 95% confidence level.\n",
    "\n",
    "We can start by calculating the t-statistic:\n",
    "\n",
    "t = (sample_mean - hypothesized_mean) / (sample_stddev / sqrt(sample_size))\n",
    "t = (72 - 70) / (10 / sqrt(30))\n",
    "t = 1.549\n",
    "\n",
    "We have 29 degrees of freedom (sample_size - 1). We can calculate the p-value using a two-tailed t-test with 29 degrees of freedom:\n",
    "\n",
    "p = 2 * (1 - st.t.cdf(abs(t), df=29))\n",
    "p = 0.133\n",
    "\n",
    "The p-value is 0.133, which is greater than the significance level of 0.05. Therefore, we fail to reject the null hypothesis. There is not enough evidence to conclude that the population mean is significantly different from 70 at the 5% level of significance."
   ]
  },
  {
   "cell_type": "code",
   "execution_count": 22,
   "id": "931cb183-8ab7-44bb-bd4c-4a946cd65371",
   "metadata": {},
   "outputs": [
    {
     "name": "stdout",
     "output_type": "stream",
     "text": [
      "t-statistic: 3.6337158209363856\n",
      "p-value: 0.001070678709609314\n"
     ]
    }
   ],
   "source": [
    "import numpy as np\n",
    "from scipy import stats\n",
    "\n",
    "# Define the sample\n",
    "sample = np.array([72, 68, 75, 71, 69, 73, 70, 68, 75, 71, \n",
    "                   70, 73, 75, 72, 70, 71, 68, 73, 69, 72, \n",
    "                   70, 74, 71, 69, 73, 71, 70, 72, 75, 73])\n",
    "\n",
    "# Define the hypothesized mean\n",
    "hypothesized_mean = 70\n",
    "\n",
    "# Calculate the t-statistic and p-value\n",
    "t_statistic, p_value = stats.ttest_1samp(sample, hypothesized_mean)\n",
    "\n",
    "# Print the results\n",
    "print(\"t-statistic:\", t_statistic)\n",
    "print(\"p-value:\", p_value)\n"
   ]
  },
  {
   "cell_type": "code",
   "execution_count": null,
   "id": "b6e2c880-7324-49fe-9409-766be5460846",
   "metadata": {},
   "outputs": [],
   "source": []
  }
 ],
 "metadata": {
  "kernelspec": {
   "display_name": "Python 3 (ipykernel)",
   "language": "python",
   "name": "python3"
  },
  "language_info": {
   "codemirror_mode": {
    "name": "ipython",
    "version": 3
   },
   "file_extension": ".py",
   "mimetype": "text/x-python",
   "name": "python",
   "nbconvert_exporter": "python",
   "pygments_lexer": "ipython3",
   "version": "3.10.8"
  }
 },
 "nbformat": 4,
 "nbformat_minor": 5
}
