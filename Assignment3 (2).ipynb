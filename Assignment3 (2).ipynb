{
 "cells": [
  {
   "cell_type": "code",
   "execution_count": 57,
   "id": "2b31668f-be6c-4f03-9aab-0f995399be76",
   "metadata": {},
   "outputs": [
    {
     "name": "stdout",
     "output_type": "stream",
     "text": [
      "Input list elements:\n",
      "10\n",
      "20\n",
      "30\n",
      "40\n",
      "50\n"
     ]
    },
    {
     "name": "stdin",
     "output_type": "stream",
     "text": [
      "Enter number 5\n"
     ]
    },
    {
     "name": "stdout",
     "output_type": "stream",
     "text": [
      "1\n",
      "2\n",
      "3\n",
      "4\n",
      "5\n"
     ]
    }
   ],
   "source": [
    "#answer 1\n",
    "\"\"\"The for loop is used when we already know the number of iterations, \n",
    "which means when we know how many times a statement has to be executed.\"\"\"\n",
    "inputList = [10, 20, 30, 40, 50]\n",
    "print(\"Input list elements:\")\n",
    "for element in inputList:\n",
    "   \n",
    "   print(element)\n",
    "\n",
    "\"\"\"The while loop is used  When the number of iterations is unknown    \"\"\"\n",
    "num=int(input(\"Enter number\"))\n",
    "i=1\n",
    "while(i<=num):\n",
    "    print(i)\n",
    "    i+=1\n",
    "        "
   ]
  },
  {
   "cell_type": "code",
   "execution_count": 16,
   "id": "ab4bec3c-f488-46c1-b982-e26663a8c246",
   "metadata": {},
   "outputs": [
    {
     "name": "stdout",
     "output_type": "stream",
     "text": [
      "55\n",
      "13168189440000\n",
      "55\n",
      "13168189440000\n"
     ]
    }
   ],
   "source": [
    "#answer2\n",
    "##using for loop\n",
    "sum=0\n",
    "product=1\n",
    "for i in range(1,11):\n",
    "    sum+=i\n",
    "    product*=i\n",
    "print(sum)\n",
    "for i in range(1,11):\n",
    "    product*=i\n",
    "print(product)\n",
    "\n",
    "##using while loop\n",
    "i=0\n",
    "while(i>=10):\n",
    "    sum=sum+i\n",
    "    i+=1\n",
    "print(sum) \n",
    "j=1\n",
    "while(j>=10):\n",
    "    product=product*j\n",
    "    j+=1\n",
    "print(product)    \n"
   ]
  },
  {
   "cell_type": "code",
   "execution_count": 41,
   "id": "686a1cac-a18f-448d-857d-d91889b8850f",
   "metadata": {},
   "outputs": [
    {
     "name": "stdin",
     "output_type": "stream",
     "text": [
      "Enter the unit of electricity consumed 310\n"
     ]
    },
    {
     "name": "stdout",
     "output_type": "stream",
     "text": [
      "2250.0\n"
     ]
    }
   ],
   "source": [
    "#answer3\n",
    "unit=int(input(\"Enter the unit of electricity consumed\"))\n",
    "if(unit<=100):\n",
    "    charges=4.5*unit\n",
    "    print(charges)\n",
    "elif(unit<=200 ):\n",
    "    charges=100*4.5+(unit-100)*6\n",
    "    print(charges)    \n",
    "elif(unit<=300):\n",
    "    charges=100*4.5+100*6+(unit-200)*10\n",
    "    print(charges) \n",
    "else:\n",
    "    charges=100*4.5+100*6+100*10+(unit-300)*20\n",
    "    print(charges) "
   ]
  },
  {
   "cell_type": "code",
   "execution_count": 2,
   "id": "6a1ab238-e8e6-4e1e-873b-c075ccaa1f1b",
   "metadata": {},
   "outputs": [
    {
     "name": "stdout",
     "output_type": "stream",
     "text": [
      "\n",
      "using for loop\n",
      "\n",
      "The list of cubes in 1 to 100 that are divided by 4 or 5 is : \n",
      " [2, 4, 5, 6, 8, 10, 12, 14, 15, 16, 18, 20, 22, 24, 25, 26, 28, 30, 32, 34, 35, 36, 38, 40, 42, 44, 45, 46, 48, 50, 52, 54, 55, 56, 58, 60, 62, 64, 65, 66, 68, 70, 72, 74, 75, 76, 78, 80, 82, 84, 85, 86, 88, 90, 92, 94, 95, 96, 98, 100] \n",
      " using while loop\n",
      "\n",
      "The list of cubes in 1 to 100 that are divided by 4 or 5 is : \n",
      " [2, 4, 5, 6, 8, 10, 12, 14, 15, 16, 18, 20, 22, 24, 25, 26, 28, 30, 32, 34, 35, 36, 38, 40, 42, 44, 45, 46, 48, 50, 52, 54, 55, 56, 58, 60, 62, 64, 65, 66, 68, 70, 72, 74, 75, 76, 78, 80, 82, 84, 85, 86, 88, 90, 92, 94, 95, 96, 98, 100] "
     ]
    }
   ],
   "source": [
    "#answer 4\n",
    "#using for loop\n",
    "print(\"\\nusing for loop\\n\")\n",
    "mylist=[]\n",
    "cubeans=[]\n",
    "for i in range(1,101):\n",
    "    mylist.append(i)\n",
    "    cube=i**3\n",
    "    if(cube%4==0 or cube%5==0):\n",
    "        cubeans.append(i)\n",
    "print(\"The list of cubes in 1 to 100 that are divided by 4 or 5 is : \\n\",cubeans,end=\" \")\n",
    "\n",
    "##using while loop\n",
    "print(\"\\n using while loop\\n\")\n",
    "i=1\n",
    "while(i>=100):\n",
    "    mylist.append(i)\n",
    "    i+=1\n",
    "    cube=i**3\n",
    "    if(cube%4==0 or cube%5==0):\n",
    "        cubeans.append(i)\n",
    "print(\"The list of cubes in 1 to 100 that are divided by 4 or 5 is : \\n\",cubeans,end=\" \")    "
   ]
  },
  {
   "cell_type": "code",
   "execution_count": 56,
   "id": "4c960371-6c33-471d-a94d-1f5dbf8a5b60",
   "metadata": {},
   "outputs": [
    {
     "name": "stdout",
     "output_type": "stream",
     "text": [
      "The number of vowels in string: 12\n"
     ]
    }
   ],
   "source": [
    "#answer 5\n",
    "string=\"i want to become a data scientist\"\n",
    "vowels=\"aeiou\"\n",
    "count=0\n",
    "for i in string:\n",
    "    if(i in vowels):\n",
    "        count+=1\n",
    "print(\"The number of vowels in string:\",count)       "
   ]
  },
  {
   "cell_type": "code",
   "execution_count": 61,
   "id": "ef51ecdc-a913-4a4b-9417-3557feeb1820",
   "metadata": {},
   "outputs": [
    {
     "name": "stdout",
     "output_type": "stream",
     "text": [
      "PwSkills PwSkills "
     ]
    }
   ],
   "source": [
    "for course in ['Data Science Masters', 'ML', 'data science masters', 'DL']:\n",
    "\n",
    "    if len(course)!= 2:\n",
    "\n",
    "        print('PwSkills' , end=' ')"
   ]
  }
 ],
 "metadata": {
  "kernelspec": {
   "display_name": "Python 3 (ipykernel)",
   "language": "python",
   "name": "python3"
  },
  "language_info": {
   "codemirror_mode": {
    "name": "ipython",
    "version": 3
   },
   "file_extension": ".py",
   "mimetype": "text/x-python",
   "name": "python",
   "nbconvert_exporter": "python",
   "pygments_lexer": "ipython3",
   "version": "3.10.8"
  }
 },
 "nbformat": 4,
 "nbformat_minor": 5
}
