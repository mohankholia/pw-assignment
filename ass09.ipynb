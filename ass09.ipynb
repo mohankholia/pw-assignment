{
 "cells": [
  {
   "cell_type": "code",
   "execution_count": 11,
   "id": "65e812fb-016e-4047-b48f-598df7ca29bc",
   "metadata": {},
   "outputs": [
    {
     "data": {
      "text/plain": [
       "100"
      ]
     },
     "execution_count": 11,
     "metadata": {},
     "output_type": "execute_result"
    }
   ],
   "source": [
    "\"\"\"Q1, Create a vehicle class with an init method having instance variables as name_of_vehicle, max_speed\n",
    "and average_of_vehicle.\"\"\"\n",
    "class vehicle:\n",
    "    def __init__(self,name_of_vehicle,max_speed,average_of_vehicle):\n",
    "        \n",
    "        self.name_of_vehicle=name_of_vehicle\n",
    "        self.max_speed=max_speed\n",
    "        self.average_of_vehicle=average_of_vehicle\n",
    "obj=vehicle(\"bmw\",200,100)        \n",
    "obj.name_of_vehicle  \n",
    "obj.max_speed\n",
    "obj.average_of_vehicle"
   ]
  },
  {
   "cell_type": "code",
   "execution_count": 16,
   "id": "67e4c5d3-4e98-41e7-b166-ea172e3bee67",
   "metadata": {},
   "outputs": [
    {
     "data": {
      "text/plain": [
       "('alto', 5)"
      ]
     },
     "execution_count": 16,
     "metadata": {},
     "output_type": "execute_result"
    }
   ],
   "source": [
    "\"\"\"Q2. Create a child class car from the vehicle class created in Que 1, which will inherit the vehicle class.\n",
    "Create a method named seating_capacity which takes capacity as an argument and returns the name of\n",
    "the vehicle and its seating capacity.\"\"\"\n",
    "class vehicle:\n",
    "    def __init__(self,name_of_vehicle,max_speed,average_of_vehicle):\n",
    "        \n",
    "        self.name_of_vehicle=name_of_vehicle\n",
    "        self.max_speed=max_speed\n",
    "        self.average_of_vehicle=average_of_vehicle\n",
    "class car(vehicle):\n",
    "    def seating_capacity(self,capacity):\n",
    "        self.capacity=capacity\n",
    "        return self.name_of_vehicle,self.capacity\n",
    "c=car(\"alto\",180,25)    \n",
    "c.seating_capacity(5)    "
   ]
  },
  {
   "cell_type": "code",
   "execution_count": 26,
   "id": "c838d1d7-da01-4066-9ac9-3a2d710a7145",
   "metadata": {},
   "outputs": [],
   "source": [
    "\"\"\"Q3. What is multiple inheritance? Write a python code to demonstrate multiple inheritance.\"\"\"\n",
    "#answer\n",
    "\"\"\"When a class is derived from more than one base class it is called multiple Inheritance. The derived class inherits all the features of the base \n",
    "case. Syntax: Class Base1: Body of the class Class Base2: Body of the class Class Derived(Base1, Base2): Body of the class\"\"\"\n",
    "\n",
    "class A:\n",
    "    def say1(self):\n",
    "        return \"base class constructor called\"\n",
    "class B:\n",
    "    def say2(self):\n",
    "        return\"derived class 1 called\"\n",
    "    \n",
    "class C(A,B):\n",
    "    def say3(self):\n",
    "        return \"class c called\""
   ]
  },
  {
   "cell_type": "code",
   "execution_count": 27,
   "id": "f42bdbe9-d455-4c20-921a-63a0fa9adce8",
   "metadata": {},
   "outputs": [],
   "source": [
    "obj=C()"
   ]
  },
  {
   "cell_type": "code",
   "execution_count": 28,
   "id": "e37390e1-5479-469c-bc3f-d8f3ab2f9eeb",
   "metadata": {},
   "outputs": [
    {
     "data": {
      "text/plain": [
       "'base class constructor called'"
      ]
     },
     "execution_count": 28,
     "metadata": {},
     "output_type": "execute_result"
    }
   ],
   "source": [
    "obj.say1()"
   ]
  },
  {
   "cell_type": "code",
   "execution_count": 1,
   "id": "249ca4be-be9b-4be8-a3d7-3a1d482a2a7a",
   "metadata": {},
   "outputs": [
    {
     "name": "stdout",
     "output_type": "stream",
     "text": [
      "setter method\n",
      "getter method\n",
      "25\n"
     ]
    }
   ],
   "source": [
    "\"\"\"Q4. What are getter and setter in python? Create a class and create a getter and a setter method in this\n",
    "class.\"\"\"\n",
    "\"\"\"\n",
    "Getter: A method that allows you to access an attribute in a given class.\n",
    "Setter: A method that allows you to set or mutate the value of an attribute in a class.\"\"\"\n",
    "class sec:   \n",
    "     def __init__(self):   \n",
    "          self._age = 0  \n",
    "         \n",
    "     # using the getter function   \n",
    "     @property  \n",
    "     def age(self):   \n",
    "         print(\"getter method\")   \n",
    "         return self._age   \n",
    "         \n",
    "     #now, using the setter function   \n",
    "     @age.setter   \n",
    "     def age(self, x):   \n",
    "         if(x < 20):   \n",
    "            raise ValueError(\"the age is below eligibility criteria\")   \n",
    "         print(\"setter method\")   \n",
    "         self._age = x   \n",
    "    \n",
    "John =sec()   \n",
    "    \n",
    "John.age = 25  \n",
    "    \n",
    "print(John.age)   \n"
   ]
  },
  {
   "cell_type": "code",
   "execution_count": null,
   "id": "2008b286-a09e-4825-9731-0146cc237e67",
   "metadata": {},
   "outputs": [],
   "source": [
    "#answer5\n",
    "\"\"\"Method overriding is an ability of any object-oriented programming language that allows a subclass or child classto provide a specific \n",
    "implementation of a method that is already provided by one of its super-classes or parent classes. When a method in a subclass has the \n",
    "same name, same parameters or signature and same return type(or sub-type) as a method in its super-class,then the method in the subclass\n",
    "is said to override the method in the super-class.\"\"\"\n",
    "# Program to define the use of super()\n",
    "# function in multiple inheritance\n",
    "class Animal:\n",
    "    def Walk(self):\n",
    "        print('Hello, I am the parent class')\n",
    "\n",
    "class Dog(Animal):\n",
    "    def Walk(self):\n",
    "        print('Hello, I am the child class')\n",
    "        \n",
    "print('The method Walk here is overridden in the code')\n",
    "\n",
    "#Invoking Child class through object r\n",
    "\n",
    "r = Dog()\n",
    "r.Walk()\n",
    "\n",
    "#Invoking Parent class through object r\n",
    "\n",
    "r = Animal()\n",
    "r.Walk()\n"
   ]
  },
  {
   "cell_type": "code",
   "execution_count": null,
   "id": "782ba8b0-f160-450c-9505-b7647af06c7d",
   "metadata": {},
   "outputs": [],
   "source": []
  }
 ],
 "metadata": {
  "kernelspec": {
   "display_name": "Python 3 (ipykernel)",
   "language": "python",
   "name": "python3"
  },
  "language_info": {
   "codemirror_mode": {
    "name": "ipython",
    "version": 3
   },
   "file_extension": ".py",
   "mimetype": "text/x-python",
   "name": "python",
   "nbconvert_exporter": "python",
   "pygments_lexer": "ipython3",
   "version": "3.10.8"
  }
 },
 "nbformat": 4,
 "nbformat_minor": 5
}
