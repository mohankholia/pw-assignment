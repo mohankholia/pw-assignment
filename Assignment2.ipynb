{
 "cells": [
  {
   "cell_type": "code",
   "execution_count": 8,
   "id": "3fb852bb-20e1-4f66-847f-4cefccf26bad",
   "metadata": {},
   "outputs": [
    {
     "name": "stdin",
     "output_type": "stream",
     "text": [
      "enter marks: 45\n"
     ]
    },
    {
     "name": "stdout",
     "output_type": "stream",
     "text": [
      "your grade is D\n"
     ]
    }
   ],
   "source": [
    "#Answer 1\n",
    "marks=int(input(\"enter marks:\"))\n",
    "if(marks>90):\n",
    "               print(\"Your grade is A\") \n",
    "elif(marks>80 and marks<=90):\n",
    "    print(\"your grade is B\")\n",
    "elif (marks>=60 and marks<=80):\n",
    "    print(\"Your grade is C\")\n",
    "else:\n",
    "    print(\"your grade is D\")"
   ]
  },
  {
   "cell_type": "code",
   "execution_count": 16,
   "id": "15eb311c-89aa-42df-9561-e83468f8deba",
   "metadata": {},
   "outputs": [
    {
     "name": "stdin",
     "output_type": "stream",
     "text": [
      "enter price 50000\n"
     ]
    },
    {
     "name": "stdout",
     "output_type": "stream",
     "text": [
      "2500.0\n"
     ]
    }
   ],
   "source": [
    "#Answer 2\n",
    "price=int(input(\"enter price\"))\n",
    "tax=0.0\n",
    "if(price>100000):\n",
    "    tax+=(price*15)/100\n",
    "    print(tax)\n",
    "elif(price>50000 and price<=100000):\n",
    "    tax+=(price*10)/100\n",
    "    print(tax)\n",
    "elif(price<=50000):\n",
    "    tax+=(price*5)/100\n",
    "    print(tax)\n",
    "    "
   ]
  },
  {
   "cell_type": "code",
   "execution_count": 23,
   "id": "f2d68a32-8d28-4e9d-a83a-9c6b745db633",
   "metadata": {},
   "outputs": [
    {
     "name": "stdin",
     "output_type": "stream",
     "text": [
      "Enter city westbangal\n"
     ]
    },
    {
     "name": "stdout",
     "output_type": "stream",
     "text": [
      "envalid option\n"
     ]
    }
   ],
   "source": [
    "#Answer 3\n",
    "city=input(\"Enter city\")\n",
    "monument=\" \"\n",
    "if(city=='Delhi'):\n",
    "    monument=\"Red Fort\"\n",
    "    print(monument)\n",
    "elif(city=='Agra'):\n",
    "    monument=\"Taj Mahal\"\n",
    "    print(monument)\n",
    "elif(city=='Jaipur'):\n",
    "    monument=\"Jai Mahal\"\n",
    "    print(monument)    \n",
    "else:\n",
    "    print(\"envalid option\")\n",
    "    "
   ]
  },
  {
   "cell_type": "code",
   "execution_count": 3,
   "id": "8fb0e1c0-fe0b-4890-a600-f27630ec2521",
   "metadata": {},
   "outputs": [
    {
     "name": "stdin",
     "output_type": "stream",
     "text": [
      "Enter number 17\n"
     ]
    },
    {
     "name": "stdout",
     "output_type": "stream",
     "text": [
      "1\n"
     ]
    }
   ],
   "source": [
    "#Answer 4\n",
    "num=int(input(\"Enter number\"))\n",
    "count=0\n",
    "while(num>=10):\n",
    "    num=num/3\n",
    "    count=count+1\n",
    "print(count)    \n"
   ]
  },
  {
   "cell_type": "code",
   "execution_count": null,
   "id": "df0d188b-6ae9-4eb1-8f19-96423e55e480",
   "metadata": {},
   "outputs": [],
   "source": [
    "#Answer 5\n",
    "\"\"\"Python While Loop is used to execute a block of statements repeatedly until a given condition is satisfied.\n",
    "And when the condition becomes false, the line immediately after the loop in the program is executed.\n",
    "\n",
    "Syntax: \n",
    "\n",
    "while expression:\n",
    "    statement(s)\"\"\"\n",
    "#example\n",
    "a = [1, 2, 3, 4]\n",
    "  \n",
    "while a:\n",
    "    print(a.pop())"
   ]
  },
  {
   "cell_type": "code",
   "execution_count": null,
   "id": "9e4cbd91-bc36-40cf-85ff-b636c32d9cef",
   "metadata": {},
   "outputs": [],
   "source": [
    "#Answer 6\n",
    "#pattern 1\n",
    "size=int(input(\"enter size\"))\n",
    "i=1\n",
    "while(i<=size):\n",
    "    j=1\n",
    "    while(j<=size):\n",
    "        print(\"*\",end=\" \")\n",
    "        j=j+1\n",
    "    print(\" \")\n",
    "    i+=1\n",
    "#pattern 2\n",
    "size=int(input(\"enter size\"))\n",
    "i=1\n",
    "while(i<=size):\n",
    "    j=1\n",
    "    while(j<=i):\n",
    "        print(\"*\",end=\" \")\n",
    "        j=j+1\n",
    "    print(\" \")\n",
    "    i+=1\n",
    "#pattern 3\n",
    "\n",
    "        \n",
    "        \n"
   ]
  },
  {
   "cell_type": "code",
   "execution_count": 34,
   "id": "8386bc7e-a625-4f1d-8a7a-48815ec7d607",
   "metadata": {},
   "outputs": [
    {
     "name": "stdout",
     "output_type": "stream",
     "text": [
      "10\n",
      "9\n",
      "8\n",
      "7\n",
      "6\n",
      "5\n",
      "4\n",
      "3\n",
      "2\n",
      "1\n"
     ]
    }
   ],
   "source": [
    "#answer 7\n",
    "i=10\n",
    "while(i>0):\n",
    "    print(i)\n",
    "    i=i-1"
   ]
  },
  {
   "cell_type": "code",
   "execution_count": null,
   "id": "7d1e3419-3882-4d2b-a24f-765d1602410d",
   "metadata": {},
   "outputs": [],
   "source": [
    "#answer 8\n",
    "i=10\n",
    "while(i>0):\n",
    "    print(i)\n",
    "    i=i-1"
   ]
  }
 ],
 "metadata": {
  "kernelspec": {
   "display_name": "Python 3 (ipykernel)",
   "language": "python",
   "name": "python3"
  },
  "language_info": {
   "codemirror_mode": {
    "name": "ipython",
    "version": 3
   },
   "file_extension": ".py",
   "mimetype": "text/x-python",
   "name": "python",
   "nbconvert_exporter": "python",
   "pygments_lexer": "ipython3",
   "version": "3.10.8"
  }
 },
 "nbformat": 4,
 "nbformat_minor": 5
}
