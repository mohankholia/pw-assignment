{
 "cells": [
  {
   "cell_type": "code",
   "execution_count": 1,
   "id": "75c52208-cc98-4cae-bde9-45df9e5b9699",
   "metadata": {},
   "outputs": [
    {
     "data": {
      "text/plain": [
       "'Q1. Explain Class and Object with respect to Object-Oriented Programming. Give a suitable example.'"
      ]
     },
     "execution_count": 1,
     "metadata": {},
     "output_type": "execute_result"
    }
   ],
   "source": [
    "\"\"\"Q1. Explain Class and Object with respect to Object-Oriented Programming. Give a suitable example.\"\"\"\n",
    "#answer1\n",
    "\"\"\"Class is a user-defined datatype that contain its own data members and member functions. The member functions and data members can be\n",
    "accessed with the help of objects. It is the primary concept of object-oriented programming.A class is used to organize information or\n",
    "data so a programmer can reuse the elements in multiple instances.\"\"\"\n",
    "\"\"\"An object is an instance of a class. As already mentioned above, all the data members and member functions of the class can be accessed\n",
    "with the help of objects.\n",
    "An object in OOP is a component which consists of properties to make a particular data useful. For example, let’s consider a class Student.\n",
    "We can access various student details using some common property attributes like student name, roll number, etc.\"\"\""
   ]
  },
  {
   "cell_type": "code",
   "execution_count": 2,
   "id": "46a579ac-0d1e-44e8-bd26-28f6aeb6d512",
   "metadata": {},
   "outputs": [
    {
     "data": {
      "text/plain": [
       "'The four pillars for OOP are:\\nAbstraction.\\nEncapsulation.\\nInheritance.\\nPolymorphism.'"
      ]
     },
     "execution_count": 2,
     "metadata": {},
     "output_type": "execute_result"
    }
   ],
   "source": [
    "\"\"\"Q2. Name the four pillars of OOPs.\"\"\"\n",
    "#Answer 2\n",
    "\"\"\"The four pillars for OOP are:\n",
    "Abstraction.\n",
    "Encapsulation.\n",
    "Inheritance.\n",
    "Polymorphism.\"\"\""
   ]
  },
  {
   "cell_type": "code",
   "execution_count": 3,
   "id": "77b78a83-326f-4cbb-be4e-82d8067353a5",
   "metadata": {},
   "outputs": [
    {
     "name": "stdout",
     "output_type": "stream",
     "text": [
      "Hello, my name is Nikhil\n"
     ]
    }
   ],
   "source": [
    "\"\"\"Q3. Explain why the __init__() function is used. Give a suitable example.\"\"\"\n",
    "#Answer 3\n",
    "\"\"\"The __init__ function is called every time an object is created from a class. The __init__ method lets the class initialize the \n",
    "object's attributes and serves no other purpose.It is only used within classes.\"\"\"\n",
    "# A Sample class with init method\n",
    "class Person:\n",
    "\t\n",
    "\tdef __init__(self, name):\n",
    "\t\tself.name = name\n",
    "\tdef say_hi(self):\n",
    "\t\tprint('Hello, my name is', self.name)\n",
    "\n",
    "\n",
    "p = Person('Nikhil')\n",
    "p.say_hi()\n"
   ]
  },
  {
   "cell_type": "code",
   "execution_count": 4,
   "id": "6dd13818-233d-4f34-a903-ac9a076e7496",
   "metadata": {},
   "outputs": [
    {
     "data": {
      "text/plain": [
       "'The self variable is used to represent the instance of the class which is often used in object-oriented programming.\\nIt works as a reference to the object.Python uses the self parameter to refer to instance attributes and methods of the class.'"
      ]
     },
     "execution_count": 4,
     "metadata": {},
     "output_type": "execute_result"
    }
   ],
   "source": [
    "\"\"\"Q4. Why self is used in OOPs?\"\"\"\n",
    "\"\"\"The self variable is used to represent the instance of the class which is often used in object-oriented programming.\n",
    "It works as a reference to the object.Python uses the self parameter to refer to instance attributes and methods of the class.\"\"\""
   ]
  },
  {
   "cell_type": "code",
   "execution_count": 5,
   "id": "09750684-d41f-457d-9574-b956b5aaa3bc",
   "metadata": {},
   "outputs": [
    {
     "name": "stdout",
     "output_type": "stream",
     "text": [
      "This function is in parent class.\n",
      "This function is in child class.\n"
     ]
    }
   ],
   "source": [
    "\"\"\"Q5. What is inheritance? Give an example for each type of inheritance.\"\"\"\n",
    "\"\"\"Inheritance is a mechanism in which one class acquires the property of another class. For example, a child inherits the traits of his/\n",
    "her parents. With inheritance,we can reuse the fields and methods of the existing class. Hence, inheritance facilitatesReusability and is\n",
    "an important concept of OOPs\"\"\"\n",
    "class Parent:\n",
    "    def func1(self):\n",
    "        print(\"This function is in parent class.\")\n",
    " \n",
    "# Derived class\n",
    " \n",
    " \n",
    "class Child(Parent):\n",
    "    def func2(self):\n",
    "        print(\"This function is in child class.\")\n",
    " \n",
    " \n",
    "# Driver's code\n",
    "object = Child()\n",
    "object.func1()\n",
    "object.func2()"
   ]
  },
  {
   "cell_type": "code",
   "execution_count": null,
   "id": "3445bf07-14df-4faa-83c5-1a26792e32d2",
   "metadata": {},
   "outputs": [],
   "source": []
  }
 ],
 "metadata": {
  "kernelspec": {
   "display_name": "Python 3 (ipykernel)",
   "language": "python",
   "name": "python3"
  },
  "language_info": {
   "codemirror_mode": {
    "name": "ipython",
    "version": 3
   },
   "file_extension": ".py",
   "mimetype": "text/x-python",
   "name": "python",
   "nbconvert_exporter": "python",
   "pygments_lexer": "ipython3",
   "version": "3.10.8"
  }
 },
 "nbformat": 4,
 "nbformat_minor": 5
}
