{
  "nbformat": 4,
  "nbformat_minor": 0,
  "metadata": {
    "colab": {
      "provenance": []
    },
    "kernelspec": {
      "name": "python3",
      "display_name": "Python 3"
    },
    "language_info": {
      "name": "python"
    }
  },
  "cells": [
    {
      "cell_type": "code",
      "execution_count": 1,
      "metadata": {
        "colab": {
          "base_uri": "https://localhost:8080/",
          "height": 36
        },
        "id": "XiCQjQm7tZPR",
        "outputId": "9aadf56a-e560-4bea-92c2-99a383afd086"
      },
      "outputs": [
        {
          "output_type": "execute_result",
          "data": {
            "text/plain": [
              "'Bokeh is a Python library for creating interactive data visualizations in a web browser. To create a Bokeh plot using Python code, '"
            ],
            "application/vnd.google.colaboratory.intrinsic+json": {
              "type": "string"
            }
          },
          "metadata": {},
          "execution_count": 1
        }
      ],
      "source": [
        "\"\"\"Q1. How can you create a Bokeh plot using Python code?\"\"\"\n",
        "\"\"\"Bokeh is a Python library for creating interactive data visualizations in a web browser. To create a Bokeh plot using Python code, \"\"\""
      ]
    },
    {
      "cell_type": "code",
      "source": [
        "from bokeh.plotting import figure, output_file, show\n",
        "\n",
        "x = [1, 2, 3, 4, 5]\n",
        "y = [6, 7, 2, 4, 5]\n",
        "\n",
        "p = figure(title=\"Example Bokeh plot\", x_axis_label='X', y_axis_label='Y')\n",
        "p.line(x, y, legend_label=\"Line\", line_width=2)\n",
        "p.circle(x, y, legend_label=\"Circle\", fill_color=\"white\", size=8)\n",
        "\n",
        "output_file(\"example.html\")\n",
        "\n"
      ],
      "metadata": {
        "id": "WKxUfewquvZl"
      },
      "execution_count": 3,
      "outputs": []
    },
    {
      "cell_type": "code",
      "source": [
        "show(p)"
      ],
      "metadata": {
        "id": "vj0QjP1QvKVb"
      },
      "execution_count": 6,
      "outputs": []
    },
    {
      "cell_type": "code",
      "source": [
        "\"\"\"Q2. What are glyphs in Bokeh, and how can you add them to a Bokeh plot? Explain with an example.\"\"\"\n",
        "\"\"\"In Bokeh, glyphs are visual shapes that can be added to a plot to represent data. Glyphs can include shapes like circles, squares, triangles, \n",
        "and more complex shapes like asterisks and glyphs with custom SVG paths. Each glyph can be customized with properties like color, size, transparency, and more.\n",
        "To add glyphs to a Bokeh plot, you can call a glyph method on a figure object, passing in the data source and any desired glyph properties.\"\"\"\n",
        "from bokeh.plotting import figure, show\n",
        "\n",
        "x = [1, 2, 3, 4, 5]\n",
        "y = [6, 7, 2, 4, 5]\n",
        "\n",
        "p = figure(title=\"Circle example\", x_axis_label='X', y_axis_label='Y')\n",
        "p.circle(x, y, size=20, color=\"navy\", alpha=0.5)\n",
        "\n",
        "show(p)\n"
      ],
      "metadata": {
        "id": "cfiQe_A-vUQI"
      },
      "execution_count": 8,
      "outputs": []
    },
    {
      "cell_type": "code",
      "source": [
        "\"\"\"Q3. How can you customize the appearance of a Bokeh plot, including the axes, title, and legend?\"\"\"\n",
        "\"\"\"Bokeh plots can be customized in many ways, including changing the appearance of the axes, title, and legend. Here are some ways to customize the appearance of a Bokeh plot:\n",
        "\n",
        "Axis customization: You can customize the appearance of the axes by setting properties like axis_label, axis_label_text_color, axis_label_text_font_size, major_tick_line_color,\n",
        " major_tick_line_width, minor_tick_line_color, and minor_tick_line_width\"\"\"\n",
        "from bokeh.plotting import figure, show\n",
        "\n",
        "x = [1, 2, 3, 4, 5]\n",
        "y = [6, 7, 2, 4, 5]\n",
        "\n",
        "p = figure(title=\"Customized Axis example\", x_axis_label='X', y_axis_label='Y')\n",
        "p.xaxis.axis_label_text_color = \"red\"\n",
        "p.yaxis.axis_label_text_color = \"green\"\n",
        "p.xaxis.axis_label_text_font_size = \"16pt\"\n",
        "p.yaxis.axis_label_text_font_size = \"16pt\"\n",
        "p.xaxis.major_tick_line_color = \"blue\"\n",
        "p.xaxis.major_tick_line_width = 2\n",
        "p.yaxis.minor_tick_line_color = \"purple\"\n",
        "p.yaxis.minor_tick_line_width = 1\n",
        "\n",
        "p.circle(x, y, size=20, color=\"navy\", alpha=0.5)\n",
        "\n",
        "show(p)\n"
      ],
      "metadata": {
        "id": "iP_0jGoivjsO"
      },
      "execution_count": 10,
      "outputs": []
    },
    {
      "cell_type": "code",
      "source": [
        "\"\"\"Q4. What is a Bokeh server, and how can you use it to create interactive plots that can be updated in\n",
        "real time?\"\"\"\n",
        "\"\"\"A Bokeh server is a Python process that allows you to create and serve Bokeh plots and applications to a web browser. With a Bokeh server, you can create interactive plots\n",
        " that can be updated in real time in response to user input or external events.\n",
        "\n",
        "To create a Bokeh server application, you need to define a function that will generate the plot or application, and then use the curdoc() function to add it to the current \n",
        "document. \"\"\"\n",
        "from bokeh.layouts import column\n",
        "from bokeh.models import Button\n",
        "from bokeh.plotting import figure, curdoc\n",
        "\n",
        "# Create a plot\n",
        "plot = figure(plot_width=400, plot_height=400)\n",
        "plot.circle([1, 2, 3, 4, 5], [2, 5, 8, 3, 6])\n",
        "\n",
        "# Define a function that updates the plot\n",
        "def update_plot():\n",
        "    plot.circle([1, 2, 3, 4, 5], [6, 2, 8, 4, 5], color=\"red\")\n",
        "\n",
        "# Create a button to trigger the update\n",
        "button = Button(label=\"Update\")\n",
        "button.on_click(update_plot)\n",
        "\n",
        "# Add the plot and button to the current document\n",
        "curdoc().add_root(column(plot, button))\n"
      ],
      "metadata": {
        "id": "iGAnX9AxwRTt"
      },
      "execution_count": 12,
      "outputs": []
    },
    {
      "cell_type": "code",
      "source": [
        "\"\"\"Q5. How can you embed a Bokeh plot into a web page or dashboard using Flask or Django?\"\"\"\n",
        "\"\"\"To embed a Bokeh plot into a web page or dashboard using Flask or Django, you can use the components function from \n",
        "the bokeh.embed module. This function returns the necessary JavaScript and HTML code to embed a Bokeh plot into a web page.\"\"\"\n",
        "from flask import Flask, render_template\n",
        "from bokeh.plotting import figure\n",
        "from bokeh.embed import components\n",
        "\n",
        "app = Flask(__name__)\n",
        "\n",
        "@app.route('/')\n",
        "def index():\n",
        "    # Create a plot\n",
        "    plot = figure(plot_width=400, plot_height=400)\n",
        "    plot.circle([1, 2, 3, 4, 5], [2, 5, 8, 3, 6])\n",
        "    \n",
        "    # Get the JavaScript and HTML code for the plot\n",
        "    script, div = components(plot)\n",
        "    \n",
        "    # Render the template with the plot embedded\n",
        "    return render_template('index.html', script=script, div=div)\n",
        "\n",
        "if __name__ == '__main__':\n",
        "    app.run(debug=True)\n"
      ],
      "metadata": {
        "colab": {
          "base_uri": "https://localhost:8080/"
        },
        "id": "OEIWXCw7ws1D",
        "outputId": "7e27cf7c-ffb6-4a08-c024-470abc9ad217"
      },
      "execution_count": null,
      "outputs": [
        {
          "output_type": "stream",
          "name": "stdout",
          "text": [
            " * Serving Flask app '__main__'\n",
            " * Debug mode: on\n"
          ]
        },
        {
          "output_type": "stream",
          "name": "stderr",
          "text": [
            "INFO:werkzeug:\u001b[31m\u001b[1mWARNING: This is a development server. Do not use it in a production deployment. Use a production WSGI server instead.\u001b[0m\n",
            " * Running on http://127.0.0.1:5000\n",
            "INFO:werkzeug:\u001b[33mPress CTRL+C to quit\u001b[0m\n",
            "INFO:werkzeug: * Restarting with stat\n"
          ]
        }
      ]
    },
    {
      "cell_type": "code",
      "source": [],
      "metadata": {
        "id": "DUsscgAexm0f"
      },
      "execution_count": null,
      "outputs": []
    }
  ]
}