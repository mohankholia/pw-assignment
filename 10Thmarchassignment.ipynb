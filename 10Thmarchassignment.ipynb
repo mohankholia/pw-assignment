{
 "cells": [
  {
   "cell_type": "markdown",
   "id": "a83ed2f5-95a9-4e81-92ff-c7a063d41ff6",
   "metadata": {},
   "source": [
    "## Q1:What is Estimation Statistics? Explain point estimate and interval estimate."
   ]
  },
  {
   "cell_type": "markdown",
   "id": "ae8f67d5-f991-45e9-8a69-dffad0f69268",
   "metadata": {},
   "source": [
    "Estimation statistics is a branch of statistics that involves using sample data to estimate population parameters. It is often used when it is not feasible or practical to collect data from an entire population, and instead, a sample is collected to make inferences about the population.\n",
    "\n",
    "Point estimate is a single value that is used to estimate an unknown population parameter. It is based on a single sample statistic, such as the sample mean or sample proportion, and is used as an estimate of the population parameter. For example, if we want to estimate the mean income of a population, we can use the sample mean as the point estimate.\n",
    "\n",
    "Interval estimate, also known as confidence interval, is a range of values that is used to estimate an unknown population parameter. It is based on the sample statistic and the variability in the sample data. A confidence interval gives a range of values within which the true population parameter is expected to lie, with a certain level of confidence. For example, a 95% confidence interval for the mean income of a population would give a range of values within which we can be 95% confident that the true population mean lies.\n",
    "\n",
    "In general, interval estimates are more informative than point estimates because they provide a range of plausible values for the population parameter, along with a measure of uncertainty (i.e., the level of confidence associated with the interval). However, interval estimates are also wider than point estimates because they account for the variability in the sample data."
   ]
  },
  {
   "cell_type": "markdown",
   "id": "4a2cbf3e-6874-409b-8721-9ec67ed7c233",
   "metadata": {},
   "source": [
    "## Q2. Write a Python function to estimate the population mean using a sample mean and standard deviation."
   ]
  },
  {
   "cell_type": "code",
   "execution_count": 3,
   "id": "cf5ff016-c1c2-4aaa-ac5c-510ffa29d99e",
   "metadata": {},
   "outputs": [],
   "source": [
    "import math\n",
    "def estpop(mean,stdd,x):\n",
    "    std_errr=stdd/math.sqrt(x)\n",
    "    estmean=mean+1.5*std_errr\n",
    "    return estmean"
   ]
  },
  {
   "cell_type": "code",
   "execution_count": 4,
   "id": "50e40144-eb3a-44e8-9f6e-d7ef444693ee",
   "metadata": {},
   "outputs": [
    {
     "data": {
      "text/plain": [
       "23.975"
      ]
     },
     "execution_count": 4,
     "metadata": {},
     "output_type": "execute_result"
    }
   ],
   "source": [
    "estpop(23.3,4.5,100)"
   ]
  },
  {
   "cell_type": "markdown",
   "id": "7fb98c3a-9f2e-46d3-b1bb-c724b64e3867",
   "metadata": {},
   "source": [
    "## Q3: What is Hypothesis testing? Why is it used? State the importance of Hypothesis testing."
   ]
  },
  {
   "cell_type": "markdown",
   "id": "981eaa99-5aac-4aa5-b40a-5f6481e2533c",
   "metadata": {},
   "source": [
    "Hypothesis testing is a statistical method used to evaluate whether a certain hypothesis about a population is supported by the evidence in a sample of data. It involves making a testable statement about the population, known as the null hypothesis, and comparing it with an alternative hypothesis that represents the researcher's expectation. The null hypothesis typically assumes that there is no significant difference or effect in the population, while the alternative hypothesis assumes the opposite.\n",
    "\n",
    "Hypothesis testing is used in various fields of research, including science, social science, and business, to test theories and evaluate claims made about populations. It allows researchers to draw conclusions based on evidence from a sample of data and make inferences about the population with a certain level of confidence.\n",
    "\n",
    "The importance of hypothesis testing lies in its ability to help researchers determine whether their observations and findings are statistically significant. A statistically significant finding means that the evidence in the sample is strong enough to reject the null hypothesis, suggesting that the alternative hypothesis is likely true. Conversely, a non-significant finding suggests that there is not enough evidence to reject the null hypothesis, indicating that the null hypothesis is more likely true.\n",
    "\n",
    "Hypothesis testing also helps researchers to control for the probability of making a Type I error (rejecting the null hypothesis when it is actually true) or a Type II error (failing to reject the null hypothesis when it is actually false) by setting a level of significance and using appropriate statistical tests. This helps ensure that the findings are reliable and can be replicated in future studies."
   ]
  },
  {
   "cell_type": "markdown",
   "id": "4a282107-7bd9-47c8-87eb-4006d949c2a3",
   "metadata": {},
   "source": [
    "## Q4. Create a hypothesis that states whether the average weight of male college students is greater than the average weight of female college students."
   ]
  },
  {
   "cell_type": "markdown",
   "id": "4ebc3b55-3942-4605-9e99-8c75675bab22",
   "metadata": {},
   "source": [
    "The null hypothesis would be: The average weight of male college students is equal to or less than the average weight of female college students.\n",
    "\n",
    "The alternative hypothesis would be: The average weight of male college students is greater than the average weight of female college students.\n",
    "\n",
    "In statistical notation, the hypotheses can be represented as follows:\n",
    "\n",
    "H0: µ_male <= µ_female\n",
    "\n",
    "Ha: µ_male > µ_female\n",
    "\n",
    "where µ_male is the population mean weight of male college students, and µ_female is the population mean weight of female college students.\n",
    "\n",
    "To test these hypotheses, we would need to collect a sample of weights from both male and female college students and use a statistical test, such as a t-test or z-test, to determine whether the difference in sample means is statistically significant."
   ]
  },
  {
   "cell_type": "markdown",
   "id": "09733e95-d7d3-47b5-af4c-4a461968e007",
   "metadata": {},
   "source": [
    "## Q5. Write a Python script to conduct a hypothesis test on the difference between two population means, given a sample from each population."
   ]
  },
  {
   "cell_type": "code",
   "execution_count": 5,
   "id": "7ab282a3-f8ec-4046-8f97-c9b9760c1136",
   "metadata": {},
   "outputs": [
    {
     "name": "stdout",
     "output_type": "stream",
     "text": [
      "Sample 1 mean: 50.61\n",
      "Sample 2 mean: 56.25\n",
      "Sample 1 standard deviation: 8.90\n",
      "Sample 2 standard deviation: 11.78\n",
      "t-statistic: -3.95\n",
      "p-value: 0.000\n",
      "Reject null hypothesis: There is significant evidence that the means are different.\n"
     ]
    }
   ],
   "source": [
    "import numpy as np\n",
    "from scipy.stats import ttest_ind\n",
    "\n",
    "# Generate two samples from two populations with different means and variances\n",
    "np.random.seed(1)\n",
    "sample1 = np.random.normal(50, 10, 100)\n",
    "sample2 = np.random.normal(55, 12, 120)\n",
    "\n",
    "# Calculate the means and standard deviations of the two samples\n",
    "mean1 = np.mean(sample1)\n",
    "mean2 = np.mean(sample2)\n",
    "std_dev1 = np.std(sample1, ddof=1)\n",
    "std_dev2 = np.std(sample2, ddof=1)\n",
    "\n",
    "# Conduct a two-sample t-test assuming equal variances\n",
    "t_statistic, p_value = ttest_ind(sample1, sample2, equal_var=True)\n",
    "\n",
    "# Print the results\n",
    "print(\"Sample 1 mean: {:.2f}\".format(mean1))\n",
    "print(\"Sample 2 mean: {:.2f}\".format(mean2))\n",
    "print(\"Sample 1 standard deviation: {:.2f}\".format(std_dev1))\n",
    "print(\"Sample 2 standard deviation: {:.2f}\".format(std_dev2))\n",
    "print(\"t-statistic: {:.2f}\".format(t_statistic))\n",
    "print(\"p-value: {:.3f}\".format(p_value))\n",
    "\n",
    "# Determine the significance of the test at a 95% confidence level\n",
    "alpha = 0.05\n",
    "if p_value < alpha:\n",
    "    print(\"Reject null hypothesis: There is significant evidence that the means are different.\")\n",
    "else:\n",
    "    print(\"Fail to reject null hypothesis: There is insufficient evidence to conclude that the means are different.\")\n"
   ]
  },
  {
   "cell_type": "markdown",
   "id": "ef4bf7f6-6693-4847-b48b-309468d600c3",
   "metadata": {},
   "source": [
    "## Q6: What is a null and alternative hypothesis? Give some examples."
   ]
  },
  {
   "cell_type": "markdown",
   "id": "96c07147-1852-4f3e-86a2-5691d6e8b43a",
   "metadata": {},
   "source": [
    "A null hypothesis is a statistical hypothesis that assumes that there is no significant difference or effect in a population. It represents the status quo or the default assumption that there is no change, no relationship, or no effect. The null hypothesis is typically denoted as H0.\n",
    "\n",
    "An alternative hypothesis, on the other hand, is a statistical hypothesis that assumes that there is a significant difference or effect in a population. It represents the researcher's expectation, prediction, or theory. The alternative hypothesis is denoted as Ha or H1.\n",
    "\n",
    "Here are some examples of null and alternative hypotheses:\n",
    "\n",
    "A pharmaceutical company wants to test a new drug for treating a disease. The null hypothesis is that the drug has no effect on the disease, while the alternative hypothesis is that the drug has a significant effect on the disease.\n",
    "H0: The mean response of the drug group is equal to or less than the mean response of the placebo group.\n",
    "Ha: The mean response of the drug group is greater than the mean response of the placebo group.\n",
    "\n",
    "A researcher wants to investigate whether there is a gender difference in the average income of employees in a company. The null hypothesis is that there is no significant difference in the average income between male and female employees, while the alternative hypothesis is that there is a significant difference.\n",
    "H0: The mean income of male employees is equal to the mean income of female employees.\n",
    "Ha: The mean income of male employees is different from the mean income of female employees.\n",
    "\n",
    "A factory wants to test whether a new production process increases the yield of a product. The null hypothesis is that there is no significant difference in the yield between the old and new processes, while the alternative hypothesis is that there is a significant difference.\n",
    "H0: The mean yield of the new process is equal to the mean yield of the old process.\n",
    "Ha: The mean yield of the new process is greater than the mean yield of the old process.\n",
    "\n",
    "In all of these examples, the null hypothesis assumes that there is no difference or effect, while the alternative hypothesis assumes that there is a difference or effect. The goal of hypothesis testing is to evaluate the evidence from a sample of data and decide whether to reject or fail to reject the null hypothesis."
   ]
  },
  {
   "cell_type": "markdown",
   "id": "59e48864-6172-4ae6-a222-41d258df322c",
   "metadata": {},
   "source": [
    "## Q7: Write down the steps involved in hypothesis testing."
   ]
  },
  {
   "cell_type": "markdown",
   "id": "10624caf-5896-497e-a05a-d79e9d034da6",
   "metadata": {},
   "source": [
    "\n",
    "Hypothesis testing is a statistical method for making inferences about population parameters based on sample data. Here are the general steps involved in hypothesis testing:\n",
    "\n",
    "State the null and alternative hypotheses: Define the null hypothesis (H0) and the alternative hypothesis (Ha) based on the research question, the problem, or the claim being tested. The null hypothesis assumes that there is no significant difference or effect, while the alternative hypothesis assumes that there is a significant difference or effect.\n",
    "\n",
    "Determine the level of significance: Choose the level of significance (alpha) based on the desired level of confidence and the consequences of making a type I error (rejecting a true null hypothesis).\n",
    "\n",
    "Choose the test statistic: Select an appropriate test statistic based on the type of data, the research design, and the assumptions of the test. Common test statistics include t-tests, z-tests, chi-square tests, and F-tests.\n",
    "\n",
    "Compute the test statistic and p-value: Calculate the test statistic from the sample data and the hypothesized parameter values. Then, calculate the p-value, which is the probability of observing a test statistic as extreme or more extreme than the one calculated, assuming that the null hypothesis is true.\n",
    "\n",
    "Make a decision and draw a conclusion: Compare the p-value to the level of significance. If the p-value is less than or equal to the level of significance, reject the null hypothesis in favor of the alternative hypothesis. If the p-value is greater than the level of significance, fail to reject the null hypothesis. Then, interpret the result in the context of the research question, the problem, or the claim being tested.\n",
    "\n",
    "Check the assumptions and report the results: Verify that the assumptions of the test are met and report the results of the test, including the test statistic, the p-value, and the conclusion. Also, report any relevant effect sizes, confidence intervals, or power analyses to supplement the hypothesis test.\n",
    "\n",
    "These steps provide a general framework for conducting hypothesis testing. The actual implementation may vary depending on the specific test, the sample size, the population parameters, and other factors."
   ]
  },
  {
   "cell_type": "markdown",
   "id": "0e04abbe-700f-42d8-9a84-86b8c8ef21eb",
   "metadata": {},
   "source": [
    "## Q8. Define p-value and explain its significance in hypothesis testing."
   ]
  },
  {
   "cell_type": "markdown",
   "id": "b9c09e67-6618-4e52-b45e-70f9218e6416",
   "metadata": {},
   "source": [
    "In hypothesis testing, the p-value is the probability of observing a test statistic as extreme or more extreme than the one calculated, assuming that the null hypothesis is true. It is a measure of the strength of evidence against the null hypothesis, given the sample data and the chosen level of significance.\n",
    "\n",
    "The p-value is used to make a decision about whether to reject or fail to reject the null hypothesis. If the p-value is less than or equal to the level of significance (usually denoted as alpha), it is considered strong evidence against the null hypothesis, and the null hypothesis is rejected in favor of the alternative hypothesis. If the p-value is greater than the level of significance, it is not considered strong evidence against the null hypothesis, and the null hypothesis is not rejected.\n",
    "\n",
    "The smaller the p-value, the stronger the evidence against the null hypothesis. A p-value of 0.05, for example, means that there is a 5% chance of observing a test statistic as extreme or more extreme than the one calculated, assuming that the null hypothesis is true. This level of significance is commonly used in many fields as a threshold for rejecting the null hypothesis.\n",
    "\n",
    "It is important to note that the p-value is not the probability of the null hypothesis being true or false. It only measures the strength of evidence against the null hypothesis based on the sample data and the chosen level of significance. Therefore, a small p-value does not necessarily mean that the alternative hypothesis is true or that the null hypothesis is false. It only means that the null hypothesis is unlikely to be true given the observed data. The interpretation of the result should be made in the context of the research question, the problem, or the claim being tested."
   ]
  },
  {
   "cell_type": "markdown",
   "id": "d0a1b55c-c022-403a-9861-30400ff14cb0",
   "metadata": {
    "tags": []
   },
   "source": [
    "## Q9. Generate a Student's t-distribution plot using Python's matplotlib library, with the degrees of freedom parameter set to 10.\n"
   ]
  },
  {
   "cell_type": "code",
   "execution_count": 7,
   "id": "608fc74f-1626-43f7-b7bb-5903ba41c310",
   "metadata": {},
   "outputs": [
    {
     "data": {
      "image/png": "[encoded data removed]",
      "text/plain": [
       "<Figure size 640x480 with 1 Axes>"
      ]
     },
     "metadata": {},
     "output_type": "display_data"
    }
   ],
   "source": [
    "import numpy as np\n",
    "import matplotlib.pyplot as plt\n",
    "from scipy.stats import t\n",
    "\n",
    "# Define the degrees of freedom\n",
    "df = 10\n",
    "\n",
    "# Create an array of x-values\n",
    "x = np.linspace(-5, 5, 1000)\n",
    "\n",
    "# Calculate the corresponding y-values for the t-distribution\n",
    "y = t.pdf(x, df)\n",
    "\n",
    "# Create a plot\n",
    "plt.plot(x, y)\n",
    "\n",
    "# Add title and labels\n",
    "plt.title(\"Student's t-Distribution (df=10)\")\n",
    "plt.xlabel('x')\n",
    "plt.ylabel('Probability density')\n",
    "\n",
    "# Show the plot\n",
    "plt.show()\n"
   ]
  },
  {
   "cell_type": "markdown",
   "id": "5f16e3e0-c07d-448e-b95b-615232217272",
   "metadata": {},
   "source": [
    "## Q10. Write a Python program to calculate the two-sample t-test for independent samples, given two random samples of equal size and a null hypothesis that the population means are equal."
   ]
  },
  {
   "cell_type": "code",
   "execution_count": 8,
   "id": "c84fa6e3-240b-4869-8a02-00d1dbaabebf",
   "metadata": {},
   "outputs": [
    {
     "name": "stdout",
     "output_type": "stream",
     "text": [
      "t-statistic: -1.2998302370847976\n",
      "p-value: 0.19517036100137553\n"
     ]
    }
   ],
   "source": [
    "Q10. Write a Python program to calculate the two-sample t-test for independent samples, given two\n",
    "random samples of equal size and a null hypothesis that the population means are equal.\n",
    "import numpy as np\n",
    "from scipy.stats import ttest_ind\n",
    "\n",
    "# Generate two random samples with equal size\n",
    "sample1 = np.random.normal(5, 2, 100)\n",
    "sample2 = np.random.normal(5, 2, 100)\n",
    "\n",
    "# Calculate the t-statistic and p-value using scipy's ttest_ind function\n",
    "t_statistic, p_value = ttest_ind(sample1, sample2)\n",
    "\n",
    "# Print the results\n",
    "print(\"t-statistic:\", t_statistic)\n",
    "print(\"p-value:\", p_value)\n"
   ]
  },
  {
   "cell_type": "markdown",
   "id": "aef8dfad-72f8-407a-ad1e-1819315b81da",
   "metadata": {},
   "source": [
    "## Q11: What is Student’s t distribution? When to use the t-Distribution. "
   ]
  },
  {
   "cell_type": "markdown",
   "id": "2d5c9b39-aab7-4a9b-b1f8-7613327c4c9b",
   "metadata": {},
   "source": [
    "The Student's t-distribution is a probability distribution that is used in hypothesis testing when the sample size is small and/or the population standard deviation is unknown. It is a variation of the normal distribution and is characterized by its degrees of freedom, which determine the shape of the distribution.\n",
    "\n",
    "The t-distribution is used when the population standard deviation is unknown and must be estimated from the sample, or when the sample size is small (typically less than 30). It is also used in situations where the population is assumed to be normally distributed, but the sample size is small enough that the central limit theorem does not apply.\n",
    "\n",
    "In general, the t-distribution is used to test hypotheses about population means when the sample size is small or the population standard deviation is unknown. It is commonly used in fields such as psychology, education, and sociology, where experiments often involve small sample sizes."
   ]
  },
  {
   "cell_type": "markdown",
   "id": "9923879a-a2f8-4e7f-8d87-cff789ff046d",
   "metadata": {},
   "source": [
    "## Q12: What is t-statistic? State the formula for t-statistic."
   ]
  },
  {
   "cell_type": "markdown",
   "id": "45df8f2c-4d21-4d00-8c1a-3f64cdab0495",
   "metadata": {},
   "source": [
    "The t-statistic is a measure of how many standard errors a sample mean is away from the population mean. It is used in hypothesis testing to determine if the difference between two sample means is statistically significant. The t-statistic follows a Student's t-distribution with degrees of freedom equal to the sample size minus one.\n",
    "\n",
    "The formula for calculating the t-statistic for two independent sample means is:\n",
    "\n",
    "t = (x1 - x2) / (s_p * sqrt(1/n1 + 1/n2))\n",
    "\n",
    "where:\n",
    "\n",
    "x1 and x2 are the sample means of the two groups\n",
    "s_p is the pooled standard deviation of the two groups, calculated as:\n",
    "s_p = sqrt(((n1 - 1)*s1^2 + (n2 - 1)*s2^2) / (n1 + n2 - 2))\n",
    "\n",
    "n1 and n2 are the sample sizes of the two groups\n",
    "s1 and s2 are the sample standard deviations of the two groups"
   ]
  },
  {
   "cell_type": "markdown",
   "id": "8d8308da-be0a-4110-a923-2240851e7fd2",
   "metadata": {},
   "source": [
    "## Q13. A coffee shop owner wants to estimate the average daily revenue for their shop. They take a randomsample of 50 days and find the sample mean revenue to be $500 with a standard deviation of $50.Estimate the population mean revenue with a 95% confidence interval."
   ]
  },
  {
   "cell_type": "markdown",
   "id": "fea719a3-e754-4238-81e2-580e83688a93",
   "metadata": {},
   "source": [
    "We can estimate the population mean revenue using the following formula:\n",
    "\n",
    "Confidence interval = sample mean ± margin of error\n",
    "\n",
    "Where the margin of error can be calculated as:\n",
    "\n",
    "Margin of error = z * (standard deviation / sqrt(sample size))\n",
    "\n",
    "The value of z can be determined based on the desired level of confidence. For a 95% confidence interval, z is 1.96.\n",
    "\n",
    "Plugging in the values from the problem, we get:\n",
    "\n",
    "Margin of error = 1.96 * (50 / sqrt(50)) = 13.94\n",
    "\n",
    "Confidence interval = 500 ± 13.94\n",
    "\n",
    "So the 95% confidence interval for the population mean revenue is ($486.06, $513.94). We can be 95% confident that the true average daily revenue for the coffee shop falls within this range."
   ]
  },
  {
   "cell_type": "markdown",
   "id": "b692c9bf-9601-45f1-9641-d626ff61a033",
   "metadata": {},
   "source": [
    "## Q14. A researcher hypothesizes that a new drug will decrease blood pressure by 10 mmHg. They conduct a clinical trial with 100 patients and find that the sample mean decrease in blood pressure is 8 mmHg with a standard deviation of 3 mmHg. Test the hypothesis with a significance level of 0.05."
   ]
  },
  {
   "cell_type": "markdown",
   "id": "776fffa5-5bd7-4713-84e3-ec3a606ed63d",
   "metadata": {},
   "source": [
    "To test the hypothesis that the new drug will decrease blood pressure by 10 mmHg, we need to set up the null and alternative hypotheses as follows:\n",
    "\n",
    "Null hypothesis: The true mean decrease in blood pressure is not significantly different from 10 mmHg.\n",
    "Alternative hypothesis: The true mean decrease in blood pressure is significantly different from 10 mmHg.\n",
    "\n",
    "We will use a one-sample t-test with a significance level of 0.05 to test the hypothesis.\n",
    "\n",
    "First, we can calculate the t-value using the formula:\n",
    "\n",
    "t = (sample_mean - hypothesized_mean) / (sample_standard_error)\n",
    "\n",
    "where sample_mean is the sample mean decrease in blood pressure, hypothesized_mean is the hypothesized decrease in blood pressure (10 mmHg), and sample_standard_error is the standard error of the sample mean, which can be calculated as:\n",
    "\n",
    "sample_standard_error = sample_standard_deviation / sqrt(sample_size)\n",
    "\n",
    "where sample_standard_deviation is the sample standard deviation and sample_size is the sample size (100 in this case).\n",
    "\n",
    "Using these values, we can calculate the t-value as:\n",
    "\n",
    "t = (8 - 10) / (3 / sqrt(100)) = -6.67\n",
    "\n",
    "Next, we need to find the corresponding p-value for this t-value using a t-distribution with 99 degrees of freedom (sample_size - 1). We can do this using a t-distribution table or a statistical software package. The p-value turns out to be very small (less than 0.0001).\n",
    "\n",
    "Finally, we can compare the p-value to the significance level (0.05) to determine whether to reject or fail to reject the null hypothesis. Since the p-value is less than the significance level, we reject the null hypothesis and conclude that the true mean decrease in blood pressure is significantly different from 10 mmHg. In other words, the new drug does not appear to decrease blood pressure by the hypothesized amount of 10 mmHg."
   ]
  },
  {
   "cell_type": "markdown",
   "id": "63bdb184-fade-4331-85ba-0954ff30a620",
   "metadata": {},
   "source": [
    "## Q15. An electronics company produces a certain type of product with a mean weight of 5 pounds and a standard deviation of 0.5 pounds. A random sample of 25 products is taken, and the sample mean weight is found to be 4.8 pounds. Test the hypothesis that the true mean weight of the products is less than 5 pounds with a significance level of 0.01."
   ]
  },
  {
   "cell_type": "markdown",
   "id": "698eaebb-4776-44c2-a4ee-2799e5771a25",
   "metadata": {},
   "source": [
    "To test the hypothesis that the population means for the two groups are equal with a significance level of 0.01, we can use a two-sample t-test with the following null and alternative hypotheses:\n",
    "\n",
    "Null hypothesis: μ1 = μ2 (the population means for the two groups are equal)\n",
    "Alternative hypothesis: μ1 ≠ μ2 (the population means for the two groups are not equal)\n",
    "\n",
    "We can use the following formula to calculate the t-test statistic:\n",
    "\n",
    "t = (x̄1 - x̄2) / √[s1^2/n1 + s2^2/n2]\n",
    "\n",
    "where x̄1 and x̄2 are the sample means, s1 and s2 are the sample standard deviations, and n1 and n2 are the sample sizes.\n",
    "\n",
    "We can calculate the t-test statistic and compare it to the critical value for a two-tailed test with 68 degrees of freedom (df = n1 + n2 - 2) and a significance level of 0.01. We can look up the critical value in a t-distribution table or use the t.ppf() function from the Scipy library.\n",
    "\n",
    "python\n",
    "Copy code\n",
    "import numpy as np\n",
    "from scipy.stats import t\n",
    "\n",
    "# Define the sample statistics\n",
    "n1 = 30\n",
    "x1 = 80\n",
    "s1 = 10\n",
    "n2 = 40\n",
    "x2 = 75\n",
    "s2 = 8\n",
    "alpha = 0.01\n",
    "\n",
    "# Calculate the t-test statistic\n",
    "df = n1 + n2 - 2\n",
    "std_error = np.sqrt((s1**2 / n1) + (s2**2 / n2))\n",
    "t_statistic = (x1 - x2) / std_error\n",
    "\n",
    "# Find the critical value\n",
    "t_critical = abs(t.ppf(alpha/2, df))\n",
    "\n",
    "# Compare the t-test statistic to the critical value\n",
    "if abs(t_statistic) > t_critical:\n",
    "    print(\"Reject the null hypothesis\")\n",
    "else:\n",
    "    print(\"Fail to reject the null hypothesis\")\n",
    "The calculated t-test statistic is -2.27, and the critical value for a two-tailed test with 68 degrees of freedom and a significance level of 0.01 is 2.660. Since the absolute value of the t-test statistic is less than the critical value, we fail to reject the null hypothesis. Therefore, we do not have enough evidence to conclude that the population means for the two groups are different at a significance level of 0.01.\n",
    "\n",
    "\n",
    "\n",
    "\n",
    "\n",
    "Mohit kholia\n",
    "Q15. An electronics company produces a certain type of product with a mean weight of 5 pounds and a\n",
    "standard deviation of 0.5 pounds. A random sample of 25 products is taken, and the sample mean weight\n",
    "is found to be 4.8 pounds. Test the hypothesis that the true mean weight of the products is less than 5\n",
    "pounds with a significance level of 0.01.\n",
    "To test the hypothesis, we can use a one-tailed t-test with the following null and alternative hypotheses:\n",
    "\n",
    "Null hypothesis: the true mean weight is equal to 5 pounds.\n",
    "Alternative hypothesis: the true mean weight is less than 5 pounds.\n",
    "\n",
    "We can set the significance level, alpha, to 0.01.\n",
    "\n",
    "First, we need to calculate the t-statistic:\n",
    "\n",
    "t = (sample_mean - population_mean) / (sample_std / sqrt(n))\n",
    "where sample_mean = 4.8, population_mean = 5, sample_std = 0.5 / sqrt(25) = 0.1, and n = 25.\n",
    "\n",
    "t = (4.8 - 5) / (0.1)\n",
    "t = -2\n",
    "\n",
    "Next, we need to find the critical value from the t-distribution with degrees of freedom (df) = n - 1 = 24 and alpha = 0.01. We can use the t.ppf() function from the scipy.stats module to find this value:\n",
    "\n",
    "from scipy.stats import t\n",
    "\n",
    "cv = t.ppf(0.01, 24)\n",
    "\n",
    "cv = -2.4921594731575762\n",
    "\n",
    "The critical value is -2.492.\n",
    "\n",
    "Finally, we compare the t-statistic with the critical value. If the t-statistic is less than the critical value, we reject the null hypothesis and conclude that the true mean weight is less than 5 pounds. Otherwise, we fail to reject the null hypothesis.\n",
    "\n",
    "Since the t-statistic (-2) is less than the critical value (-2.492), we reject the null hypothesis and conclude that the true mean weight of the products is less than 5 pounds with a significance level of 0.01."
   ]
  },
  {
   "cell_type": "markdown",
   "id": "39e68e83-1e3d-436d-ada2-80fbfb38c212",
   "metadata": {},
   "source": [
    "## Q16. Two groups of students are given different study materials to prepare for a test. The first group (n1 =30) has a mean score of 80 with a standard deviation of 10, and the second group (n2 = 40) has a meanscore of 75 with a standard deviation of 8. Test the hypothesis that the population means for the two groups are equal with a significance level of 0.01."
   ]
  },
  {
   "cell_type": "markdown",
   "id": "56509183-f3cc-4b4a-b7c0-5867327dc0a0",
   "metadata": {},
   "source": [
    "To test the hypothesis that the population means for the two groups are equal with a significance level of 0.01, we can use a two-sample t-test with the following null and alternative hypotheses:\n",
    "\n",
    "Null hypothesis: μ1 = μ2 (the population means for the two groups are equal)\n",
    "Alternative hypothesis: μ1 ≠ μ2 (the population means for the two groups are not equal)\n",
    "\n",
    "We can use the following formula to calculate the t-test statistic:\n",
    "\n",
    "t = (x̄1 - x̄2) / √[s1^2/n1 + s2^2/n2]\n",
    "\n",
    "where x̄1 and x̄2 are the sample means, s1 and s2 are the sample standard deviations, and n1 and n2 are the sample sizes.\n",
    "\n",
    "We can calculate the t-test statistic and compare it to the critical value for a two-tailed test with 68 degrees of freedom (df = n1 + n2 - 2) and a significance level of 0.01. We can look up the critical value in a t-distribution table or use the t.ppf() function from the Scipy library"
   ]
  },
  {
   "cell_type": "code",
   "execution_count": 10,
   "id": "60d63913-1229-4eac-9534-7a40a1da3b2b",
   "metadata": {},
   "outputs": [
    {
     "name": "stdout",
     "output_type": "stream",
     "text": [
      "Fail to reject the null hypothesis\n"
     ]
    }
   ],
   "source": [
    "import numpy as np\n",
    "from scipy.stats import t\n",
    "\n",
    "# Define the sample statistics\n",
    "n1 = 30\n",
    "x1 = 80\n",
    "s1 = 10\n",
    "n2 = 40\n",
    "x2 = 75\n",
    "s2 = 8\n",
    "alpha = 0.01\n",
    "\n",
    "# Calculate the t-test statistic\n",
    "df = n1 + n2 - 2\n",
    "std_error = np.sqrt((s1**2 / n1) + (s2**2 / n2))\n",
    "t_statistic = (x1 - x2) / std_error\n",
    "\n",
    "# Find the critical value\n",
    "t_critical = abs(t.ppf(alpha/2, df))\n",
    "\n",
    "# Compare the t-test statistic to the critical value\n",
    "if abs(t_statistic) > t_critical:\n",
    "    print(\"Reject the null hypothesis\")\n",
    "else:\n",
    "    print(\"Fail to reject the null hypothesis\")\n"
   ]
  },
  {
   "cell_type": "markdown",
   "id": "866f7883-f34c-4e91-a03a-30d973b5f42d",
   "metadata": {},
   "source": [
    "## Q17. A marketing company wants to estimate the average number of ads watched by viewers during a TVprogram. They take a random sample of 50 viewers and find that the sample mean is 4 with a standard deviation of 1.5. Estimate the population mean with a 99% confidence interval."
   ]
  },
  {
   "cell_type": "code",
   "execution_count": 9,
   "id": "37a1f94d-a19d-4070-9510-7936a973b3ce",
   "metadata": {},
   "outputs": [
    {
     "name": "stdout",
     "output_type": "stream",
     "text": [
      "The population mean with a 99% confidence interval is between 3.4314963358572577 and 4.568503664142742\n"
     ]
    }
   ],
   "source": [
    "import numpy as np\n",
    "from scipy.stats import t\n",
    "\n",
    "# Define the sample statistics\n",
    "n = 50\n",
    "sample_mean = 4\n",
    "sample_std = 1.5\n",
    "\n",
    "# Calculate the standard error\n",
    "std_error = sample_std / np.sqrt(n)\n",
    "\n",
    "# Find the critical value for a 99% confidence interval\n",
    "alpha = 0.01\n",
    "df = n - 1\n",
    "t_critical = abs(t.ppf(alpha/2, df))\n",
    "\n",
    "# Calculate the confidence interval\n",
    "lower_limit = sample_mean - t_critical * std_error\n",
    "upper_limit = sample_mean + t_critical * std_error\n",
    "\n",
    "# Print the results\n",
    "print(\"The population mean with a 99% confidence interval is between\", lower_limit, \"and\", upper_limit)\n"
   ]
  },
  {
   "cell_type": "code",
   "execution_count": null,
   "id": "e89fae9c-53a4-4240-bcd3-2a65942d8144",
   "metadata": {},
   "outputs": [],
   "source": []
  }
 ],
 "metadata": {
  "kernelspec": {
   "display_name": "Python 3 (ipykernel)",
   "language": "python",
   "name": "python3"
  },
  "language_info": {
   "codemirror_mode": {
    "name": "ipython",
    "version": 3
   },
   "file_extension": ".py",
   "mimetype": "text/x-python",
   "name": "python",
   "nbconvert_exporter": "python",
   "pygments_lexer": "ipython3",
   "version": "3.10.8"
  }
 },
 "nbformat": 4,
 "nbformat_minor": 5
}
