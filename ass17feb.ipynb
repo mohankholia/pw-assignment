{
 "cells": [
  {
   "cell_type": "code",
   "execution_count": 1,
   "id": "26e8e9c4-91db-4d05-b622-db1b41b9f536",
   "metadata": {},
   "outputs": [
    {
     "data": {
      "text/plain": [
       "'MongoDB is a popular document-oriented NoSQL database that is designed to be highly scalable, flexible, and easy to use. In MongoDB, data is stored\\nin documents, which are similar to JSON objects. Each document can have its own unique structure and fields, allowing for a highly flexible data model.\\n\\nNon-relational databases, also known as NoSQL databases, are databases that do not use the traditional relational model based on tables and columns.\\nInstead, they use various data models, such as key-value stores, document stores, and graph databases, to store and manage data.\\nNoSQL databases are often designed to be highly scalable, fault-tolerant, and performant, making them a good choice for handling large volumes of \\ndata and high-traffic applications.\\n\\nIn general, MongoDB is preferred over SQL databases in scenarios where:\\n\\nFlexible Data Model: If the data model is highly flexible and may change frequently, MongoDB can be a good choice. MongoDB allows for dynamic schemas\\nand supports nested documents and arrays, making it easier to handle complex, hierarchical data structures.\\n\\nLarge Volumes of Unstructured Data: MongoDB is designed to handle large volumes of unstructured data, such as social media data, log files, and sensor\\ndata. Its flexible data model and support for sharding make it highly scalable and capable of handling large amounts of data.\\n\\nHigh Write Rates: If the application requires a high rate of writes, MongoDB can be a good choice. It uses a technique called write-ahead logging\\n(WAL) to ensure data durability and can also support multi-document transactions in version 4.0 and later.\\n\\nCloud-Native Applications: MongoDB is designed to work well in cloud-native environments and can be easily deployed on popular cloud platforms such as\\nAmazon Web Services (AWS), Microsoft Azure, and Google Cloud Platform (GCP). It also has built-in support for features such as automatic sharding and\\nload balancing, making it easier to scale up and down as needed.'"
      ]
     },
     "execution_count": 1,
     "metadata": {},
     "output_type": "execute_result"
    }
   ],
   "source": [
    "\"\"\"Q1. What is MongoDB? Explain non-relational databases in short. In which scenarios it is preferred to use\n",
    "MongoDB over SQL databases?\"\"\"\n",
    "#answer\n",
    "\"\"\"MongoDB is a popular document-oriented NoSQL database that is designed to be highly scalable, flexible, and easy to use. In MongoDB, data is stored\n",
    "in documents, which are similar to JSON objects. Each document can have its own unique structure and fields, allowing for a highly flexible data model.\n",
    "\n",
    "Non-relational databases, also known as NoSQL databases, are databases that do not use the traditional relational model based on tables and columns.\n",
    "Instead, they use various data models, such as key-value stores, document stores, and graph databases, to store and manage data.\n",
    "NoSQL databases are often designed to be highly scalable, fault-tolerant, and performant, making them a good choice for handling large volumes of \n",
    "data and high-traffic applications.\n",
    "\n",
    "In general, MongoDB is preferred over SQL databases in scenarios where:\n",
    "\n",
    "Flexible Data Model: If the data model is highly flexible and may change frequently, MongoDB can be a good choice. MongoDB allows for dynamic schemas\n",
    "and supports nested documents and arrays, making it easier to handle complex, hierarchical data structures.\n",
    "\n",
    "Large Volumes of Unstructured Data: MongoDB is designed to handle large volumes of unstructured data, such as social media data, log files, and sensor\n",
    "data. Its flexible data model and support for sharding make it highly scalable and capable of handling large amounts of data.\n",
    "\n",
    "High Write Rates: If the application requires a high rate of writes, MongoDB can be a good choice. It uses a technique called write-ahead logging\n",
    "(WAL) to ensure data durability and can also support multi-document transactions in version 4.0 and later.\n",
    "\n",
    "Cloud-Native Applications: MongoDB is designed to work well in cloud-native environments and can be easily deployed on popular cloud platforms such as\n",
    "Amazon Web Services (AWS), Microsoft Azure, and Google Cloud Platform (GCP). It also has built-in support for features such as automatic sharding and\n",
    "load balancing, making it easier to scale up and down as needed.\"\"\""
   ]
  },
  {
   "cell_type": "code",
   "execution_count": 2,
   "id": "c04ee349-7bbe-497f-91fc-063832326cce",
   "metadata": {},
   "outputs": [
    {
     "data": {
      "text/plain": [
       "'MongoDB is a popular document-oriented NoSQL database that offers a range of features and capabilities that make it a good choice for many\\napplications. Some of the key features of MongoDB include:\\n\\nDocument-Oriented: In MongoDB, data is stored in flexible, JSON-like documents. Each document can have its own unique structure and fields, making it\\neasier to handle complex, hierarchical data structures.\\n\\nDynamic Schema: MongoDB uses a dynamic schema, which means that documents in a collection can have different fields and structures. This makes it\\neasy to handle evolving data models and adapt to changing business requirements.\\n\\nHigh Scalability: MongoDB is designed to be highly scalable and can handle large volumes of data and high traffic. It supports horizontal scaling \\nthrough sharding, which allows you to distribute data across multiple nodes and add more capacity as needed.\\n\\nHigh Availability: MongoDB offers built-in replication and failover support, which ensures that your data remains highly available even in the event\\nof a node failure. It also provides automatic election of new primary nodes and automatic failover.\\n\\nRich Query Language: MongoDB provides a rich query language that includes support for ad-hoc queries, indexing, and aggregation. It also supports\\ngeospatial queries and full-text search.\\n\\nACID Transactions: In version 4.0 and later, MongoDB provides multi-document ACID transactions, which ensure that multiple operations on multiple\\ndocuments are atomic and consistent.\\n\\nFlexible Deployment: MongoDB can be deployed on-premises, in the cloud, or in a hybrid environment. It also offers support for popular cloud platforms\\nand container orchestration frameworks such as Kubernetes.\\n\\nCommunity Support: MongoDB has a large and active community of users and developers, which provides support, guidance, and resources for getting \\nstarted and working with MongoDB.'"
      ]
     },
     "execution_count": 2,
     "metadata": {},
     "output_type": "execute_result"
    }
   ],
   "source": [
    "\"\"\"Q2. State and Explain the features of MongoDB.\"\"\"\n",
    "#answer\n",
    "\"\"\"MongoDB is a popular document-oriented NoSQL database that offers a range of features and capabilities that make it a good choice for many\n",
    "applications. Some of the key features of MongoDB include:\n",
    "\n",
    "Document-Oriented: In MongoDB, data is stored in flexible, JSON-like documents. Each document can have its own unique structure and fields, making it\n",
    "easier to handle complex, hierarchical data structures.\n",
    "\n",
    "Dynamic Schema: MongoDB uses a dynamic schema, which means that documents in a collection can have different fields and structures. This makes it\n",
    "easy to handle evolving data models and adapt to changing business requirements.\n",
    "\n",
    "High Scalability: MongoDB is designed to be highly scalable and can handle large volumes of data and high traffic. It supports horizontal scaling \n",
    "through sharding, which allows you to distribute data across multiple nodes and add more capacity as needed.\n",
    "\n",
    "High Availability: MongoDB offers built-in replication and failover support, which ensures that your data remains highly available even in the event\n",
    "of a node failure. It also provides automatic election of new primary nodes and automatic failover.\n",
    "\n",
    "Rich Query Language: MongoDB provides a rich query language that includes support for ad-hoc queries, indexing, and aggregation. It also supports\n",
    "geospatial queries and full-text search.\n",
    "\n",
    "ACID Transactions: In version 4.0 and later, MongoDB provides multi-document ACID transactions, which ensure that multiple operations on multiple\n",
    "documents are atomic and consistent.\n",
    "\n",
    "Flexible Deployment: MongoDB can be deployed on-premises, in the cloud, or in a hybrid environment. It also offers support for popular cloud platforms\n",
    "and container orchestration frameworks such as Kubernetes.\n",
    "\n",
    "Community Support: MongoDB has a large and active community of users and developers, which provides support, guidance, and resources for getting \n",
    "started and working with MongoDB.\"\"\""
   ]
  },
  {
   "cell_type": "code",
   "execution_count": null,
   "id": "6b8e29ff-a989-4590-9782-17851f5c320b",
   "metadata": {},
   "outputs": [],
   "source": [
    "\"\"\"Q3. Write a code to connect MongoDB to Python. Also, create a database and a collection in MongoDB.\"\"\"\n",
    "\n",
    "import pymongo\n",
    "\n",
    "# Set up the MongoDB client and connect to the server\n",
    "client = pymongo.MongoClient(\"mongodb://localhost:27017/\")\n",
    "\n",
    "# Create a new database and collection\n",
    "mydb = client[\"mydatabase\"]\n",
    "mycol = mydb[\"customers\"]\n",
    "\n",
    "# Insert a new document into the collection\n",
    "mydict = { \"name\": \"John\", \"address\": \"Highway 37\" }\n",
    "x = mycol.insert_one(mydict)\n",
    "\n",
    "# Print the ID of the inserted document\n",
    "print(x.inserted_id)"
   ]
  },
  {
   "cell_type": "code",
   "execution_count": null,
   "id": "0c1eb788-f9b9-43a8-b641-71368acb5039",
   "metadata": {},
   "outputs": [],
   "source": []
  },
  {
   "cell_type": "code",
   "execution_count": null,
   "id": "7f3b49cc-d9c4-4bb3-8d15-a52406d17517",
   "metadata": {},
   "outputs": [],
   "source": [
    "\"\"\"Q4. Using the database and the collection created in question number 3, write a code to insert one record,\n",
    "and insert many records. Use the find() and find_one() methods to print the inserted record.\"\"\"\n",
    "#answer\n",
    "import pymongo\n",
    "\n",
    "# Set up the MongoDB client and connect to the server\n",
    "client = pymongo.MongoClient(\"mongodb://localhost:27017/\")\n",
    "\n",
    "# Create a new database and collection\n",
    "mydb = client[\"mydatabase\"]\n",
    "mycol = mydb[\"customers\"]\n",
    "\n",
    "# Insert one record\n",
    "mydict = { \"name\": \"Jane\", \"address\": \"Park Lane 38\" }\n",
    "x = mycol.insert_one(mydict)\n",
    "\n",
    "# Insert many records\n",
    "mylist = [\n",
    "  { \"name\": \"Peter\", \"address\": \"Lowstreet 27\" },\n",
    "  { \"name\": \"Amy\", \"address\": \"Apple st 652\" },\n",
    "  { \"name\": \"Hannah\", \"address\": \"Mountain 21\" },\n",
    "  { \"name\": \"Michael\", \"address\": \"Valley 345\" },\n",
    "  { \"name\": \"Sandy\", \"address\": \"Ocean blvd 2\" }\n",
    "]\n",
    "y = mycol.insert_many(mylist)\n",
    "\n",
    "# Print the IDs of the inserted documents\n",
    "print(x.inserted_id)\n",
    "print(y.inserted_ids)\n",
    "\n",
    "# Retrieve the inserted records\n",
    "print(mycol.find_one())\n",
    "for record in mycol.find():\n",
    "    print(record)"
   ]
  },
  {
   "cell_type": "code",
   "execution_count": null,
   "id": "88f516f8-e4a7-4f49-933e-3d9a80bea2bd",
   "metadata": {},
   "outputs": [],
   "source": [
    "\"\"\"Q5. Explain how you can use the find() method to query the MongoDB database. Write a simple code to\n",
    "demonstrate this.\"\"\"\n",
    "#Answer\n",
    "\"\"\"The find() method is used to query a MongoDB database to retrieve documents that match a specified set of criteria. The find() method returns a \n",
    "cursor object that can be used to iterate over the matched documents.\n",
    "\n",
    "The find() method takes an optional query parameter that specifies the criteria for the selection. The query parameter is a dictionary that contains\n",
    "one or more key-value pairs, where each key represents a field in\n",
    "the document and the corresponding value represents the desired value for that field.\"\"\"\n",
    "import pymongo\n",
    "\n",
    "# Set up the MongoDB client and connect to the server\n",
    "client = pymongo.MongoClient(\"mongodb://localhost:27017/\")\n",
    "\n",
    "# Select the database and collection to query\n",
    "db = client[\"mydatabase\"]\n",
    "col = db[\"customers\"]\n",
    "\n",
    "# Define a query to find all customers with an address starting with the letter 'S'\n",
    "query = { \"address\": { \"$regex\": \"^S\" } }\n",
    "\n",
    "# Use the find() method to execute the query and retrieve the matching documents\n",
    "results = col.find(query)\n",
    "\n",
    "# Print the matching documents\n",
    "for doc in results:\n",
    "    print(doc)"
   ]
  },
  {
   "cell_type": "code",
   "execution_count": null,
   "id": "5bd750a1-83c6-4f24-b856-e40e9a3f0107",
   "metadata": {},
   "outputs": [],
   "source": [
    "\"\"\"Q6. Explain the sort() method. Give an example to demonstrate sorting in MongoDB.\"\"\"\n",
    "#Answer\n",
    "\"\"\"The sort() method in MongoDB is used to sort the documents in a collection based on the specified criteria. The sort() method takes an object as \n",
    "its parameter, where the keys are the field names and the values are the sort order. The sort order can be specified as 1 for ascending and -1 for \n",
    "descending.Here is an example of sorting docume\"\"\"\n",
    "db.users.find().sort({age: -1, name: 1})"
   ]
  },
  {
   "cell_type": "code",
   "execution_count": 11,
   "id": "8a6fda75-d13e-49b4-83b6-6c517aad559c",
   "metadata": {},
   "outputs": [
    {
     "data": {
      "text/plain": [
       "'In MongoDB, there are three methods used for deleting data from a collection: delete_one(), delete_many(), and drop(). \\nEach of these methods is used in different scenarios to achieve specific goals.\\n\\ndelete_one() method is used to delete a single document from a collection that matches the specified criteria. If multiple documents in the collection\\nmatch the specified criteria, only the first document found will be deleted.\\ndelete_many() method is used to delete multiple documents from a collection that match the specified criteria.\\ndrop() method is used to delete an entire collection from the database. This method drops the entire collection and all its associated indexes, \\nand the collection will no longer exist.'"
      ]
     },
     "execution_count": 11,
     "metadata": {},
     "output_type": "execute_result"
    }
   ],
   "source": [
    "\"\"\"Q7. Explain why delete_one(), delete_many(), and drop() is used.\"\"\"\n",
    "#answer\n",
    "\"\"\"In MongoDB, there are three methods used for deleting data from a collection: delete_one(), delete_many(), and drop(). \n",
    "Each of these methods is used in different scenarios to achieve specific goals.\n",
    "\n",
    "delete_one() method is used to delete a single document from a collection that matches the specified criteria. If multiple documents in the collection\n",
    "match the specified criteria, only the first document found will be deleted.\n",
    "delete_many() method is used to delete multiple documents from a collection that match the specified criteria.\n",
    "drop() method is used to delete an entire collection from the database. This method drops the entire collection and all its associated indexes, \n",
    "and the collection will no longer exist.\"\"\""
   ]
  },
  {
   "cell_type": "code",
   "execution_count": null,
   "id": "4a249d81-9650-4d83-9c1f-50740b886f65",
   "metadata": {},
   "outputs": [],
   "source": []
  }
 ],
 "metadata": {
  "kernelspec": {
   "display_name": "Python 3 (ipykernel)",
   "language": "python",
   "name": "python3"
  },
  "language_info": {
   "codemirror_mode": {
    "name": "ipython",
    "version": 3
   },
   "file_extension": ".py",
   "mimetype": "text/x-python",
   "name": "python",
   "nbconvert_exporter": "python",
   "pygments_lexer": "ipython3",
   "version": "3.10.8"
  }
 },
 "nbformat": 4,
 "nbformat_minor": 5
}
