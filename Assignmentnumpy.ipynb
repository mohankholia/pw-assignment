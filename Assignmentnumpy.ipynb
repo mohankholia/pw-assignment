{
 "cells": [
  {
   "cell_type": "code",
   "execution_count": 32,
   "id": "f6696a45-9e88-4237-b0f4-2c9c577fe722",
   "metadata": {},
   "outputs": [
    {
     "name": "stdout",
     "output_type": "stream",
     "text": [
      "type of list_ variable: <class 'list'>\n",
      "type of array_list variable: <class 'numpy.ndarray'>\n"
     ]
    }
   ],
   "source": [
    "\"\"\"Q1. Is there any difference in the data type of variables list_ and array_list? If there is then write a code to print the data types of both the \n",
    "variables.\"\"\"\n",
    "#ans\n",
    "\"\"\"\n",
    "Yes, there is a difference in the data type of the list_ and array_list variables. The list_ variable is a Python list object, while the array_list\n",
    "variable is a NumPy array object. \n",
    "The elements of list_ are of type string, while the elements of array_list are of type numpy.str_.\"\"\"\n",
    "list1=[1,2,3,3,2,2,]\n",
    "array_list=np.array([[1,2,3],[4,5,6]])\n",
    "print(f'type of list_ variable: {type(list1)}')\n",
    "print(f'type of array_list variable: {type(array_list)}')"
   ]
  },
  {
   "cell_type": "code",
   "execution_count": 33,
   "id": "9474e23a-b06a-432c-85c0-feddac800dff",
   "metadata": {},
   "outputs": [
    {
     "name": "stdout",
     "output_type": "stream",
     "text": [
      "<class 'int'>\n",
      "<class 'int'>\n",
      "<class 'int'>\n",
      "<class 'int'>\n",
      "<class 'int'>\n",
      "<class 'int'>\n",
      "<class 'numpy.ndarray'>\n",
      "<class 'numpy.ndarray'>\n"
     ]
    }
   ],
   "source": [
    "\"\"\"Q2. Write a code to print the data type of each and every element of both the variables list_ and arra_list.\"\"\"\n",
    "for i in list1:\n",
    "    print(type(i))\n",
    "\n",
    "for i in array_list:\n",
    "    print(type(i))"
   ]
  },
  {
   "cell_type": "code",
   "execution_count": 35,
   "id": "36c1d348-9916-49e8-8241-c9282549190e",
   "metadata": {},
   "outputs": [],
   "source": [
    "\"\"\"Q3. Considering the following changes in the variable, array_list:\"\"\"\n",
    "array_list = np.array(object = list1, dtype = int)"
   ]
  },
  {
   "cell_type": "code",
   "execution_count": 37,
   "id": "7bfa36e1-0c0e-43c3-8fb4-a9ca335abb45",
   "metadata": {},
   "outputs": [
    {
     "name": "stdout",
     "output_type": "stream",
     "text": [
      "<class 'int'>\n",
      "<class 'int'>\n",
      "<class 'int'>\n",
      "<class 'int'>\n",
      "<class 'int'>\n",
      "<class 'int'>\n",
      "<class 'numpy.int64'>\n",
      "<class 'numpy.int64'>\n",
      "<class 'numpy.int64'>\n",
      "<class 'numpy.int64'>\n",
      "<class 'numpy.int64'>\n",
      "<class 'numpy.int64'>\n"
     ]
    }
   ],
   "source": [
    "\"\"\"Will there be any difference in the data type of the elements present in both the variables, list_ and array_list? If so then print the data types\n",
    "of each and every element present in both the variables, list_ and array_list.\n",
    "Yes, there will be a difference in the data type of the elements present in both variables, list_ and array_list. When we create the array_list using\n",
    "np.array(object=list_, dtype=int), we specify the dtype parameter as int, which means that the elements of array_list will be of type numpy.int32.\"\"\"\n",
    "\n",
    "for i in list1:\n",
    "    print(type(i))\n",
    "\n",
    "for i in array_list:\n",
    "    print(type(i))"
   ]
  },
  {
   "cell_type": "code",
   "execution_count": 38,
   "id": "34687949-4d3e-4a9b-91c6-377e71daeea2",
   "metadata": {},
   "outputs": [],
   "source": [
    "#Consider the below code to answer further questions:\n",
    "num_list = [ [ 1 , 2 , 3 ] , [ 4 , 5 , 6 ] ]\n",
    "num_array = np.array(object = num_list)"
   ]
  },
  {
   "cell_type": "code",
   "execution_count": 39,
   "id": "dfd10b6e-0ca9-4bcf-a9dc-0ec416be3c8e",
   "metadata": {},
   "outputs": [
    {
     "data": {
      "text/plain": [
       "(2, 3)"
      ]
     },
     "execution_count": 39,
     "metadata": {},
     "output_type": "execute_result"
    }
   ],
   "source": [
    "#Q4. Write a code to find the following characteristics of variable, num_array:\n",
    "#(i) shape\n",
    "num_array.shape"
   ]
  },
  {
   "cell_type": "code",
   "execution_count": 40,
   "id": "48fd7524-51ce-4612-9768-5a4067d9055a",
   "metadata": {},
   "outputs": [
    {
     "data": {
      "text/plain": [
       "6"
      ]
     },
     "execution_count": 40,
     "metadata": {},
     "output_type": "execute_result"
    }
   ],
   "source": [
    "# (ii) size\n",
    "num_array.size"
   ]
  },
  {
   "cell_type": "code",
   "execution_count": 43,
   "id": "2c1d9079-dd23-44f9-9956-3d440a413211",
   "metadata": {},
   "outputs": [
    {
     "data": {
      "text/plain": [
       "array([[0., 0., 0.],\n",
       "       [0., 0., 0.],\n",
       "       [0., 0., 0.]])"
      ]
     },
     "execution_count": 43,
     "metadata": {},
     "output_type": "execute_result"
    }
   ],
   "source": [
    "\"\"\"Q5. Write a code to create numpy array of 3*3 matrix containing zeros only, using a numpy array\n",
    "creation function.\n",
    "[Hint: The size of the array will be 9 and the shape will be (3,3).]\"\"\"\n",
    "import numpy as np\n",
    "arr=np.zeros((3,3))\n",
    "arr"
   ]
  },
  {
   "cell_type": "code",
   "execution_count": 49,
   "id": "ea7c74ac-5331-41f1-8f47-18cf09d17542",
   "metadata": {},
   "outputs": [
    {
     "data": {
      "text/plain": [
       "array([[1., 0., 0., 0., 0.],\n",
       "       [0., 1., 0., 0., 0.],\n",
       "       [0., 0., 1., 0., 0.],\n",
       "       [0., 0., 0., 1., 0.],\n",
       "       [0., 0., 0., 0., 1.]])"
      ]
     },
     "execution_count": 49,
     "metadata": {},
     "output_type": "execute_result"
    }
   ],
   "source": [
    "\"\"\"Q6. Create an identity matrix of shape (5,5) using numpy functions?\"\"\"\n",
    "#[Hint: An identity matrix is a matrix containing 1 diagonally and other elements will be 0.]\n",
    "ind=np.eye(5,5)\n",
    "ind"
   ]
  },
  {
   "cell_type": "code",
   "execution_count": null,
   "id": "1590f469-b4f5-49f1-88c4-179b0e9cbf55",
   "metadata": {},
   "outputs": [],
   "source": []
  }
 ],
 "metadata": {
  "kernelspec": {
   "display_name": "Python 3 (ipykernel)",
   "language": "python",
   "name": "python3"
  },
  "language_info": {
   "codemirror_mode": {
    "name": "ipython",
    "version": 3
   },
   "file_extension": ".py",
   "mimetype": "text/x-python",
   "name": "python",
   "nbconvert_exporter": "python",
   "pygments_lexer": "ipython3",
   "version": "3.10.8"
  }
 },
 "nbformat": 4,
 "nbformat_minor": 5
}
