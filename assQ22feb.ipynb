{
 "cells": [
  {
   "cell_type": "code",
   "execution_count": 1,
   "id": "ec75651e-6558-48ed-b910-3b26d592d39c",
   "metadata": {},
   "outputs": [
    {
     "data": {
      "text/plain": [
       "'Q1. Create a Pandas Series that contains the following data: 4, 8, 15, 16, 23, and 42. Then, print the series.'"
      ]
     },
     "execution_count": 1,
     "metadata": {},
     "output_type": "execute_result"
    }
   ],
   "source": [
    "\"\"\"Q1. Create a Pandas Series that contains the following data: 4, 8, 15, 16, 23, and 42. Then, print the series.\"\"\""
   ]
  },
  {
   "cell_type": "code",
   "execution_count": 8,
   "id": "9b881555-2afc-4ebc-b085-ace92cb99701",
   "metadata": {},
   "outputs": [
    {
     "name": "stdout",
     "output_type": "stream",
     "text": [
      "0     4\n",
      "1     8\n",
      "2    15\n",
      "3    16\n",
      "4    23\n",
      "5    42\n",
      "dtype: int64\n"
     ]
    }
   ],
   "source": [
    "import pandas as pd\n",
    "\n",
    "d = [4, 8, 15, 16, 23, 42]\n",
    "\n",
    "series = pd.Series(d)\n",
    "\n",
    "print(series)"
   ]
  },
  {
   "cell_type": "code",
   "execution_count": 12,
   "id": "8dc993ef-47ab-491f-ab82-d61291b87870",
   "metadata": {},
   "outputs": [
    {
     "name": "stdout",
     "output_type": "stream",
     "text": [
      "0     10\n",
      "1     20\n",
      "2     30\n",
      "3     40\n",
      "4     50\n",
      "5     60\n",
      "6     70\n",
      "7     80\n",
      "8     90\n",
      "9    100\n",
      "dtype: int64\n"
     ]
    }
   ],
   "source": [
    "\"\"\"Q2. Create a variable of list type containing 10 elements in it, and apply pandas.Series function on the\n",
    "variable print it.\"\"\"\n",
    "#answer\n",
    "import pandas as pd\n",
    "\n",
    "my_list = [10, 20, 30, 40, 50, 60, 70, 80, 90, 100]\n",
    "\n",
    "my_series = pd.Series(my_list)\n",
    "\n",
    "print(my_series)"
   ]
  },
  {
   "cell_type": "code",
   "execution_count": 1,
   "id": "15aeb5c3-72f2-474d-ba51-fd70ba0130e3",
   "metadata": {},
   "outputs": [
    {
     "data": {
      "text/html": [
       "<div>\n",
       "<style scoped>\n",
       "    .dataframe tbody tr th:only-of-type {\n",
       "        vertical-align: middle;\n",
       "    }\n",
       "\n",
       "    .dataframe tbody tr th {\n",
       "        vertical-align: top;\n",
       "    }\n",
       "\n",
       "    .dataframe thead th {\n",
       "        text-align: right;\n",
       "    }\n",
       "</style>\n",
       "<table border=\"1\" class=\"dataframe\">\n",
       "  <thead>\n",
       "    <tr style=\"text-align: right;\">\n",
       "      <th></th>\n",
       "      <th>name</th>\n",
       "      <th>Age</th>\n",
       "      <th>Gender</th>\n",
       "    </tr>\n",
       "  </thead>\n",
       "  <tbody>\n",
       "    <tr>\n",
       "      <th>0</th>\n",
       "      <td>Alice</td>\n",
       "      <td>25</td>\n",
       "      <td>Female</td>\n",
       "    </tr>\n",
       "    <tr>\n",
       "      <th>1</th>\n",
       "      <td>Bob</td>\n",
       "      <td>30</td>\n",
       "      <td>Male</td>\n",
       "    </tr>\n",
       "    <tr>\n",
       "      <th>2</th>\n",
       "      <td>Claire</td>\n",
       "      <td>27</td>\n",
       "      <td>female</td>\n",
       "    </tr>\n",
       "  </tbody>\n",
       "</table>\n",
       "</div>"
      ],
      "text/plain": [
       "     name  Age  Gender\n",
       "0   Alice   25  Female\n",
       "1     Bob   30    Male\n",
       "2  Claire   27  female"
      ]
     },
     "execution_count": 1,
     "metadata": {},
     "output_type": "execute_result"
    }
   ],
   "source": [
    "\"\"\"Q3. Create a Pandas DataFrame that contains the following data:\n",
    "Name\n",
    "Alice\n",
    "Bob\n",
    "Claire\n",
    "Age\n",
    "25\n",
    "30\n",
    "27\n",
    "Gender\n",
    "Female\n",
    "Male\n",
    "Female\n",
    "Then, print the DataFrame.\"\"\"\n",
    "import pandas as pd\n",
    "data={\"name\":[\"Alice\",\"Bob\",\"Claire\"],\"Age\":[25,30,27],\"Gender\":[\"Female\",\"Male\",\"female\"]}\n",
    "df=pd.DataFrame(data)\n",
    "df"
   ]
  },
  {
   "cell_type": "code",
   "execution_count": 2,
   "id": "cf2854c3-8209-4084-b889-a2bbede8e23f",
   "metadata": {},
   "outputs": [
    {
     "name": "stdout",
     "output_type": "stream",
     "text": [
      "   Name  Age      City\n",
      "0  John   28  New York\n",
      "1  Jane   23     Paris\n",
      "2   Bob   45    London\n",
      "3  Mary   37    Sydney\n"
     ]
    }
   ],
   "source": [
    "\"\"\"DataFrame is a 2-dimensional labeled data structure in Pandas which is used to represent data in a tabular format consisting of rows\n",
    "and columns, similar to a spreadsheet or a SQL table. It can be thought of as a collection of Pandas Series where each Series represents a\n",
    "column in the DataFra me.\"\"\"\n",
    "import pandas as pd\n",
    "\n",
    "# Create a dictionary of data\n",
    "data = {'Name': ['John', 'Jane', 'Bob', 'Mary'],\n",
    "        'Age': [28, 23, 45, 37],\n",
    "        'City': ['New York', 'Paris', 'London', 'Sydney']}\n",
    "\n",
    "# Create a DataFrame from the dictionary\n",
    "df = pd.DataFrame(data)\n",
    "\n",
    "# Create a Series from a column of the DataFrame\n",
    "ages = df['Age']\n",
    "\n",
    "# Display the DataFrame\n",
    "print(df)"
   ]
  },
  {
   "cell_type": "code",
   "execution_count": 4,
   "id": "41121dad-1ff2-48bf-8330-8f61a2a7b9ca",
   "metadata": {},
   "outputs": [
    {
     "data": {
      "text/plain": [
       "'apply: Used to apply a function to each element or row/column of the DataFrame'"
      ]
     },
     "execution_count": 4,
     "metadata": {},
     "output_type": "execute_result"
    }
   ],
   "source": [
    "\"\"\"Q5. What are some common functions you can use to manipulate data in a Pandas DataFrame? Can\n",
    "you give an example of when you might use one of these functions?\"\"\"\n",
    "#answer\n",
    "\"\"\"Pandas provides a wide range of functions for manipulating data in a DataFrame. Some common functions include:\n",
    "loc and iloc: Used to access specific rows and columns in the DataFrame. \n",
    "loc is used to select data by label, whereas iloc is used to select data by integer position\"\"\"\n",
    "\"\"\"drop: Used to drop rows or columns from the DataFrame. \"\"\"\n",
    "\"\"\"groupby: Used to group the DataFrame by one or more columns and apply a function to each group\"\"\"\n",
    "\"\"\"merge: Used to combine two DataFrames into a single DataFrame based on a common column.\"\"\"\n",
    "\"\"\"apply: Used to apply a function to each element or row/column of the DataFrame\"\"\""
   ]
  },
  {
   "cell_type": "code",
   "execution_count": 5,
   "id": "439bb9ad-33eb-4ace-a9fd-5dca71253801",
   "metadata": {},
   "outputs": [
    {
     "data": {
      "text/plain": [
       "'In Pandas, both Series and DataFrame are mutable in nature, which means that their values can be changed after they have been created.\\nHowever, Panel is not recommended for use anymore and is considered deprecated as of version 0.25.0. It has been replaced by the more\\npowerful and flexible MultiIndex objects, which can be used to represent higher-dimensional data in a DataFrame.'"
      ]
     },
     "execution_count": 5,
     "metadata": {},
     "output_type": "execute_result"
    }
   ],
   "source": [
    "\"\"\"Q6. Which of the following is mutable in nature Series, DataFrame, Panel?\"\"\"\n",
    "#answer\n",
    "\"\"\"In Pandas, both Series and DataFrame are mutable in nature, which means that their values can be changed after they have been created.\n",
    "However, Panel is not recommended for use anymore and is considered deprecated as of version 0.25.0. It has been replaced by the more\n",
    "powerful and flexible MultiIndex objects, which can be used to represent higher-dimensional data in a DataFrame.\"\"\"\n"
   ]
  },
  {
   "cell_type": "code",
   "execution_count": null,
   "id": "e4448e98-d09b-4eff-a3bb-1f6ee5ddb5f1",
   "metadata": {},
   "outputs": [],
   "source": [
    "\"\"\"Q7. Create a DataFrame using multiple Series. Explain with an example.\"\"\"\n",
    "#answer\n",
    "\"\"\"To create a DataFrame using multiple Series,\n",
    "we can first create each Series individually and then combine them into a single DataFrame. Here's an example:\"\"\"\n",
    "\n",
    "import pandas as pd\n",
    "\n",
    "# Create a Series of names\n",
    "names = pd.Series(['John', 'Jane', 'Bob', 'Mary'])\n",
    "\n",
    "# Create a Series of ages\n",
    "ages = pd.Series([28, 23, 45, 37])\n",
    "\n",
    "# Create a Series of cities\n",
    "cities = pd.Series(['New York', 'Paris', 'London', 'Sydney'])\n",
    "\n",
    "# Combine the Series into a DataFrame\n",
    "df = pd.DataFrame({'Name': names, 'Age': ages, 'City': cities})\n",
    "\n",
    "# Display the DataFrame\n",
    "print(df)\n"
   ]
  },
  {
   "cell_type": "code",
   "execution_count": null,
   "id": "911187d6-08b3-43ab-921a-d692441f3758",
   "metadata": {},
   "outputs": [],
   "source": []
  }
 ],
 "metadata": {
  "kernelspec": {
   "display_name": "Python 3 (ipykernel)",
   "language": "python",
   "name": "python3"
  },
  "language_info": {
   "codemirror_mode": {
    "name": "ipython",
    "version": 3
   },
   "file_extension": ".py",
   "mimetype": "text/x-python",
   "name": "python",
   "nbconvert_exporter": "python",
   "pygments_lexer": "ipython3",
   "version": "3.10.8"
  }
 },
 "nbformat": 4,
 "nbformat_minor": 5
}
