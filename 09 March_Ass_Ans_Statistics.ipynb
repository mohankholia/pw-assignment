{
 "cells": [
  {
   "cell_type": "code",
   "execution_count": null,
   "id": "11b3ce72",
   "metadata": {},
   "outputs": [],
   "source": [
    "# Q1: What are the Probability Mass Function (PMF) and Probability Density Function (PDF)? Explain with\n",
    "# an example."
   ]
  },
  {
   "cell_type": "markdown",
   "id": "6aaae3ba",
   "metadata": {},
   "source": [
    "Probability Mass Function (PMF) and Probability Density Function (PDF) are mathematical tools used in probability theory to describe the likelihood of a random variable taking on a particular value or set of values.\n",
    "\n",
    "\n",
    "> The Probability Mass Function (PMF) is a function that maps each possible value of a discrete random variable to the probability of that value occurring. It gives the probability distribution of a discrete random variable.\n",
    "\n",
    "For example, let's consider the toss of a fair six-sided die. The PMF of this random variable is given by:\n",
    "\n",
    "P(X = 1) = P(X = 2) = P(X = 3) = P(X = 4) = P(X = 5) = P(X = 6) = 1/6\n",
    "\n",
    "Here, X is the random variable representing the outcome of a single die toss. The PMF shows that each possible outcome has an equal probability of occurring.\n",
    "\n",
    "> On the other hand, the Probability Density Function (PDF) is used to describe the probability distribution of continuous random variables. It assigns a probability density to each possible value of the random variable.\n",
    "\n",
    "For example, let's consider the height of adult males in a population. The PDF of this random variable is a function that assigns a density to each possible height value. The PDF can be used to calculate the probability of a person having a height within a certain range.\n",
    "\n",
    "One common example of a PDF is the normal distribution, which is often used to model various phenomena in the natural and social sciences. The PDF of the normal distribution is given by:\n",
    "\n",
    "f(x) = 1 / (σ * sqrt(2π)) * exp(- (x - μ)^2 / (2σ^2))\n",
    "\n",
    "Here, μ and σ are the mean and standard deviation of the distribution, respectively. The PDF assigns a density value to each possible height value, which can be used to calculate the probability of a person having a height within a certain range."
   ]
  },
  {
   "cell_type": "code",
   "execution_count": 1,
   "id": "2421779b",
   "metadata": {},
   "outputs": [],
   "source": [
    "# Q2: What is Cumulative Density Function (CDF)? Explain with an example. Why CDF is used?"
   ]
  },
  {
   "cell_type": "markdown",
   "id": "75305bdf",
   "metadata": {},
   "source": [
    ">  The Cumulative Density Function (CDF) is a mathematical function that describes the probability of a random variable X being less than or equal to a certain value x. It gives the cumulative distribution of a random variable.\n",
    "\n",
    "The CDF is defined as:\n",
    "\n",
    "F(x) = P(X ≤ x)\n",
    "\n",
    "where X is the random variable and x is the value of the random variable.\n",
    "\n",
    ">  For example, let's consider the toss of a fair six-sided die. The CDF of this random variable is given by:\n",
    "\n",
    "F(x) = P(X ≤ x)\n",
    "\n",
    "If x = 1, then F(1) = P(X ≤ 1) = 1/6\n",
    "If x = 2, then F(2) = P(X ≤ 2) = 2/6\n",
    "If x = 3, then F(3) = P(X ≤ 3) = 3/6\n",
    "If x = 4, then F(4) = P(X ≤ 4) = 4/6\n",
    "If x = 5, then F(5) = P(X ≤ 5) = 5/6\n",
    "If x = 6, then F(6) = P(X ≤ 6) = 1\n",
    "\n",
    "Here, the CDF shows the probability of the die roll being less than or equal to a certain value. For example, the probability of the die roll being less than or equal to 3 is 3/6 or 0.5.\n",
    "\n",
    "> The CDF is an important tool in probability theory and statistics because it allows us to calculate the probabilities of various events based on the distribution of the random variable. The CDF can also be used to calculate other statistical measures such as the mean and variance of the distribution.\n",
    "In addition, the CDF is used in hypothesis testing and confidence interval estimation. By comparing the CDFs of two different distributions, we can determine whether they are significantly different from each other."
   ]
  },
  {
   "cell_type": "code",
   "execution_count": null,
   "id": "8d780ee4",
   "metadata": {},
   "outputs": [],
   "source": [
    "# Q3: What are some examples of situations where the normal distribution might be used as a model?\n",
    "# Explain how the parameters of the normal distribution relate to the shape of the distribution."
   ]
  },
  {
   "cell_type": "markdown",
   "id": "d846f078",
   "metadata": {},
   "source": [
    "The normal distribution, also known as the Gaussian distribution, is a probability distribution that is commonly used to model many real-world phenomena in various fields, such as physics, engineering, economics, and social sciences. Here are some examples of situations where the normal distribution might be used as a model:\n",
    "\n",
    "- Heights of adult males or females in a population\n",
    "- Scores on a standardized test\n",
    "- Errors in measurements or observations\n",
    "- Stock market returns\n",
    "- IQ scores\n",
    "\n",
    "The normal distribution has two parameters: the mean (μ) and the standard deviation (σ). The mean represents the center of the distribution, and the standard deviation represents the spread of the distribution. The larger the standard deviation, the wider the distribution will be.\n",
    "\n",
    "The shape of the normal distribution is bell-shaped and symmetrical, with the highest point of the curve at the mean. The curve is also continuous and unimodal, meaning it has only one peak. The area under the curve represents the probability of observing a certain value within the distribution.\n",
    "\n",
    "The standard normal distribution is a special case of the normal distribution where the mean is 0 and the standard deviation is 1. The standard normal distribution is often used in statistical calculations and hypothesis testing.\n",
    "\n",
    "In summary, the normal distribution is a commonly used model for many real-world phenomena, and its parameters (mean and standard deviation) determine the center and spread of the distribution."
   ]
  },
  {
   "cell_type": "code",
   "execution_count": null,
   "id": "77f5d23d",
   "metadata": {},
   "outputs": [],
   "source": [
    "# Q4: Explain the importance of Normal Distribution. Give a few real-life examples of Normal\n",
    "# Distribution."
   ]
  },
  {
   "cell_type": "markdown",
   "id": "e14ee8a0",
   "metadata": {},
   "source": [
    "The normal distribution, also known as the Gaussian distribution, is an important concept in probability theory and statistics. It is a fundamental distribution that is widely used in modeling and analyzing real-world phenomena. Here are some reasons why the normal distribution is important:\n",
    "\n",
    "1. It is a widely observed distribution: Many natural and social phenomena follow a normal distribution, including height and weight of individuals, IQ scores, exam grades, blood pressure, and reaction times.\n",
    "\n",
    "2. It allows for precise statistical analysis: The normal distribution has well-defined mathematical properties that make it possible to calculate probabilities and make predictions based on the data. This makes it an important tool for statistical analysis and hypothesis testing.\n",
    "\n",
    "3. It is a building block for other distributions: Many other distributions are based on the normal distribution, including the t-distribution and the chi-squared distribution. This makes the normal distribution a crucial building block for more complex statistical models.\n",
    "\n",
    "Here are some real-life examples of normal distribution:\n",
    "\n",
    "1. Heights of individuals: The heights of adult males and females in a population tend to follow a normal distribution, with the majority of the population falling within a certain range of heights.\n",
    "\n",
    "2. IQ scores: IQ scores are often distributed normally, with the majority of the population falling within a certain range of scores.\n",
    "\n",
    "3. Exam grades: Exam grades often follow a normal distribution, with the majority of the students receiving grades that are close to the average grade.\n",
    "\n",
    "4. Reaction times: Reaction times to stimuli often follow a normal distribution, with the majority of the population having reaction times that are close to the average.\n",
    "\n",
    "5. Errors in measurements: Measurement errors often follow a normal distribution, with the majority of the errors being small and close to zero.\n",
    "\n",
    "In summary, the normal distribution is an important concept in probability theory and statistics that is widely used to model and analyze real-world phenomena. Its mathematical properties make it a powerful tool for statistical analysis and hypothesis testing, and it serves as a building block for many other statistical distributions."
   ]
  },
  {
   "cell_type": "code",
   "execution_count": null,
   "id": "75e6d732",
   "metadata": {},
   "outputs": [],
   "source": [
    "# Q5: What is Bernaulli Distribution? Give an Example. What is the difference between Bernoulli\n",
    "# Distribution and Binomial Distribution?"
   ]
  },
  {
   "cell_type": "markdown",
   "id": "2333b182",
   "metadata": {},
   "source": [
    "> The Bernoulli distribution is a discrete probability distribution that models the outcomes of a single binary experiment, where the outcome can be either success or failure. It is named after Swiss mathematician Jacob Bernoulli, who introduced it in his book Ars Conjectandi in 1713.\n",
    "\n",
    "The Bernoulli distribution has a probability of p for success and a probability of 1-p for failure, where 0 ≤ p ≤ 1. The distribution is denoted by Bern(p) and has a probability mass function (PMF) given by:\n",
    "\n",
    "P(X=1) = p\n",
    "P(X=0) = 1-p\n",
    "\n",
    "where X is the random variable that represents the outcome of the experiment.\n",
    "\n",
    ">An example of Bernoulli distribution is the outcome of a coin flip, where the outcome can be either heads or tails. If we define success as getting heads, then the probability of success (p) is 0.5, and the probability of failure (1-p) is also 0.5.\n",
    "\n",
    "The binomial distribution, on the other hand, models the number of successes in a fixed number of independent Bernoulli trials. It is a discrete probability distribution that is denoted by Bin(n,p), where n is the number of trials and p is the probability of success for each trial.\n",
    "\n",
    ">The main difference between the Bernoulli distribution and the binomial distribution is that the Bernoulli distribution models the outcome of a single binary experiment, while the binomial distribution models the number of successes in a fixed number of independent binary experiments. The Bernoulli distribution is a special case of the binomial distribution where n = 1.\n",
    "\n",
    "In summary, the Bernoulli distribution is a probability distribution that models the outcome of a single binary experiment, while the binomial distribution models the number of successes in a fixed number of independent binary experiments. The Bernoulli distribution is a special case of the binomial distribution where the number of trials is 1."
   ]
  },
  {
   "cell_type": "code",
   "execution_count": null,
   "id": "e7e1cda3",
   "metadata": {},
   "outputs": [],
   "source": [
    "# Q6. Consider a dataset with a mean of 50 and a standard deviation of 10. If we assume that the dataset\n",
    "# is normally distributed, what is the probability that a randomly selected observation will be greater\n",
    "# than 60? Use the appropriate formula and show your calculations."
   ]
  },
  {
   "cell_type": "markdown",
   "id": "d71a61c6",
   "metadata": {},
   "source": [
    "We can use the standard normal distribution to find the probability that a randomly selected observation from the dataset is greater than 60. We first need to standardize the value of 60 using the formula:\n",
    "\n",
    "z = (x - μ) / σ\n",
    "\n",
    "where z is the standardized value, x is the observed value, μ is the mean, and σ is the standard deviation.\n",
    "\n",
    "Substituting the given values, we get:\n",
    "\n",
    "z = (60 - 50) / 10 = 1\n",
    "\n",
    "Now, we can use a standard normal distribution table or calculator to find the probability of z being greater than 1. From the standard normal distribution table, we find that the area to the right of z = 1 is approximately 0.1587.\n",
    "\n",
    ">Therefore, the probability that a randomly selected observation from the dataset is greater than 60 is approximately 0.1587 or 15.87%.\n",
    "\n",
    "Mathematically, we can write:\n",
    "\n",
    "P(X > 60) = P(Z > 1) ≈ 0.1587\n",
    "\n",
    "where X is a random variable from the dataset, and Z is the corresponding standard normal variable."
   ]
  },
  {
   "cell_type": "code",
   "execution_count": null,
   "id": "dcf07c71",
   "metadata": {},
   "outputs": [],
   "source": [
    "# Q7: Explain uniform Distribution with an example."
   ]
  },
  {
   "cell_type": "markdown",
   "id": "c899bacd",
   "metadata": {},
   "source": [
    ">The uniform distribution is a continuous probability distribution that has a constant probability density function (PDF) between two endpoints, a and b. It is denoted by U(a,b) and has the following PDF:\n",
    "<b>f(x) = 1 / (b - a) for a ≤ x ≤ b = 0 otherwise</b>\n",
    "This means that any value between a and b is equally likely to occur. The mean and variance of the uniform distribution are given by:\n",
    "<b>Mean: μ = (a + b) / 2\n",
    "Variance: σ^2 = (b - a)^2 / 12</b>\n",
    "\n",
    ">An example of uniform distribution is the outcome of rolling a fair six-sided die. The probability of getting any of the six numbers (1, 2, 3, 4, 5, or 6) is equal, and hence the distribution of the outcomes is uniform. In this case, a = 1 and b = 6, and the PDF is given by:\n",
    "<b>f(x) = 1/6 for x = 1, 2, 3, 4, 5, or 6\n",
    "= 0 otherwise</b>\n",
    "\n",
    "Another example of uniform distribution is the height of a person chosen at random from a certain population, assuming that the heights of people in that population are uniformly distributed between a minimum and maximum value. In this case, a and b would be the minimum and maximum heights in the population, and any height between a and b is equally likely to occur."
   ]
  },
  {
   "cell_type": "code",
   "execution_count": null,
   "id": "ede1ed9a",
   "metadata": {},
   "outputs": [],
   "source": [
    "# Q8: What is the z score? State the importance of the z score."
   ]
  },
  {
   "cell_type": "markdown",
   "id": "5bb4a8d4",
   "metadata": {},
   "source": [
    ">The z-score, also known as the standard score, is a statistical measure that indicates how many standard deviations a data point is from the mean of a distribution. It is calculated as the difference between a given observation and the population mean, divided by the population standard deviation.\n",
    "The formula for calculating the z-score of a data point x is:\n",
    "<b>z = (x - μ) / σ</b>\n",
    "where μ is the population mean, σ is the population standard deviation, and x is the value of the data point.\n",
    "\n",
    ">The z-score is important in statistics for several reasons:\n",
    "\n",
    "1. Standardization: The z-score standardizes data, allowing for comparisons between different data sets that have different units or scales.\n",
    "\n",
    "\n",
    "2. Normal distribution: The z-score is particularly useful in assessing the normality of a distribution. In a normal distribution, approximately 68% of the data falls within one standard deviation of the mean, and 95% falls within two standard deviations.\n",
    "\n",
    "\n",
    "3. Outlier detection: The z-score can be used to identify outliers, which are data points that are significantly different from the rest of the data. Typically, data points with a z-score greater than 3 or less than -3 are considered outliers.\n",
    "\n",
    "\n",
    "4. Hypothesis testing: The z-score is used in hypothesis testing to determine the probability of observing a particular result given a certain hypothesis.\n",
    "\n",
    "Overall, the z-score is a useful tool in statistical analysis that helps researchers and analysts make sense of data and draw meaningful conclusions."
   ]
  },
  {
   "cell_type": "code",
   "execution_count": null,
   "id": "6d42a55f",
   "metadata": {},
   "outputs": [],
   "source": [
    "# Q9: What is Central Limit Theorem? State the significance of the Central Limit Theorem."
   ]
  },
  {
   "cell_type": "markdown",
   "id": "348901eb",
   "metadata": {},
   "source": [
    ">The Central Limit Theorem (CLT) is a fundamental theorem in probability theory that states that the sum or average of a large number of independent and identically distributed (i.i.d.) random variables will tend to follow a normal distribution, regardless of the underlying distribution of the individual random variables.\n",
    "More formally, the CLT can be stated as follows: Suppose that X1, X2, ..., Xn are i.i.d. random variables with mean μ and standard deviation σ. Let Sn = X1 + X2 + ... + Xn be the sum of these random variables, and let Yn = (Sn - nμ) / (σ√n) be the standardized sum. Then, as n becomes large, the distribution of Yn converges to a standard normal distribution.\n",
    "\n",
    ">The significance of the CLT is that it provides a powerful tool for statistical inference, especially in situations where the underlying distribution of the data is unknown or non-normal. It allows us to use the normal distribution as an approximation for the distribution of sample means or sample sums, which is often much easier to work with mathematically.\n",
    "The CLT is also important in hypothesis testing, where we use sample means to test hypotheses about population means. In many cases, the CLT allows us to use the normal distribution to make inferences about the population mean even when the sample size is relatively small, provided that the underlying population is approximately normal or the sample size is large enough.\n",
    "\n",
    "Overall, the CLT is a fundamental concept in statistics that underpins much of modern statistical theory and practice, and is widely used in fields such as economics, finance, engineering, and social sciences, among others."
   ]
  },
  {
   "cell_type": "code",
   "execution_count": null,
   "id": "447d766e",
   "metadata": {},
   "outputs": [],
   "source": [
    "# Q10: State the assumptions of the Central Limit Theorem."
   ]
  },
  {
   "cell_type": "markdown",
   "id": "033de2c6",
   "metadata": {},
   "source": [
    "The Central Limit Theorem (CLT) has certain assumptions that need to be met for the theorem to hold. These assumptions are:\n",
    "\n",
    "1. Independence: The random variables being added or averaged should be independent of each other.\n",
    "\n",
    "\n",
    "2. Identical distribution: The random variables being added or averaged should have the same probability distribution.\n",
    "\n",
    "\n",
    "3. Finite variance: The random variables being added or averaged should have a finite variance (i.e., the standard deviation squared should not be infinite).\n",
    "\n",
    "\n",
    "4. Sample size: The sample size should be large enough, ideally greater than or equal to 30.\n",
    "\n",
    "The assumptions ensure that the variability of the individual random variables does not dominate the variability of the sum or average, and that the law of large numbers holds, which allows us to approximate the distribution of the sample sum or mean by a normal distribution. Violation of these assumptions can lead to incorrect or unreliable results when using the CLT, and in such cases, other methods may be required."
   ]
  },
  {
   "cell_type": "code",
   "execution_count": null,
   "id": "16bfd60b",
   "metadata": {},
   "outputs": [],
   "source": []
  }
 ],
 "metadata": {
  "kernelspec": {
   "display_name": "Python 3 (ipykernel)",
   "language": "python",
   "name": "python3"
  },
  "language_info": {
   "codemirror_mode": {
    "name": "ipython",
    "version": 3
   },
   "file_extension": ".py",
   "mimetype": "text/x-python",
   "name": "python",
   "nbconvert_exporter": "python",
   "pygments_lexer": "ipython3",
   "version": "3.10.1"
  }
 },
 "nbformat": 4,
 "nbformat_minor": 5
}
