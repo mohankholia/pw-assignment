{
 "cells": [
  {
   "cell_type": "code",
   "execution_count": 1,
   "id": "b8bba299-730a-4a23-97f5-79143582d52f",
   "metadata": {},
   "outputs": [
    {
     "name": "stdout",
     "output_type": "stream",
     "text": [
      "The mileage is 30kmph\n",
      "The mileage is 27kmph \n",
      "The mileage is 25kmph \n",
      "The mileage is 24kmph \n"
     ]
    }
   ],
   "source": [
    "\"\"\"Q1. What is Abstraction in OOps? Explain with an example.\"\"\"\n",
    "#answer\n",
    "\"\"\"Abstraction is selecting data from a larger pool to show only relevant details of the object to the user. It helps in reducing programming \n",
    "complexity and efforts. It is one of the most important concepts of OOPs.\n",
    "Example\"\"\"\n",
    "\n",
    "# abstract base class work   \n",
    "from abc import ABC, abstractmethod   \n",
    "class Car(ABC):   \n",
    "    def mileage(self):   \n",
    "        pass  \n",
    "  \n",
    "class Tesla(Car):   \n",
    "    def mileage(self):   \n",
    "        print(\"The mileage is 30kmph\")   \n",
    "class Suzuki(Car):   \n",
    "    def mileage(self):   \n",
    "        print(\"The mileage is 25kmph \")   \n",
    "class Duster(Car):   \n",
    "     def mileage(self):   \n",
    "          print(\"The mileage is 24kmph \")   \n",
    "  \n",
    "class Renault(Car):   \n",
    "    def mileage(self):   \n",
    "            print(\"The mileage is 27kmph \")   \n",
    "          \n",
    "# Driver code   \n",
    "t= Tesla ()   \n",
    "t.mileage()   \n",
    "  \n",
    "r = Renault()   \n",
    "r.mileage()   \n",
    "  \n",
    "s = Suzuki()   \n",
    "s.mileage()   \n",
    "d = Duster()   \n",
    "d.mileage()  "
   ]
  },
  {
   "cell_type": "code",
   "execution_count": null,
   "id": "ba8256be-ad0f-40fc-bfb3-6f10e6c90c5b",
   "metadata": {},
   "outputs": [],
   "source": [
    "\"\"\"Q2. Differentiate between Abstraction and Encapsulation. Explain with an example.\"\"\"\n",
    "#Answer\n",
    "\"\"\"\n",
    "Abstraction is the process or method of gaining the information.\tWhile encapsulation is the process or method to contain the information.\n",
    "In abstraction, problems are solved at the design or interface level.\tWhile in encapsulation, problems are solved at the implementation level.\n",
    "Abstraction is the method of hiding the unwanted information.\tWhereas encapsulation is a method to hide the data in a single entity or unit along \n",
    "with a method to protect information from outside.\n",
    "We can implement abstraction using abstract class and interfaces.\tWhereas encapsulation can be implemented using by access modifier i.e.\n",
    "private, protected and public.\n",
    "In abstraction, implementation complexities are hidden using abstract classes and interfaces.\tWhile in encapsulation, the data is hidden using \n",
    "methods of getters and setters.\n",
    "The objects that help to perform abstraction are encapsulated.\tWhereas the objects that result in encapsulation need not be abstracted.\n",
    "Abstraction provides access to specific part of data.\tEncapsulation hides data and the user can not access same directly (data hiding.\n",
    "Abstraction focus is on “what” should be done.\tEncapsulation focus is on “How” it should be done.\"\"\"\n"
   ]
  },
  {
   "cell_type": "code",
   "execution_count": 2,
   "id": "6b834fb2-bbed-43fc-b3ea-e8d86a7ba381",
   "metadata": {},
   "outputs": [
    {
     "data": {
      "text/plain": [
       "\"\\nThe 'abc' module in the Python library provides the infrastructure for defining custom abstract base classes. Abstract class cannot be instantiated\\nin python. An Abstract method can be call by its subclasses\""
      ]
     },
     "execution_count": 2,
     "metadata": {},
     "output_type": "execute_result"
    }
   ],
   "source": [
    "\"\"\"What is abc module in python? Why is it used?\"\"\"\n",
    "#answer\n",
    "\"\"\"Python has a module called abc (abstract base class) that offers the necessary tools for crafting an abstract base class. First and foremost, \n",
    "you should understand the ABCMeta metaclass provided by the abstract base class.\"\"\"\n",
    "\"\"\"\n",
    "The 'abc' module in the Python library provides the infrastructure for defining custom abstract base classes. Abstract class cannot be instantiated\n",
    "in python. An Abstract method can be call by its subclasses\"\"\"\n"
   ]
  },
  {
   "cell_type": "code",
   "execution_count": 3,
   "id": "9d12d021-0964-49a4-adc7-d5e1b6e16abc",
   "metadata": {},
   "outputs": [
    {
     "data": {
      "text/plain": [
       "'Q4. How can we achieve data abstraction?'"
      ]
     },
     "execution_count": 3,
     "metadata": {},
     "output_type": "execute_result"
    }
   ],
   "source": [
    "\"\"\"Q4. How can we achieve data abstraction?\"\"\"\n",
    "#answer\n",
    "\"\"\"Data Abstraction in Python can be achieved through creating abstract classes and inheriting them later. Before discussing what abstract classes \n",
    "are, let us have a brief introduction of inheritance. Inheritance in OOP is a way through which one class inherits the attributes and methods of \n",
    "another class\"\"\""
   ]
  },
  {
   "cell_type": "code",
   "execution_count": null,
   "id": "12df3cc2-e24a-45f6-a40b-7e38ef6d41dc",
   "metadata": {},
   "outputs": [],
   "source": [
    "\"\"\"Q5. Can we create an instance of an abstract class? Explain your answer.\"\"\"\n",
    "\"\"\"Abstract classes cannot be instantiated, but they can be subclassed. When an abstract class is subclassed, the subclass usually provides implementations for all of the abstract methods in its parent class. However, if it does not, then the subclass must also be declared abstract ."
   ]
  }
 ],
 "metadata": {
  "kernelspec": {
   "display_name": "Python 3 (ipykernel)",
   "language": "python",
   "name": "python3"
  },
  "language_info": {
   "codemirror_mode": {
    "name": "ipython",
    "version": 3
   },
   "file_extension": ".py",
   "mimetype": "text/x-python",
   "name": "python",
   "nbconvert_exporter": "python",
   "pygments_lexer": "ipython3",
   "version": "3.10.8"
  }
 },
 "nbformat": 4,
 "nbformat_minor": 5
}
