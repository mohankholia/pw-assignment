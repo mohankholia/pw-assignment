{
 "cells": [
  {
   "cell_type": "code",
   "execution_count": 1,
   "id": "49f29545-525b-468f-ae5e-abed20752369",
   "metadata": {},
   "outputs": [
    {
     "data": {
      "text/plain": [
       "'Multithreading in Python refers to the concurrent execution of two or more parts of a program in parallel, with each part being called a\\nthread. Multithreading is used to achieve better performance by utilizing multiple CPUs or CPU cores. The threading module is used to \\nhandle threads in Python.'"
      ]
     },
     "execution_count": 1,
     "metadata": {},
     "output_type": "execute_result"
    }
   ],
   "source": [
    "#Q1what is multithreading in python?w hy is it used? Name the module used to handle threads in python\n",
    "\"\"\"Multithreading in Python refers to the concurrent execution of two or more parts of a program in parallel, with each part being called a\n",
    "thread. Multithreading is used to achieve better performance by utilizing multiple CPUs or CPU cores. The threading module is used to \n",
    "handle threads in Python.\"\"\""
   ]
  },
  {
   "cell_type": "code",
   "execution_count": 3,
   "id": "b49ab018-3995-4a48-b082-d27111e75922",
   "metadata": {},
   "outputs": [
    {
     "data": {
      "text/plain": [
       "'The threading module is used in Python to create, manage and interact with threads. It provides a way to run multiple threads s\\nimultaneously and can be used to write concurrent code in a simple and efficient manner. Some use cases of the threading module include:\\n\\nParallelization of tasks that can be executed independently, such as I/O-bound tasks or CPU-bound tasks that can be divided into smaller \\nunits of work.Creation of responsive user interfaces that can handle multiple user interactions at the same time, without blocking the main\\nthread.Implementation of network servers that can handle multiple client connections simultaneously.\\nThe following are the descriptions of the three functions:\\nactiveCount(): This function returns the number of Thread objects that are currently active. An active Thread object is a thread that has \\nbeen started and has not yet finished.\\n\\ncurrentThread(): This function returns a reference to the currently executing Thread object. It can be used to obtain information about the \\nthread, such as its name or ID.\\n\\nenumerate(): This function returns a list of all active Thread objects in the current process. It can be used to obtain information about\\nall threads, such as their names or IDs.\\n\\n'"
      ]
     },
     "execution_count": 3,
     "metadata": {},
     "output_type": "execute_result"
    }
   ],
   "source": [
    "\"\"\"why threading module used? rite the use of the following functions\n",
    " activeCount\n",
    " currentThread\n",
    " enumerate\"\"\"\n",
    "#ans1\n",
    "\"\"\"The threading module is used in Python to create, manage and interact with threads. It provides a way to run multiple threads s\n",
    "imultaneously and can be used to write concurrent code in a simple and efficient manner. Some use cases of the threading module include:\n",
    "\n",
    "Parallelization of tasks that can be executed independently, such as I/O-bound tasks or CPU-bound tasks that can be divided into smaller \n",
    "units of work.Creation of responsive user interfaces that can handle multiple user interactions at the same time, without blocking the main\n",
    "thread.Implementation of network servers that can handle multiple client connections simultaneously.\n",
    "The following are the descriptions of the three functions:\n",
    "activeCount(): This function returns the number of Thread objects that are currently active. An active Thread object is a thread that has \n",
    "been started and has not yet finished.\n",
    "\n",
    "currentThread(): This function returns a reference to the currently executing Thread object. It can be used to obtain information about the \n",
    "thread, such as its name or ID.\n",
    "\n",
    "enumerate(): This function returns a list of all active Thread objects in the current process. It can be used to obtain information about\n",
    "all threads, such as their names or IDs.\n",
    "\n",
    "\"\"\"\n",
    "\n",
    "\n"
   ]
  },
  {
   "cell_type": "code",
   "execution_count": 4,
   "id": "cb477a8a-a872-4d85-9ff3-db61024ac1e9",
   "metadata": {},
   "outputs": [
    {
     "name": "stdout",
     "output_type": "stream",
     "text": [
      "1 squared is 1\n",
      "2 squared is 4\n",
      "3 squared is 9\n",
      "4 squared is 16\n",
      "5 squared is 25\n",
      "6 squared is 36\n",
      "7 squared is 49\n",
      "8 squared is 64\n",
      "9 squared is 81\n",
      "10 squared is 100\n",
      "1 cubed is 1\n",
      "2 cubed is 8\n",
      "3 cubed is 27\n",
      "4 cubed is 64\n",
      "5 cubed is 125\n",
      "6 cubed is 216\n",
      "7 cubed is 343\n",
      "8 cubed is 512\n",
      "9 cubed is 729\n",
      "10 cubed is 1000\n"
     ]
    }
   ],
   "source": [
    "\"\"\"Q4. write a python program to create two threads. Thread one must print the list of squares and thread\n",
    "two must print the list of cubes\"\"\"\n",
    "import threading\n",
    "\n",
    "def print_squares():\n",
    "    for i in range(1, 11):\n",
    "        print(f\"{i} squared is {i**2}\")\n",
    "\n",
    "def print_cubes():\n",
    "    for i in range(1, 11):\n",
    "        print(f\"{i} cubed is {i**3}\")\n",
    "\n",
    "t1 = threading.Thread(target=print_squares)\n",
    "t2 = threading.Thread(target=print_cubes)\n",
    "\n",
    "t1.start()\n",
    "t2.start()\n",
    "\n",
    "t1.join()\n",
    "t2.join()\n"
   ]
  },
  {
   "cell_type": "code",
   "execution_count": 5,
   "id": "95ef13f8-8d4d-48a1-bf11-ae94462c93ed",
   "metadata": {},
   "outputs": [
    {
     "data": {
      "text/plain": [
       "'Multithreading has several advantages and disadvantages:\\n\\nAdvantages:\\n\\nIncreased Performance: By dividing the task into smaller chunks and executing them simultaneously, multithreading can increase the overall\\nperformance of an application.\\n\\nEfficient use of resources: Multithreading allows for efficient use of system resources as it reduces the idle time of the CPU and other \\nresources.\\n\\nImproved Responsiveness: Multithreading can help improve the responsiveness of an application as it allows the user interface to remain \\nresponsive while time-consuming operations are executed in the background.\\n\\nSimplified Design: Multithreading can simplify the design of complex applications by separating the different tasks and executing them in \\nseparate threads.\\n\\nFlexibility: Multithreading provides flexibility to manage multiple tasks at the same time.\\n\\nDisadvantages:\\n\\nDifficulty in Debugging: Multithreaded applications can be difficult to debug as errors may occur due to unexpected interactions between \\nthreads.\\n\\nIncreased Complexity: Multithreading can increase the complexity of an application and make it harder to maintain.\\n\\nIncreased Memory Usage: Multithreading can increase the memory usage of an application as each thread requires its own stack and other\\nresources.\\n\\nRace conditions: Multithreading can lead to race conditions where two or more threads access the same shared resource resulting in \\nunexpected behavior.\\n\\nDifficulty in Synchronization: Synchronization between threads can be complex and difficult to manage, which can lead to deadlocks and \\nother issues.'"
      ]
     },
     "execution_count": 5,
     "metadata": {},
     "output_type": "execute_result"
    }
   ],
   "source": [
    "\"\"\"Q5. State advantages and disadvantages of multithreading\"\"\"\n",
    "\"\"\"Multithreading has several advantages and disadvantages:\n",
    "\n",
    "Advantages:\n",
    "\n",
    "Increased Performance: By dividing the task into smaller chunks and executing them simultaneously, multithreading can increase the overall\n",
    "performance of an application.\n",
    "\n",
    "Efficient use of resources: Multithreading allows for efficient use of system resources as it reduces the idle time of the CPU and other \n",
    "resources.\n",
    "\n",
    "Improved Responsiveness: Multithreading can help improve the responsiveness of an application as it allows the user interface to remain \n",
    "responsive while time-consuming operations are executed in the background.\n",
    "\n",
    "Simplified Design: Multithreading can simplify the design of complex applications by separating the different tasks and executing them in \n",
    "separate threads.\n",
    "\n",
    "Flexibility: Multithreading provides flexibility to manage multiple tasks at the same time.\n",
    "\n",
    "Disadvantages:\n",
    "\n",
    "Difficulty in Debugging: Multithreaded applications can be difficult to debug as errors may occur due to unexpected interactions between \n",
    "threads.\n",
    "\n",
    "Increased Complexity: Multithreading can increase the complexity of an application and make it harder to maintain.\n",
    "\n",
    "Increased Memory Usage: Multithreading can increase the memory usage of an application as each thread requires its own stack and other\n",
    "resources.\n",
    "\n",
    "Race conditions: Multithreading can lead to race conditions where two or more threads access the same shared resource resulting in \n",
    "unexpected behavior.\n",
    "\n",
    "Difficulty in Synchronization: Synchronization between threads can be complex and difficult to manage, which can lead to deadlocks and \n",
    "other issues.\"\"\""
   ]
  },
  {
   "cell_type": "code",
   "execution_count": null,
   "id": "779f9ca2-04ac-4842-9aab-a17aae9c8374",
   "metadata": {},
   "outputs": [],
   "source": [
    "\"\"\"Q.Explain deadlocks and race conditions.\"\"\"\n",
    "\"\"\"Deadlocks and race conditions are two common problems that can occur in concurrent programs.\n",
    "\n",
    "Deadlocks:\n",
    "\n",
    "A deadlock occurs when two or more threads are waiting for each other to release a resource that they need in order to proceed. As a result,\n",
    "all the threads become blocked and cannot make any further progress. Deadlocks can be caused by a variety of factors, such as incorrect\n",
    "resource allocation or inappropriate use of synchronization primitives.\n",
    "\n",
    "For example, suppose thread A holds a lock on resource X and is waiting for a lock on resource Y, while thread B holds a lock on resource Y \n",
    "and is waiting for a lock on resource X. In this scenario, both threads are blocked and cannot make any further progress, resulting in a \n",
    "deadlock.\n",
    "\n",
    "Race conditions:\n",
    "\n",
    "A race condition occurs when two or more threads access a shared resource simultaneously and the outcome depends on the order of execution.\n",
    "This can result in unpredictable behavior and bugs in the program.\n",
    "\n",
    "For example, suppose two threads access a shared variable x and increment it by one. If both threads read the value of x at the same time, \n",
    "increment it, and then write it back, the final value of x may not be what is expected because the two increments were not performed in a\n",
    "coordinated manner. This can result in a race condition, where the final value of x depends on the order of execution of the two threads.\n",
    "\n",
    "In summary, deadlocks occur when two or more threads are waiting for each other to release a resource, while race conditions occur when two\n",
    "or more threads access a shared resource simultaneously and the outcome depends on the order of execution. Both of these problems can lead \n",
    "to unexpected behavior in concurrent programs and can be difficult to debug and fix.\"\"\""
   ]
  }
 ],
 "metadata": {
  "kernelspec": {
   "display_name": "Python 3 (ipykernel)",
   "language": "python",
   "name": "python3"
  },
  "language_info": {
   "codemirror_mode": {
    "name": "ipython",
    "version": 3
   },
   "file_extension": ".py",
   "mimetype": "text/x-python",
   "name": "python",
   "nbconvert_exporter": "python",
   "pygments_lexer": "ipython3",
   "version": "3.10.8"
  }
 },
 "nbformat": 4,
 "nbformat_minor": 5
}
