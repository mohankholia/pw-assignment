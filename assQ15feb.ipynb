{
 "cells": [
  {
   "cell_type": "code",
   "execution_count": 10,
   "id": "c4b04e52-0ded-429f-8b03-fcfb1108a4da",
   "metadata": {},
   "outputs": [
    {
     "data": {
      "text/plain": [
       "\"Multiprocessing is a Python module that allows a developer to run multiple processes simultaneously in order to achieve parallelism in their code.\\nIt is useful because it can help increase the performance of programs by distributing tasks across multiple CPUs or CPU cores, effectively allowing \\nmultiple tasks to be executed in parallel.\\nPython's multiprocessing module provides an easy-to-use interface for creating and managing multiple processes in a Python program. It includes\\nfeatures such as inter-process communication, shared memory, and synchronization primitives like locks and semaphores.Some common use cases for \\nmultiprocessing in Python include:\\nPerforming CPU-bound tasks: Multiprocessing can be used to split a large task across multiple processes to take advantage of multiple CPUs or cores.\\nHandling I/O-bound tasks: If a program spends a lot of time waiting for I/O (such as reading from a network or disk), multiprocessing can be used to \\nrun I/O-bound tasks in parallel to improve overall performance.\\n\\nCreating responsive GUIs: Multiprocessing can be used to run long-running tasks in a separate process, allowing the main process to remain responsive \\nto user input.\\nOverall, multiprocessing is a useful tool for Python developers who need to write high-performance code that can take advantage of multiple CPUs or \\ncores. It can help to reduce processing time, increase throughput, and improve the overall performance of Python applications.\""
      ]
     },
     "execution_count": 10,
     "metadata": {},
     "output_type": "execute_result"
    }
   ],
   "source": [
    "\"\"\"Q1. What is multiprocessing in python? Why is it useful?\"\"\"\n",
    "#answer1\n",
    "\"\"\"Multiprocessing is a Python module that allows a developer to run multiple processes simultaneously in order to achieve parallelism in their code.\n",
    "It is useful because it can help increase the performance of programs by distributing tasks across multiple CPUs or CPU cores, effectively allowing \n",
    "multiple tasks to be executed in parallel.\n",
    "Python's multiprocessing module provides an easy-to-use interface for creating and managing multiple processes in a Python program. It includes\n",
    "features such as inter-process communication, shared memory, and synchronization primitives like locks and semaphores.Some common use cases for \n",
    "multiprocessing in Python include:\n",
    "Performing CPU-bound tasks: Multiprocessing can be used to split a large task across multiple processes to take advantage of multiple CPUs or cores.\n",
    "Handling I/O-bound tasks: If a program spends a lot of time waiting for I/O (such as reading from a network or disk), multiprocessing can be used to \n",
    "run I/O-bound tasks in parallel to improve overall performance.\n",
    "\n",
    "Creating responsive GUIs: Multiprocessing can be used to run long-running tasks in a separate process, allowing the main process to remain responsive \n",
    "to user input.\n",
    "Overall, multiprocessing is a useful tool for Python developers who need to write high-performance code that can take advantage of multiple CPUs or \n",
    "cores. It can help to reduce processing time, increase throughput, and improve the overall performance of Python applications.\"\"\""
   ]
  },
  {
   "cell_type": "code",
   "execution_count": null,
   "id": "5f2d902d-8e2b-404a-a89d-23738152cfb4",
   "metadata": {},
   "outputs": [],
   "source": [
    "\"\"\"Q2. What are the differences between multiprocessing and multithreading?\"\"\"\n",
    "#answer2\n",
    "\"\"\"\n",
    "Multiprocessing and multithreading are both techniques for achieving parallelism in programs, but they have some key differences in terms of how they \n",
    "work and what types of programs they are best suited for. Here are the main differences between multiprocessing and multithreading:\n",
    "Concurrency model: The fundamental difference between multiprocessing and multithreading is the concurrency model they use. Multiprocessing runs \n",
    "multiple processes in parallel, each with their own address space and memory, whereas multithreading runs multiple threads within the same process, \n",
    "all sharing the same memory.\n",
    "\n",
    "CPU usage: Multiprocessing is better suited for CPU-bound tasks, where the program spends a lot of time performing calculations or other CPU-intensive\n",
    "operations. Because each process has its own memory space, multiprocessing can make use of multiple CPUs or cores to execute tasks in parallel, \n",
    "allowing for improved performance. Multithreading is better suited for I/O-bound tasks, where the program spends a lot of time waiting for I/O \n",
    "operations to complete (such as reading from a file or network socket). Because all threads share the same memory, multithreading can improve \n",
    "performance by allowing the program to do other work while waiting for I/O operations to complete.\n",
    "\n",
    "Overhead: Multiprocessing has higher overhead than multithreading because each process needs its own memory space and resources, which can slow down\n",
    "the creation of new processes. Multithreading has lower overhead because threads share the same memory and resources, and creating new threads is\n",
    "generally faster than creating new processes.\n",
    "\n",
    "Parallelism: Multiprocessing can achieve true parallelism, with each process running on a separate CPU or core, whereas multithreading can only \n",
    "achieve concurrent execution, with threads taking turns executing on a single CPU or core.\n",
    "\n",
    "Overall, the choice between multiprocessing and multithreading depends on the type of program being developed and the specific requirements of \n",
    "\n",
    "the application. If the program is primarily CPU-bound, multiprocessing is generally the better choice, whereas if the program is primarily I/O-bound,\n",
    "multithreading is often a better fit.\"\"\""
   ]
  },
  {
   "cell_type": "code",
   "execution_count": 11,
   "id": "165c4f2c-c50f-41d9-8e36-5f6d19b7d9f9",
   "metadata": {},
   "outputs": [
    {
     "name": "stdout",
     "output_type": "stream",
     "text": [
      "Hello from a new process!\n"
     ]
    }
   ],
   "source": [
    "\"\"\"Q3. Write a python code to create a process using the multiprocessing module.\"\"\"\n",
    "#answer3\n",
    "import multiprocessing\n",
    "\n",
    "def my_process():\n",
    "    print(\"Hello from a new process!\")\n",
    "\n",
    "if __name__ == '__main__':\n",
    "    p = multiprocessing.Process(target=my_process)\n",
    "    p.start()\n",
    "    p.join()\n"
   ]
  },
  {
   "cell_type": "code",
   "execution_count": null,
   "id": "5c05c313-ed14-4a66-807c-5f134ad82205",
   "metadata": {},
   "outputs": [],
   "source": [
    "\"\"\"Q4. What is a multiprocessing pool in python? Why is it used?\"\"\"\n",
    "#answer4\n",
    "\"\"\"In Python's multiprocessing module, a multiprocessing pool is a collection of worker processes that can be used to execute a function in parallel \n",
    "across multiple input values. The pool manages a queue of tasks, assigns each task to an available worker process, and returns the results of the \n",
    "tasks as they are completed.\n",
    "The multiprocessing module provides a Pool class that can be used to create and manage a pool of worker processes. The Pool class has a number of \n",
    "methods that allow a programmer to easily distribute tasks across multiple processes, including:\n",
    "apply: Runs a function with a single argument, blocking until the function completes and returning the result.\n",
    "map: Runs a function with multiple arguments, applying it to each item in an iterable and returning the results in the same order.\n",
    "imap: Like map, but returns an iterator that yields the results as they become available.\n",
    "imap_unordered: Like imap, but returns results in arbitrary order as they become available.\n",
    "Multiprocessing pools are useful when a programmer needs to parallelize a task that can be easily broken down into smaller, independent sub-tasks. \n",
    "By distributing these sub-tasks across multiple worker processes, the overall task can be completed more quickly and efficiently than if it were run\n",
    "in a single process.\n",
    "Overall, multiprocessing pools are a powerful tool for Python programmers who need to write high-performance code that can take advantage of \n",
    "multiple CPUs or cores. They can help to reduce processing time, increase throughput, and improve the overall performance of Python applications.\"\"\""
   ]
  },
  {
   "cell_type": "code",
   "execution_count": null,
   "id": "a48993dc-f7d4-4081-8afc-2625579c9fdd",
   "metadata": {},
   "outputs": [],
   "source": [
    "\"\"\"Q5. How can we create a pool of worker processes in python using the multiprocessing module?\"\"\"\n",
    "#answer5\n",
    "\"\"\"To create a pool of worker processes in Python using the multiprocessing module, you can use the Pool class.\n",
    "Here's an example code that demonstrates how to create a pool of four worker processes and use it to parallelize a task:\"\"\"\n",
    "import multiprocessing\n",
    "\n",
    "def square(x):\n",
    "    return x ** 2\n",
    "\n",
    "if __name__ == '__main__':\n",
    "    with multiprocessing.Pool(4) as p:\n",
    "        results = p.map(square, [1, 2, 3, 4, 5])\n",
    "    print(results)\n",
    "\"\"\"In this example, we define a function square that takes a single argument and returns its square. We then create a new Pool object, passing in the\n",
    "number of worker processes we want to use (in this case, four).\n",
    "\n",
    "We then use the map method of the Pool object to apply the square function to each item in the list [1, 2, 3, 4, 5]. The map method returns a list of \n",
    "results, which we store in the variable results.\n",
    "\n",
    "Finally, we print out the results of the map operation, which should be [1, 4, 9, 16, 25].\n",
    "\n",
    "By using a multiprocessing pool, we were able to easily parallelize the square function across multiple worker processes. The Pool class takes \n",
    "care of managing the worker processes and distributing tasks, allowing us to focus on writing the core logic of our program.\"\"\""
   ]
  },
  {
   "cell_type": "code",
   "execution_count": 9,
   "id": "49ce241d-9ede-4368-871b-4dca8273d1a5",
   "metadata": {},
   "outputs": [
    {
     "name": "stdout",
     "output_type": "stream",
     "text": [
      "[1, 2, 3, 4]\n"
     ]
    }
   ],
   "source": [
    "\"\"\"Q6. Write a python program to create 4 processes, each process should print a different number using the\n",
    "multiprocessing module in python.\"\"\"\n",
    "import multiprocessing\n",
    "def printnum(n):\n",
    "    return n\n",
    "if __name__=='__main__':\n",
    "    with multiprocessing.Pool(processes=4) as p:\n",
    "        ans=p.map(printnum,[i for i in range(1,5)])\n",
    "        print(ans)"
   ]
  }
 ],
 "metadata": {
  "kernelspec": {
   "display_name": "Python 3 (ipykernel)",
   "language": "python",
   "name": "python3"
  },
  "language_info": {
   "codemirror_mode": {
    "name": "ipython",
    "version": 3
   },
   "file_extension": ".py",
   "mimetype": "text/x-python",
   "name": "python",
   "nbconvert_exporter": "python",
   "pygments_lexer": "ipython3",
   "version": "3.10.8"
  }
 },
 "nbformat": 4,
 "nbformat_minor": 5
}
