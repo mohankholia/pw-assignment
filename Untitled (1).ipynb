{
 "cells": [
  {
   "cell_type": "code",
   "execution_count": 1,
   "id": "f5d1406d-d5bb-479c-9c72-3c55324fe6f9",
   "metadata": {},
   "outputs": [
    {
     "data": {
      "text/plain": [
       "'Answer 1\\nGuido van Rossum developed python programing language at 1970'"
      ]
     },
     "execution_count": 1,
     "metadata": {},
     "output_type": "execute_result"
    }
   ],
   "source": [
    "\"\"\"Answer 1\n",
    "Guido van Rossum developed python programing language at 1970\"\"\"\n",
    " \"\"\"answer2\n",
    " python supports object oriented and structured programing language\"\"\"\n",
    " \"\"\"answer 3\n",
    "yes python is case senstive when dealing with identifiers\"\"\"\n",
    "\"\"\"answer 4\n",
    ".py is correct extension for python file\"\"\"\n",
    "\"\"\"answer 5\n",
    "interpreted\"\"\"\n",
    "\"\"\"answer 6 \n",
    "module,function,class defination\"\"\"\n",
    "\"\"\"answer 7\n",
    "# is used for single line coment\"\"\"\n",
    "\"\"\"answer 8\n",
    "sys.version function is used for find the version\"\"\"\n",
    "\"\"\"answer 9\n",
    "lambda\"\"\"\n",
    "\"\"\"answer 10\n",
    "pip stands for preferred installer program\"\"\"\n",
    "\"\"\"answer 11\n",
    "abs()\tReturns the absolute value of a number\n",
    "all()\tReturns True if all items in an iterable object are true\n",
    "any()\tReturns True if any item in an iterable object is true\n",
    "ascii()\tReturns a readable version of an object. Replaces none-ascii characters with escape character\n",
    "bin()\tReturns the binary version of a number\n",
    "bool()\tReturns the boolean value of the specified object\n",
    "bytearray()\tReturns an array of bytes\n",
    "bytes()\tReturns a bytes object\n",
    "callable()\tReturns True if the specified object is callable, otherwise False\n",
    "chr()\tReturns a character from the specified Unicode code.\n",
    "classmethod()\tConverts a method into a class method\"\"\"\n",
    "\"\"\"answer 12\n",
    "79 characters\"\"\"\n",
    "\"\"\"answer 13\n",
    "1) Easy to Learn and Use. ...\n",
    "2) Mature and Supportive Python Community. ...\n",
    "3) Support from Renowned Corporate Sponsors. ...\n",
    "4) Hundreds of Python Libraries and Frameworks. ...\n",
    "5) Versatility, Efficiency, Reliability, and Speed. ...\n",
    "6) Big data, Machine Learning and Cloud Computing. ...\n",
    "7) First-choice Language.\"\"\"\n",
    "\"\"\"answer 14\n",
    "Python uses a portion of the memory for internal use and non-object memory.\n",
    "Another part of the memory is used for Python object such as int, dict, list, etc.\n",
    "CPython contains the object allocator that allocates memory within the object area. \n",
    "The object allocator gets a call every time the new object needs space.\"\"\"\n",
    "\"\"\"answer 15\n",
    "Right click on My Computer and click on properties.\n",
    "Click on Advanced System settings.\n",
    "Click on Environment Variable tab.\n",
    "Click on new tab of user variables.\n",
    "Write path in variable name.\n",
    "Copy the path of Python folder.\n",
    "Paste path of Python in variable value. Click on Ok button: Click on Ok button:\"\"\"\n",
    "\"\"\"answer 16\n",
    "Indentation is mandatory in python to define the blocks of statements.\n",
    "It is preferred to use whitespaces instead of tabs to indent in python. \n",
    "Python uses four spaces as default indentation spaces\"\"\""
   ]
  },
  {
   "cell_type": "code",
   "execution_count": null,
   "id": "39419062-7c40-4a76-901a-07ed0808c68b",
   "metadata": {},
   "outputs": [],
   "source": []
  },
  {
   "cell_type": "code",
   "execution_count": 2,
   "id": "a619d77b-5527-4113-8f9f-75617d7b6230",
   "metadata": {},
   "outputs": [
    {
     "data": {
      "text/plain": [
       "'answer 3\\nyes python is case senstive when dealing with identifiers'"
      ]
     },
     "execution_count": 2,
     "metadata": {},
     "output_type": "execute_result"
    }
   ],
   "source": []
  },
  {
   "cell_type": "code",
   "execution_count": 3,
   "id": "a4a37ec6-3854-4839-b553-8616f4a349d9",
   "metadata": {},
   "outputs": [
    {
     "data": {
      "text/plain": [
       "'answer 4\\n.py is correct extension for python file'"
      ]
     },
     "execution_count": 3,
     "metadata": {},
     "output_type": "execute_result"
    }
   ],
   "source": []
  },
  {
   "cell_type": "code",
   "execution_count": 4,
   "id": "d7cb5660-eb4a-4255-b441-bbcc1b870f23",
   "metadata": {},
   "outputs": [
    {
     "data": {
      "text/plain": [
       "'answer 5\\ninterpreted'"
      ]
     },
     "execution_count": 4,
     "metadata": {},
     "output_type": "execute_result"
    }
   ],
   "source": []
  },
  {
   "cell_type": "code",
   "execution_count": 5,
   "id": "d48d939e-7cfa-47c1-8222-dcce00237556",
   "metadata": {},
   "outputs": [
    {
     "data": {
      "text/plain": [
       "'answer 6 \\nmodule,function,class defination'"
      ]
     },
     "execution_count": 5,
     "metadata": {},
     "output_type": "execute_result"
    }
   ],
   "source": []
  },
  {
   "cell_type": "code",
   "execution_count": 6,
   "id": "50a6f908-18c3-4c3b-bd70-7283d3d815b8",
   "metadata": {},
   "outputs": [
    {
     "data": {
      "text/plain": [
       "'answer 7\\n# is used for single line coment'"
      ]
     },
     "execution_count": 6,
     "metadata": {},
     "output_type": "execute_result"
    }
   ],
   "source": []
  },
  {
   "cell_type": "code",
   "execution_count": null,
   "id": "a7921d1a-3a6d-4808-9a01-aa2919706ba5",
   "metadata": {},
   "outputs": [],
   "source": []
  },
  {
   "cell_type": "code",
   "execution_count": 7,
   "id": "44178fbc-183d-42cf-8036-3918ea77d03e",
   "metadata": {},
   "outputs": [
    {
     "data": {
      "text/plain": [
       "'answe 9\\nlambda'"
      ]
     },
     "execution_count": 7,
     "metadata": {},
     "output_type": "execute_result"
    }
   ],
   "source": []
  },
  {
   "cell_type": "code",
   "execution_count": 8,
   "id": "98bb44be-1001-4d88-859c-d6808b6156cf",
   "metadata": {},
   "outputs": [
    {
     "data": {
      "text/plain": [
       "'answer 10\\npip stands for preferred installer program'"
      ]
     },
     "execution_count": 8,
     "metadata": {},
     "output_type": "execute_result"
    }
   ],
   "source": []
  },
  {
   "cell_type": "code",
   "execution_count": 9,
   "id": "5bc87f8d-8d75-474e-b29b-258cd2f0a87e",
   "metadata": {},
   "outputs": [
    {
     "data": {
      "text/plain": [
       "'answer 11\\nabs()\\tReturns the absolute value of a number\\nall()\\tReturns True if all items in an iterable object are true\\nany()\\tReturns True if any item in an iterable object is true\\nascii()\\tReturns a readable version of an object. Replaces none-ascii characters with escape character\\nbin()\\tReturns the binary version of a number\\nbool()\\tReturns the boolean value of the specified object\\nbytearray()\\tReturns an array of bytes\\nbytes()\\tReturns a bytes object\\ncallable()\\tReturns True if the specified object is callable, otherwise False\\nchr()\\tReturns a character from the specified Unicode code.\\nclassmethod()\\tConverts a method into a class method'"
      ]
     },
     "execution_count": 9,
     "metadata": {},
     "output_type": "execute_result"
    }
   ],
   "source": []
  },
  {
   "cell_type": "code",
   "execution_count": 10,
   "id": "9fbc6917-c9f1-4bfc-b26f-5c437e4039ef",
   "metadata": {},
   "outputs": [
    {
     "data": {
      "text/plain": [
       "'answer 12\\n79 characters'"
      ]
     },
     "execution_count": 10,
     "metadata": {},
     "output_type": "execute_result"
    }
   ],
   "source": []
  },
  {
   "cell_type": "code",
   "execution_count": 11,
   "id": "ee05249e-1490-4f54-aa20-fd96d0e5a295",
   "metadata": {},
   "outputs": [
    {
     "data": {
      "text/plain": [
       "'answer 13\\n1) Easy to Learn and Use. ...\\n2) Mature and Supportive Python Community. ...\\n3) Support from Renowned Corporate Sponsors. ...\\n4) Hundreds of Python Libraries and Frameworks. ...\\n5) Versatility, Efficiency, Reliability, and Speed. ...\\n6) Big data, Machine Learning and Cloud Computing. ...\\n7) First-choice Language.'"
      ]
     },
     "execution_count": 11,
     "metadata": {},
     "output_type": "execute_result"
    }
   ],
   "source": []
  },
  {
   "cell_type": "code",
   "execution_count": null,
   "id": "844bf55d-89bc-49b8-a2ed-8907af908d62",
   "metadata": {},
   "outputs": [],
   "source": []
  },
  {
   "cell_type": "code",
   "execution_count": 12,
   "id": "f7044a96-f2d8-41bc-8238-f80ac96b095a",
   "metadata": {},
   "outputs": [
    {
     "data": {
      "text/plain": [
       "'answer 15\\nRight click on My Computer and click on properties.\\nClick on Advanced System settings.\\nClick on Environment Variable tab.\\nClick on new tab of user variables.\\nWrite path in variable name.\\nCopy the path of Python folder.\\nPaste path of Python in variable value. Click on Ok button: Click on Ok button:'"
      ]
     },
     "execution_count": 12,
     "metadata": {},
     "output_type": "execute_result"
    }
   ],
   "source": []
  },
  {
   "cell_type": "code",
   "execution_count": 13,
   "id": "d9171676-d1f3-4872-8b4d-5b4ec6452e9e",
   "metadata": {},
   "outputs": [
    {
     "data": {
      "text/plain": [
       "'answer 16\\nIndentation is mandatory in python to define the blocks of statements. It is preferred to use whitespaces instead of tabs to indent in python. Python uses four spaces as default indentation spaces'"
      ]
     },
     "execution_count": 13,
     "metadata": {},
     "output_type": "execute_result"
    }
   ],
   "source": []
  },
  {
   "cell_type": "code",
   "execution_count": null,
   "id": "96785bb1-550f-4d2b-a2c1-2147df575a65",
   "metadata": {},
   "outputs": [],
   "source": []
  }
 ],
 "metadata": {
  "kernelspec": {
   "display_name": "Python 3 (ipykernel)",
   "language": "python",
   "name": "python3"
  },
  "language_info": {
   "codemirror_mode": {
    "name": "ipython",
    "version": 3
   },
   "file_extension": ".py",
   "mimetype": "text/x-python",
   "name": "python",
   "nbconvert_exporter": "python",
   "pygments_lexer": "ipython3",
   "version": "3.10.8"
  }
 },
 "nbformat": 4,
 "nbformat_minor": 5
}
