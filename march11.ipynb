{
 "cells": [
  {
   "cell_type": "markdown",
   "id": "ccfb0fff-c8dd-4142-b504-f9a4df9eb300",
   "metadata": {},
   "source": [
    "## Q1: What is the difference between a t-test and a z-test? Provide an example scenario where you would use each type of test."
   ]
  },
  {
   "cell_type": "markdown",
   "id": "0691b81d-e941-4f33-989c-a007e34f9f24",
   "metadata": {},
   "source": [
    "Both t-tests and z-tests are statistical hypothesis tests used to determine if the difference between two sample means is statistically significant or if it could have occurred by chance. The main difference between the two tests lies in the assumptions they make about the population parameters.\n",
    "\n",
    "A z-test is used when the population standard deviation is known, and the sample size is large. The test statistic is calculated as the difference between the sample mean and the population mean, divided by the standard error of the mean. For example, a z-test could be used to determine if the mean height of a sample of 500 college students is significantly different from the population mean height of 68 inches, assuming a known population standard deviation of 3 inches.\n",
    "\n",
    "On the other hand, a t-test is used when the population standard deviation is unknown and the sample size is small. The test statistic is calculated as the difference between the sample mean and the population mean, divided by the standard error of the mean estimated from the sample. For example, a t-test could be used to determine if the mean score of a sample of 30 students on a math test is significantly different from the population mean score, assuming an unknown population standard deviation.\n",
    "\n",
    "In summary, use a z-test when the population standard deviation is known, and the sample size is large, and use a t-test when the population standard deviation is unknown, and the sample size is small."
   ]
  },
  {
   "cell_type": "markdown",
   "id": "3a917940-873e-4424-b692-fa7032812b32",
   "metadata": {},
   "source": [
    "## Q2: Differentiate between one-tailed and two-tailed tests."
   ]
  },
  {
   "cell_type": "markdown",
   "id": "fdf1fcaa-a5d6-4ade-9e1f-ebf57eae6b60",
   "metadata": {},
   "source": [
    "One-tailed and two-tailed tests are terms used to describe the type of statistical hypothesis test being performed. The distinction between them depends on the direction of the alternative hypothesis.\n",
    "\n",
    "A one-tailed test, also known as a directional test, is used when the alternative hypothesis specifies a direction. In other words, it is used when we are interested in determining if a parameter is either greater than or less than a certain value. For example, a one-tailed test could be used to determine if the mean score of a group of students is significantly greater than 70 on a math test. The null hypothesis would be that the mean score is less than or equal to 70, and the alternative hypothesis would be that the mean score is greater than 70.\n",
    "\n",
    "A two-tailed test, also known as a non-directional test, is used when the alternative hypothesis does not specify a direction. In other words, it is used when we are interested in determining if a parameter is simply different from a certain value. For example, a two-tailed test could be used to determine if the mean weight of a sample of apples is significantly different from 0.5 lbs. The null hypothesis would be that the mean weight is equal to 0.5 lbs, and the alternative hypothesis would be that the mean weight is not equal to 0.5 lbs.\n",
    "\n",
    "In summary, a one-tailed test is used when we are interested in determining if a parameter is either greater than or less than a certain value, while a two-tailed test is used when we are interested in determining if a parameter is simply different from a certain value."
   ]
  },
  {
   "cell_type": "markdown",
   "id": "67bae69f-8056-4c7a-aa7a-d2c8147c6df4",
   "metadata": {},
   "source": [
    "## Q3: Explain the concept of Type 1 and Type 2 errors in hypothesis testing. Provide an example scenario for each type of error."
   ]
  },
  {
   "cell_type": "markdown",
   "id": "735b7a0b-c81e-4d93-87ab-f8967ae40ee3",
   "metadata": {},
   "source": [
    "In hypothesis testing, we make decisions based on the outcome of statistical tests. However, there are two types of errors that can occur when making decisions based on statistical tests: Type I error and Type II error.\n",
    "\n",
    "Type I error, also known as a false positive, occurs when we reject the null hypothesis when it is actually true. In other words, we conclude that there is a significant difference or effect when there is actually none. This error is typically denoted by the symbol alpha (α) and is the probability of rejecting a true null hypothesis. A common example of Type I error is when a medical test diagnoses a healthy person as having a disease. For instance, suppose a medical test for a disease has a 5% chance of producing a false positive. In this case, a Type I error would occur when the test identifies a healthy person as having the disease.\n",
    "\n",
    "Type II error, also known as a false negative, occurs when we fail to reject the null hypothesis when it is actually false. In other words, we conclude that there is no significant difference or effect when there actually is one. This error is typically denoted by the symbol beta (β) and is the probability of accepting a false null hypothesis. A common example of Type II error is when a medical test fails to diagnose a diseased person correctly. For instance, suppose a medical test for a disease has a 10% chance of producing a false negative. In this case, a Type II error would occur when the test identifies a diseased person as healthy.\n",
    "\n",
    "In summary, Type I error occurs when we reject a true null hypothesis, while Type II error occurs when we fail to reject a false null hypothesis. It is important to minimize both types of errors in statistical testing to ensure accurate and reliable results."
   ]
  },
  {
   "cell_type": "markdown",
   "id": "5eef4361-9328-48f4-9973-cbdcf78055d1",
   "metadata": {},
   "source": [
    "## Q4: Explain Bayes's theorem with an example."
   ]
  },
  {
   "cell_type": "markdown",
   "id": "6273b304-8595-4bbb-b556-1ae66d5bcc76",
   "metadata": {},
   "source": [
    "Bayes's theorem is a mathematical formula that allows us to update our beliefs or probabilities about a hypothesis based on new evidence. It is named after the English mathematician Thomas Bayes, who first proposed the formula.\n",
    "\n",
    "Bayes's theorem can be written as follows:\n",
    "\n",
    "P(A|B) = P(B|A) * P(A) / P(B)\n",
    "\n",
    "where:\n",
    "\n",
    "P(A|B) is the probability of hypothesis A given evidence B\n",
    "P(B|A) is the probability of evidence B given hypothesis A\n",
    "P(A) is the prior probability of hypothesis A\n",
    "P(B) is the probability of evidence B\n",
    "To illustrate Bayes's theorem, let's consider an example of a medical test. Suppose a particular medical test is used to detect a rare disease that affects 1 in 10,000 people. The test is 99% accurate, meaning that it correctly identifies 99% of people who have the disease, and 99% of people who don't have the disease. We can use Bayes's theorem to calculate the probability that a person has the disease given a positive test result.\n",
    "\n",
    "Let's define:\n",
    "\n",
    "A: the event that a person has the disease\n",
    "B: the event that the person tests positive\n",
    "The prior probability of A, P(A), is 1/10,000, or 0.0001.\n",
    "\n",
    "The probability of B given A, P(B|A), is the sensitivity of the test, which is 0.99.\n",
    "\n",
    "The probability of B given not A, P(B|not A), is the false positive rate of the test, which is 0.01.\n",
    "\n",
    "The probability of not A, P(not A), is 1 - P(A), or 0.9999.\n",
    "\n",
    "Using Bayes's theorem, we can calculate the probability of A given B:\n",
    "\n",
    "P(A|B) = P(B|A) * P(A) / P(B)\n",
    "= 0.99 * 0.0001 / [(0.99 * 0.0001) + (0.01 * 0.9999)]\n",
    "= 0.0098 or approximately 1%\n",
    "\n",
    "Therefore, even if a person tests positive for the disease, there is still only a 1% chance that they actually have the disease. This is because the prior probability of the disease is very low, and the false positive rate of the test is relatively high."
   ]
  },
  {
   "cell_type": "markdown",
   "id": "9c29b1db-24bf-4fe7-830a-4b1955edd9c7",
   "metadata": {},
   "source": [
    "## Q5: What is a confidence interval? How to calculate the confidence interval, explain with an example."
   ]
  },
  {
   "cell_type": "markdown",
   "id": "55d7a74e-9791-40ed-bd78-31397ac03e21",
   "metadata": {},
   "source": [
    "\n",
    "A confidence interval is a range of values that is likely to contain the true value of a population parameter with a certain degree of confidence. It is a statistical measure that helps us to estimate how precise our sample estimate is compared to the true population parameter.\n",
    "\n",
    "For example, let's say we want to estimate the average height of all adults in a certain town. We can take a random sample of 100 adults and measure their heights. Based on this sample, we can calculate the sample mean, which is an estimate of the true population mean. However, we can also calculate a confidence interval around the sample mean to determine how much uncertainty there is in our estimate.\n",
    "\n",
    "To calculate a confidence interval, we need to know the sample size, the sample mean, the standard deviation of the sample, and the desired level of confidence. The standard deviation of the sample is used to estimate the standard error of the mean, which is a measure of the variability of sample means that would be obtained from multiple samples of the same size. The level of confidence is typically expressed as a percentage, such as 95% or 99%.\n",
    "\n",
    "The formula for calculating a confidence interval is:\n",
    "\n",
    "CI = x̄ ± t(α/2, n-1) * (s/√n)\n",
    "\n",
    "where:\n",
    "\n",
    "CI is the confidence interval\n",
    "x̄ is the sample mean\n",
    "t(α/2, n-1) is the t-distribution critical value for a given level of confidence and degrees of freedom (n-1)\n",
    "s is the standard deviation of the sample\n",
    "n is the sample size\n",
    "α is the significance level, which is equal to 1 minus the level of confidence (e.g., for 95% confidence, α = 0.05)\n",
    "For example, suppose we measured the heights of 100 adults in a town and found a sample mean of 170 cm and a sample standard deviation of 10 cm. We want to calculate a 95% confidence interval for the true population mean.\n",
    "\n",
    "Using the formula, we can calculate the t-distribution critical value for a 95% confidence level and 99 degrees of freedom (n-1):\n",
    "\n",
    "t(0.025, 99) = 1.984\n",
    "\n",
    "We can then plug in the values into the formula:\n",
    "\n",
    "CI = 170 ± 1.984 * (10/√100)\n",
    "= 170 ± 1.984\n",
    "= (168.02, 171.98)\n",
    "\n",
    "Therefore, we can be 95% confident that the true population mean height of all adults in the town lies between 168.02 cm and 171.98 cm"
   ]
  },
  {
   "cell_type": "markdown",
   "id": "2c3e14b4-c8a9-41a1-a2da-9e13b5980b52",
   "metadata": {},
   "source": [
    "## Q6. Use Bayes' Theorem to calculate the probability of an event occurring given prior knowledge of the event's probability and new evidence. Provide a sample problem and solution."
   ]
  },
  {
   "cell_type": "markdown",
   "id": "26424386-06e2-4c7d-9c3c-32a183607a3d",
   "metadata": {},
   "source": [
    " here's an example problem that illustrates how Bayes' Theorem can be used to calculate the probability of an event occurring given prior knowledge and new evidence:\n",
    "\n",
    "Suppose a medical test is used to detect a disease that affects 1% of the population. The test is 95% accurate, meaning that if a person has the disease, there is a 95% chance that the test will be positive, and if a person does not have the disease, there is a 95% chance that the test will be negative. If a person tests positive, what is the probability that they actually have the disease?\n",
    "\n",
    "Let's use Bayes' Theorem to solve this problem. We'll define the following terms:\n",
    "\n",
    "A = event of having the disease\n",
    "B = event of testing positive\n",
    "We know the following probabilities:\n",
    "\n",
    "P(A) = 0.01 (prior probability of having the disease)\n",
    "P(B|A) = 0.95 (probability of testing positive given that the person has the disease)\n",
    "P(B|~A) = 0.05 (probability of testing positive given that the person does not have the disease)\n",
    "We want to find P(A|B), which is the probability of having the disease given that the person tests positive.\n",
    "\n",
    "Using Bayes' Theorem, we have:\n",
    "\n",
    "P(A|B) = P(B|A) * P(A) / P(B)\n",
    "\n",
    "where P(B) is the total probability of testing positive, which can be calculated using the law of total probability:\n",
    "\n",
    "P(B) = P(B|A) * P(A) + P(B|~A) * P(~A)\n",
    "\n",
    "where P(~A) is the complement of P(A), which is 1 - P(A).\n",
    "\n",
    "Plugging in the values, we get:\n",
    "\n",
    "P(B) = P(B|A) * P(A) + P(B|~A) * P(~A)\n",
    "= 0.95 * 0.01 + 0.05 * 0.99\n",
    "= 0.058\n",
    "\n",
    "Now we can calculate P(A|B):\n",
    "\n",
    "P(A|B) = P(B|A) * P(A) / P(B)\n",
    "= 0.95 * 0.01 / 0.058\n",
    "= 0.1638\n",
    "\n",
    "Therefore, the probability of having the disease given a positive test result is approximately 16.38%. This means that even if a person tests positive for the disease, there is still an 83.62% chance that they do not actually have the disease. It is important to consider both the accuracy of the test and the prevalence of the disease when interpreting test results."
   ]
  },
  {
   "cell_type": "markdown",
   "id": "9df451a5-c596-463d-9b11-48d5afd3035d",
   "metadata": {},
   "source": [
    "## Q7. Calculate t he 95% confidence interval for a sample of data with a mean of 50 and a standard deviationof 5. Interpret the results."
   ]
  },
  {
   "cell_type": "markdown",
   "id": "7a91a27a-ed08-408b-af16-ca3bc7edbdba",
   "metadata": {},
   "source": [
    "here's how to calculate the 95% confidence interval for a sample of data with a mean of 50 and a standard deviation of 5:\n",
    "\n",
    "Determine the sample size, n. We don't have this information in the problem statement, so we'll assume a sample size of n = 30, which is a common rule of thumb for normal distributions.\n",
    "\n",
    "Find the standard error, SE, which is equal to the standard deviation divided by the square root of the sample size:\n",
    "\n",
    "SE = s / sqrt(n)\n",
    "\n",
    "where s is the sample standard deviation. In this case, s = 5 and n = 30, so:\n",
    "\n",
    "SE = 5 / sqrt(30) = 0.9129\n",
    "\n",
    "Calculate the margin of error, E, which is equal to the critical value times the standard error:\n",
    "\n",
    "E = z* * SE\n",
    "\n",
    "where z* is the critical value for a 95% confidence interval. We can find this value using a z-table or calculator, or we can use the standard normal distribution with a mean of 0 and a standard deviation of 1. For a 95% confidence interval, the critical value is 1.96.\n",
    "\n",
    "E = 1.96 * 0.9129 = 1.7891\n",
    "\n",
    "Calculate the confidence interval, which is equal to the sample mean plus or minus the margin of error:\n",
    "\n",
    "CI = (xbar - E, xbar + E)\n",
    "\n",
    "where xbar is the sample mean. In this case, xbar = 50, so:\n",
    "\n",
    "CI = (50 - 1.7891, 50 + 1.7891) = (48.2109, 51.7891)\n",
    "\n",
    "Therefore, the 95% confidence interval for the population mean is (48.2109, 51.7891). This means that if we were to take many samples of the same size from the same population, and calculate a 95% confidence interval for each sample, approximately 95% of these intervals would contain the true population mean. Alternatively, we can say with 95% confidence that the true population mean falls within this interval."
   ]
  },
  {
   "cell_type": "markdown",
   "id": "81962bea-defb-4543-8bc4-f380a3b84ee9",
   "metadata": {},
   "source": [
    "## Q8. What is the margin of error in a confidence interval? How does sample size affect the margin of error? Provide an example of a scenario where a larger sample size would result in a smaller margin of error."
   ]
  },
  {
   "cell_type": "markdown",
   "id": "c5dcac08-2e96-464f-b88e-4e222dd80981",
   "metadata": {},
   "source": [
    " The margin of error is a measure of the precision of an estimate, such as a population mean or proportion, based on a sample of data. It represents the range of values above and below the estimate within which the true population value is likely to fall with a specified level of confidence. The margin of error is calculated as the product of a critical value from a probability distribution, such as the standard normal distribution or the t-distribution, and the standard error of the estimate.\n",
    "\n",
    "A larger sample size generally results in a smaller margin of error, all else being equal. This is because a larger sample size reduces the variability of the estimate, which in turn reduces the standard error. A smaller standard error means that the critical value from the probability distribution has less influence on the margin of error, resulting in a smaller range of plausible values for the population parameter.\n",
    "\n",
    "For example, suppose we want to estimate the proportion of voters in a city who support a particular candidate, and we conduct a survey of 500 randomly selected voters. Based on the sample data, we find that 55% of voters support the candidate, and we calculate a 95% confidence interval for the true proportion using the standard normal distribution. The standard error of the estimate is:\n",
    "\n",
    "SE = sqrt(p*(1-p)/n) = sqrt(0.55*0.45/500) = 0.032\n",
    "\n",
    "The critical value for a 95% confidence interval is 1.96. Therefore, the margin of error is:\n",
    "\n",
    "ME = 1.96 * 0.032 = 0.063\n",
    "\n",
    "This means that we can be 95% confident that the true proportion of voters who support the candidate falls within the interval (0.487, 0.613), which is the sample proportion plus or minus the margin of error. If we were to repeat the survey many times, approximately 95% of the resulting confidence intervals would contain the true population proportion.\n",
    "\n",
    "Now, suppose we increase the sample size to 1000. The standard error of the estimate becomes:\n",
    "\n",
    "SE = sqrt(p*(1-p)/n) = sqrt(0.55*0.45/1000) = 0.024\n",
    "\n",
    "The critical value is still 1.96. Therefore, the new margin of error is:\n",
    "\n",
    "ME = 1.96 * 0.024 = 0.047\n",
    "\n",
    "This means that we can now be 95% confident that the true proportion of voters who support the candidate falls within the interval (0.503, 0.597), which is a narrower interval than before. This demonstrates how a larger sample size can lead to a smaller margin of error and a more precise estimate of the population parameter."
   ]
  },
  {
   "cell_type": "markdown",
   "id": "807b7bf7-062a-4577-9c44-f30ce1d87e5f",
   "metadata": {},
   "source": [
    "## Q9. Calculate the z-score for a data point with a value of 75, a population mean of 70, and a population standard deviation of 5. Interpret the results."
   ]
  },
  {
   "cell_type": "markdown",
   "id": "afaeefac-3227-4128-aabd-ebe721fb57ed",
   "metadata": {},
   "source": [
    "The z-score is a measure of the number of standard deviations a data point is above or below the population mean. It is calculated as:\n",
    "\n",
    "z = (x - mu) / sigma\n",
    "\n",
    "where x is the data point, mu is the population mean, and sigma is the population standard deviation.\n",
    "\n",
    "In this case, the data point is 75, the population mean is 70, and the population standard deviation is 5. Therefore, the z-score is:\n",
    "\n",
    "z = (75 - 70) / 5 = 1\n",
    "\n",
    "This means that the data point is one standard deviation above the population mean. Alternatively, we can say that the data point is at the 84th percentile of the population distribution, meaning that 84% of the population falls below this value.\n",
    "\n",
    "In practical terms, this information can be useful in comparing the value of the data point to the population as a whole. For example, if the data point represents the score of a student on an exam and the population is all students who took the exam, a z-score of 1 means that the student performed better than the majority of students in the population."
   ]
  },
  {
   "cell_type": "markdown",
   "id": "2e86bf47-8b87-4884-91d6-5442b760f621",
   "metadata": {},
   "source": [
    "## Q10. In a study of the effectiveness of a new weight loss drug, a sample of 50 participants lost an average of 6 pounds with a standard deviation of 2.5 pounds. Conduct a hypothesis test to determine if the drug is significantly effective at a 95% confidence level using a t-test."
   ]
  },
  {
   "cell_type": "markdown",
   "id": "a75e4901-8bda-4167-b9b0-596f105e7ee1",
   "metadata": {},
   "source": [
    "To conduct a hypothesis test using a t-test, we need to formulate the null and alternative hypotheses. Let's assume that the null hypothesis is that the weight loss drug has no significant effect, and the alternative hypothesis is that the drug is significantly effective. We can express this mathematically as:\n",
    "\n",
    "H0: μ ≤ 0 (The mean weight loss is less than or equal to zero, i.e., the drug has no significant effect)\n",
    "Ha: μ > 0 (The mean weight loss is greater than zero, i.e., the drug is significantly effective)\n",
    "\n",
    "We will use a one-tailed t-test because we are testing for a directional effect (i.e., weight loss). The 95% confidence level corresponds to a significance level of α = 0.05.\n",
    "\n",
    "The test statistic can be calculated using the formula:\n",
    "\n",
    "t = (x̄ - μ) / (s / sqrt(n))\n",
    "\n",
    "where x̄ is the sample mean, μ is the hypothesized population mean, s is the sample standard deviation, and n is the sample size.\n",
    "\n",
    "Plugging in the values from the problem, we get:\n",
    "\n",
    "t = (6 - 0) / (2.5 / sqrt(50)) = 12.65\n",
    "\n",
    "The degrees of freedom for a t-test with n-1 degrees of freedom, which in this case is 49.\n",
    "\n",
    "Looking up the critical t-value for a one-tailed test with 49 degrees of freedom and α = 0.05, we find it to be 1.676. Since our calculated t-value (12.65) is greater than the critical t-value (1.676), we reject the null hypothesis and conclude that the weight loss drug is significantly effective at a 95% confidence level.\n",
    "\n",
    "Therefore, we can say that there is sufficient evidence to support the claim that the weight loss drug is effective, based on the sample of 50 participants. However, it's important to note that this conclusion is based on a specific sample, and the results may not generalize to the larger population. Further studies and replication of the results are needed to confirm the effectiveness of the drug."
   ]
  },
  {
   "cell_type": "markdown",
   "id": "a67d66de-fcdb-4ec4-8de8-735cab314951",
   "metadata": {},
   "source": [
    "## Q11. In a survey of 500 people, 65% reported being satisfied with their current job. Calculate the 95% confidence interval for the true proportion of people who are satisfied with their job."
   ]
  },
  {
   "cell_type": "markdown",
   "id": "926cd2c9-cbbf-47b5-b992-ddd72d06da43",
   "metadata": {},
   "source": [
    "\n",
    "To calculate the confidence interval for a proportion, we can use the following formula:\n",
    "\n",
    "CI = p ± z*(sqrt((p*(1-p))/n))\n",
    "\n",
    "where p is the sample proportion, z is the critical z-value for the desired confidence level, n is the sample size.\n",
    "\n",
    "In this case, the sample proportion is 0.65, the sample size is 500, and we want to calculate the 95% confidence interval. The critical z-value for a 95% confidence level is 1.96 (assuming a two-tailed test).\n",
    "\n",
    "Plugging in the values, we get:\n",
    "\n",
    "CI = 0.65 ± 1.96*(sqrt((0.65*(1-0.65))/500))\n",
    "\n",
    "CI = 0.65 ± 0.045\n",
    "\n",
    "The 95% confidence interval for the true proportion of people who are satisfied with their job is (0.605, 0.695).\n",
    "\n",
    "Interpretation: We are 95% confident that the true proportion of people who are satisfied with their job lies between 0.605 and 0.695. In other words, if we were to repeat this survey multiple times, we would expect that the true proportion of satisfied individuals would fall within this range 95% of the time."
   ]
  },
  {
   "cell_type": "markdown",
   "id": "599d2a63-86ac-4a8c-abc7-ece69d341b39",
   "metadata": {},
   "source": [
    "## Q12. A researcher is testing the effectiveness of two different teaching methods on student performance.Sample A has a mean score of 85 with a standard deviation of 6, while sample B has a mean score of 82 with a standard deviation of 5. Conduct a hypothesis test to determine if the two teaching methods have asignificant difference in student performance using a t-test with a significance level of 0.01."
   ]
  },
  {
   "cell_type": "markdown",
   "id": "4541ec94-f6d1-4196-82e5-15352794a6c7",
   "metadata": {},
   "source": [
    "\n",
    "To test if there is a significant difference between the two teaching methods, we can use a two-sample t-test. The null hypothesis is that there is no difference in the mean scores between the two groups, while the alternative hypothesis is that there is a significant difference in mean scores between the two groups.\n",
    "\n",
    "H0: μA - μB = 0\n",
    "Ha: μA - μB ≠ 0\n",
    "\n",
    "where μA and μB are the population means for samples A and B, respectively.\n",
    "\n",
    "Assuming equal variances between the two groups, we can use the following formula to calculate the t-value:\n",
    "\n",
    "t = (x̄A - x̄B) / (s_p * sqrt(1/nA + 1/nB))\n",
    "\n",
    "where x̄A and x̄B are the sample means for samples A and B, s_p is the pooled standard deviation, and nA and nB are the sample sizes.\n",
    "\n",
    "The pooled standard deviation can be calculated as:\n",
    "\n",
    "s_p = sqrt(((nA - 1)*sA^2 + (nB - 1)*sB^2) / (nA + nB - 2))\n",
    "\n",
    "where sA and sB are the sample standard deviations for samples A and B, respectively.\n",
    "\n",
    "Plugging in the values, we get:\n",
    "\n",
    "x̄A = 85, sA = 6, nA = sample size of sample A = ?\n",
    "x̄B = 82, sB = 5, nB = sample size of sample B = ?\n",
    "α = 0.01 (significance level)\n",
    "\n",
    "Since the sample sizes are not given, we cannot calculate the t-value and perform the hypothesis test. However, the general process would be to calculate the t-value using the above formula, and then compare it to the critical t-value at the desired significance level and degrees of freedom. If the calculated t-value falls outside the range of the critical t-values, we reject the null hypothesis and conclude that there is a significant difference between the two teaching methods. Otherwise, we fail to reject the null hypothesis.\n",
    "\n",
    "Note that if the sample sizes are unequal, we would need to use the Welch's t-test instead, which would involve a different formula for the degrees of freedom and a different critical t-value."
   ]
  },
  {
   "cell_type": "markdown",
   "id": "2c8f1c06-4b04-499a-a902-35b0d89b7791",
   "metadata": {},
   "source": [
    "## Q13. A population has a mean of 60 and a standard deviation of 8. A sample of 50 observations has a mean of 65. Calculate the 90% confidence interval for the true population mean."
   ]
  },
  {
   "cell_type": "markdown",
   "id": "b63504d6-ae35-4fbb-96b9-660f20fe8ea1",
   "metadata": {},
   "source": [
    "\n",
    "To calculate the 90% confidence interval for the population mean, we can use the following formula:\n",
    "\n",
    "CI = x̄ ± z*(σ/√n)\n",
    "\n",
    "where CI is the confidence interval, x̄ is the sample mean, z is the z-score corresponding to the desired confidence level (90% in this case), σ is the population standard deviation, and n is the sample size.\n",
    "\n",
    "Plugging in the values, we get:\n",
    "\n",
    "CI = 65 ± z*(8/√50)\n",
    "\n",
    "Using a z-table or calculator, we can find that the z-score for a 90% confidence level is 1.645. Plugging that in, we get:\n",
    "\n",
    "CI = 65 ± 1.645*(8/√50)\n",
    "\n",
    "Simplifying, we get:\n",
    "\n",
    "CI = 65 ± 2.32\n",
    "\n",
    "So the 90% confidence interval for the true population mean is (62.68, 67.32).\n",
    "\n",
    "Interpretation: we are 90% confident that the true population mean lies between 62.68 and 67.32, based on our sample of 50 observations."
   ]
  },
  {
   "cell_type": "markdown",
   "id": "fb5c05d1-522e-45ed-a539-58f4e01a4976",
   "metadata": {},
   "source": [
    "## Q14. In a study of the effects of caffeine on reaction time, a sample of 30 participants had an average reaction time of 0.25 seconds with a standard deviation of 0.05 seconds. Conduct a hypothesis test to determine if the caffeine has a significant effect on reaction time at a 90% confidence level using a t-test."
   ]
  },
  {
   "cell_type": "markdown",
   "id": "262fe4bf-d081-45dc-be7c-dec34ec05d11",
   "metadata": {},
   "source": [
    "To conduct a hypothesis test to determine if caffeine has a significant effect on reaction time at a 90% confidence level, we can use the following steps:\n",
    "\n",
    "Step 1: State the null and alternative hypotheses:\n",
    "\n",
    "Null hypothesis (H0): Caffeine has no significant effect on reaction time (μ = 0.25)\n",
    "Alternative hypothesis (Ha): Caffeine has a significant effect on reaction time (μ ≠ 0.25)\n",
    "Step 2: Determine the level of significance (α) and the corresponding critical value(s) for a two-tailed test. Since we are conducting a two-tailed test at a 90% confidence level, the level of significance is 0.1/2 = 0.05 and the critical value is ±1.645.\n",
    "\n",
    "Step 3: Calculate the t-statistic:\n",
    "\n",
    "t = (x̄ - μ) / (s / √n)\n",
    "\n",
    "where x̄ is the sample mean, μ is the hypothesized population mean under the null hypothesis, s is the sample standard deviation, and n is the sample size.\n",
    "\n",
    "Plugging in the values, we get:\n",
    "\n",
    "t = (0.25 - μ) / (0.05 / √30)\n",
    "\n",
    "Step 4: Determine the p-value associated with the t-statistic. We can use a t-table or calculator to find the p-value associated with the calculated t-statistic.\n",
    "\n",
    "Using a t-table with 29 degrees of freedom (df = n-1), we find that the p-value for a two-tailed test with a t-statistic of 1.825 is approximately 0.077.\n",
    "\n",
    "Step 5: Make a decision and interpret the results.\n",
    "\n",
    "The p-value of 0.077 is greater than the level of significance (0.05), so we fail to reject the null hypothesis. This means that there is insufficient evidence to suggest that caffeine has a significant effect on reaction time at a 90% confidence level.\n",
    "\n",
    "In other words, we cannot conclude that there is a significant difference in reaction time between participants who consume caffeine and those who do not based on this study."
   ]
  },
  {
   "cell_type": "code",
   "execution_count": null,
   "id": "c12e7499-7b86-4b1a-aa79-f114d12cf853",
   "metadata": {},
   "outputs": [],
   "source": []
  }
 ],
 "metadata": {
  "kernelspec": {
   "display_name": "Python 3 (ipykernel)",
   "language": "python",
   "name": "python3"
  },
  "language_info": {
   "codemirror_mode": {
    "name": "ipython",
    "version": 3
   },
   "file_extension": ".py",
   "mimetype": "text/x-python",
   "name": "python",
   "nbconvert_exporter": "python",
   "pygments_lexer": "ipython3",
   "version": "3.10.8"
  }
 },
 "nbformat": 4,
 "nbformat_minor": 5
}
